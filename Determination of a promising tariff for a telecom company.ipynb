{
 "cells": [
  {
   "cell_type": "markdown",
   "metadata": {},
   "source": [
    "# Определение перспективного тарифа для телеком компании\n",
    "\n",
    "Описание проекта. \n",
    "\n",
    "Вы аналитик компании «Мегалайн» — федерального оператора сотовой связи. Клиентам предлагают два тарифных плана: «Смарт» и «Ультра». Чтобы скорректировать рекламный бюджет, коммерческий департамент хочет понять, какой тариф приносит больше денег.\n",
    "\n",
    "Вам предстоит сделать предварительный анализ тарифов на небольшой выборке клиентов. В вашем распоряжении данные 500 пользователей «Мегалайна»: кто они, откуда, каким тарифом пользуются, сколько звонков и сообщений каждый отправил за 2018 год. Нужно проанализировать поведение клиентов и сделать вывод — какой тариф лучше.\n",
    "\n",
    "Описание тарифов.\n",
    "\n",
    "Тариф «Смарт»\n",
    "\n",
    "1. Ежемесячная плата: 550 рублей\n",
    "\n",
    "2. Включено 500 минут разговора, 50 сообщений и 15 Гб интернет-трафика\n",
    "\n",
    "3. Стоимость услуг сверх тарифного пакета: 1. минута разговора: 3 рубля («Мегалайн» всегда округляет вверх значения минут и мегабайтов. Если пользователь проговорил всего 1 секунду, в тарифе засчитывается целая минута); 2. сообщение: 3 рубля; 3. 1 Гб интернет-трафика: 200 рублей.\n",
    "\n",
    "Тариф «Ультра»\n",
    "\n",
    "1. Ежемесячная плата: 1950 рублей\n",
    "\n",
    "2. Включено 3000 минут разговора, 1000 сообщений и 30 Гб интернет-трафика\n",
    "\n",
    "3. Стоимость услуг сверх тарифного пакета: 1. минута разговора: 1 рубль; 2. сообщение: 1 рубль; 3. 1 Гб интернет-трафика: 150 рублей."
   ]
  },
  {
   "cell_type": "markdown",
   "metadata": {},
   "source": [
    "## Изучение данных из файла"
   ]
  },
  {
   "cell_type": "markdown",
   "metadata": {},
   "source": [
    "Импортируем библиотеки."
   ]
  },
  {
   "cell_type": "code",
   "execution_count": 1,
   "metadata": {},
   "outputs": [],
   "source": [
    "import pandas as pd\n",
    "import numpy as np\n",
    "import datetime\n",
    "import matplotlib.pyplot as plt\n",
    "from scipy import stats as st\n",
    "pd.set_option('display.max_columns', None)\n",
    "import warnings\n",
    "warnings.filterwarnings(\"ignore\")"
   ]
  },
  {
   "cell_type": "markdown",
   "metadata": {},
   "source": [
    "Пре"
   ]
  },
  {
   "cell_type": "code",
   "execution_count": 2,
   "metadata": {},
   "outputs": [],
   "source": [
    "df_calls = pd.read_csv('/datasets/calls.csv')\n",
    "df_internet = pd.read_csv('/datasets/internet.csv')\n",
    "df_messages = pd.read_csv('/datasets/messages.csv')\n",
    "df_tariffs = pd.read_csv('/datasets/tariffs.csv')\n",
    "df_users = pd.read_csv('/datasets/users.csv')"
   ]
  },
  {
   "cell_type": "markdown",
   "metadata": {},
   "source": [
    "Информация по df_calls."
   ]
  },
  {
   "cell_type": "code",
   "execution_count": 3,
   "metadata": {},
   "outputs": [
    {
     "data": {
      "text/html": [
       "<div>\n",
       "<style scoped>\n",
       "    .dataframe tbody tr th:only-of-type {\n",
       "        vertical-align: middle;\n",
       "    }\n",
       "\n",
       "    .dataframe tbody tr th {\n",
       "        vertical-align: top;\n",
       "    }\n",
       "\n",
       "    .dataframe thead th {\n",
       "        text-align: right;\n",
       "    }\n",
       "</style>\n",
       "<table border=\"1\" class=\"dataframe\">\n",
       "  <thead>\n",
       "    <tr style=\"text-align: right;\">\n",
       "      <th></th>\n",
       "      <th>id</th>\n",
       "      <th>call_date</th>\n",
       "      <th>duration</th>\n",
       "      <th>user_id</th>\n",
       "    </tr>\n",
       "  </thead>\n",
       "  <tbody>\n",
       "    <tr>\n",
       "      <td>0</td>\n",
       "      <td>1000_0</td>\n",
       "      <td>2018-07-25</td>\n",
       "      <td>0.00</td>\n",
       "      <td>1000</td>\n",
       "    </tr>\n",
       "    <tr>\n",
       "      <td>1</td>\n",
       "      <td>1000_1</td>\n",
       "      <td>2018-08-17</td>\n",
       "      <td>0.00</td>\n",
       "      <td>1000</td>\n",
       "    </tr>\n",
       "    <tr>\n",
       "      <td>2</td>\n",
       "      <td>1000_2</td>\n",
       "      <td>2018-06-11</td>\n",
       "      <td>2.85</td>\n",
       "      <td>1000</td>\n",
       "    </tr>\n",
       "    <tr>\n",
       "      <td>3</td>\n",
       "      <td>1000_3</td>\n",
       "      <td>2018-09-21</td>\n",
       "      <td>13.80</td>\n",
       "      <td>1000</td>\n",
       "    </tr>\n",
       "    <tr>\n",
       "      <td>4</td>\n",
       "      <td>1000_4</td>\n",
       "      <td>2018-12-15</td>\n",
       "      <td>5.18</td>\n",
       "      <td>1000</td>\n",
       "    </tr>\n",
       "  </tbody>\n",
       "</table>\n",
       "</div>"
      ],
      "text/plain": [
       "       id   call_date  duration  user_id\n",
       "0  1000_0  2018-07-25      0.00     1000\n",
       "1  1000_1  2018-08-17      0.00     1000\n",
       "2  1000_2  2018-06-11      2.85     1000\n",
       "3  1000_3  2018-09-21     13.80     1000\n",
       "4  1000_4  2018-12-15      5.18     1000"
      ]
     },
     "metadata": {},
     "output_type": "display_data"
    },
    {
     "name": "stdout",
     "output_type": "stream",
     "text": [
      "<class 'pandas.core.frame.DataFrame'>\n",
      "RangeIndex: 202607 entries, 0 to 202606\n",
      "Data columns (total 4 columns):\n",
      "id           202607 non-null object\n",
      "call_date    202607 non-null object\n",
      "duration     202607 non-null float64\n",
      "user_id      202607 non-null int64\n",
      "dtypes: float64(1), int64(1), object(2)\n",
      "memory usage: 6.2+ MB\n",
      "None\n"
     ]
    }
   ],
   "source": [
    "display(df_calls.head())\n",
    "print(df_calls.info())"
   ]
  },
  {
   "cell_type": "markdown",
   "metadata": {},
   "source": [
    "В df_calls есть следующие столбцы:\n",
    "* `id` — уникальный номер звонка\n",
    "* `call_date` — дата звонка\n",
    "* `duration` — длительность звонка в минутах\n",
    "* `user_id` — идентификатор пользователя, сделавшего звонок"
   ]
  },
  {
   "cell_type": "markdown",
   "metadata": {},
   "source": [
    "Информация по df_internet."
   ]
  },
  {
   "cell_type": "code",
   "execution_count": 4,
   "metadata": {},
   "outputs": [
    {
     "data": {
      "text/html": [
       "<div>\n",
       "<style scoped>\n",
       "    .dataframe tbody tr th:only-of-type {\n",
       "        vertical-align: middle;\n",
       "    }\n",
       "\n",
       "    .dataframe tbody tr th {\n",
       "        vertical-align: top;\n",
       "    }\n",
       "\n",
       "    .dataframe thead th {\n",
       "        text-align: right;\n",
       "    }\n",
       "</style>\n",
       "<table border=\"1\" class=\"dataframe\">\n",
       "  <thead>\n",
       "    <tr style=\"text-align: right;\">\n",
       "      <th></th>\n",
       "      <th>Unnamed: 0</th>\n",
       "      <th>id</th>\n",
       "      <th>mb_used</th>\n",
       "      <th>session_date</th>\n",
       "      <th>user_id</th>\n",
       "    </tr>\n",
       "  </thead>\n",
       "  <tbody>\n",
       "    <tr>\n",
       "      <td>0</td>\n",
       "      <td>0</td>\n",
       "      <td>1000_0</td>\n",
       "      <td>112.95</td>\n",
       "      <td>2018-11-25</td>\n",
       "      <td>1000</td>\n",
       "    </tr>\n",
       "    <tr>\n",
       "      <td>1</td>\n",
       "      <td>1</td>\n",
       "      <td>1000_1</td>\n",
       "      <td>1052.81</td>\n",
       "      <td>2018-09-07</td>\n",
       "      <td>1000</td>\n",
       "    </tr>\n",
       "    <tr>\n",
       "      <td>2</td>\n",
       "      <td>2</td>\n",
       "      <td>1000_2</td>\n",
       "      <td>1197.26</td>\n",
       "      <td>2018-06-25</td>\n",
       "      <td>1000</td>\n",
       "    </tr>\n",
       "    <tr>\n",
       "      <td>3</td>\n",
       "      <td>3</td>\n",
       "      <td>1000_3</td>\n",
       "      <td>550.27</td>\n",
       "      <td>2018-08-22</td>\n",
       "      <td>1000</td>\n",
       "    </tr>\n",
       "    <tr>\n",
       "      <td>4</td>\n",
       "      <td>4</td>\n",
       "      <td>1000_4</td>\n",
       "      <td>302.56</td>\n",
       "      <td>2018-09-24</td>\n",
       "      <td>1000</td>\n",
       "    </tr>\n",
       "  </tbody>\n",
       "</table>\n",
       "</div>"
      ],
      "text/plain": [
       "   Unnamed: 0      id  mb_used session_date  user_id\n",
       "0           0  1000_0   112.95   2018-11-25     1000\n",
       "1           1  1000_1  1052.81   2018-09-07     1000\n",
       "2           2  1000_2  1197.26   2018-06-25     1000\n",
       "3           3  1000_3   550.27   2018-08-22     1000\n",
       "4           4  1000_4   302.56   2018-09-24     1000"
      ]
     },
     "metadata": {},
     "output_type": "display_data"
    },
    {
     "name": "stdout",
     "output_type": "stream",
     "text": [
      "<class 'pandas.core.frame.DataFrame'>\n",
      "RangeIndex: 149396 entries, 0 to 149395\n",
      "Data columns (total 5 columns):\n",
      "Unnamed: 0      149396 non-null int64\n",
      "id              149396 non-null object\n",
      "mb_used         149396 non-null float64\n",
      "session_date    149396 non-null object\n",
      "user_id         149396 non-null int64\n",
      "dtypes: float64(1), int64(2), object(2)\n",
      "memory usage: 5.7+ MB\n",
      "None\n"
     ]
    }
   ],
   "source": [
    "display(df_internet.head())\n",
    "print(df_internet.info())"
   ]
  },
  {
   "cell_type": "markdown",
   "metadata": {},
   "source": [
    "В df_internet есть следующие столбцы:\n",
    "* `id` — уникальный номер сессии\n",
    "* `mb_used` — объём потраченного за сессию интернет-трафика (в мегабайтах)\n",
    "* `session_date` — дата интернет-сессии\n",
    "* `user_id` — идентификатор пользователя"
   ]
  },
  {
   "cell_type": "markdown",
   "metadata": {},
   "source": [
    "Информация по df_messages."
   ]
  },
  {
   "cell_type": "code",
   "execution_count": 5,
   "metadata": {},
   "outputs": [
    {
     "data": {
      "text/html": [
       "<div>\n",
       "<style scoped>\n",
       "    .dataframe tbody tr th:only-of-type {\n",
       "        vertical-align: middle;\n",
       "    }\n",
       "\n",
       "    .dataframe tbody tr th {\n",
       "        vertical-align: top;\n",
       "    }\n",
       "\n",
       "    .dataframe thead th {\n",
       "        text-align: right;\n",
       "    }\n",
       "</style>\n",
       "<table border=\"1\" class=\"dataframe\">\n",
       "  <thead>\n",
       "    <tr style=\"text-align: right;\">\n",
       "      <th></th>\n",
       "      <th>id</th>\n",
       "      <th>message_date</th>\n",
       "      <th>user_id</th>\n",
       "    </tr>\n",
       "  </thead>\n",
       "  <tbody>\n",
       "    <tr>\n",
       "      <td>0</td>\n",
       "      <td>1000_0</td>\n",
       "      <td>2018-06-27</td>\n",
       "      <td>1000</td>\n",
       "    </tr>\n",
       "    <tr>\n",
       "      <td>1</td>\n",
       "      <td>1000_1</td>\n",
       "      <td>2018-10-08</td>\n",
       "      <td>1000</td>\n",
       "    </tr>\n",
       "    <tr>\n",
       "      <td>2</td>\n",
       "      <td>1000_2</td>\n",
       "      <td>2018-08-04</td>\n",
       "      <td>1000</td>\n",
       "    </tr>\n",
       "    <tr>\n",
       "      <td>3</td>\n",
       "      <td>1000_3</td>\n",
       "      <td>2018-06-16</td>\n",
       "      <td>1000</td>\n",
       "    </tr>\n",
       "    <tr>\n",
       "      <td>4</td>\n",
       "      <td>1000_4</td>\n",
       "      <td>2018-12-05</td>\n",
       "      <td>1000</td>\n",
       "    </tr>\n",
       "  </tbody>\n",
       "</table>\n",
       "</div>"
      ],
      "text/plain": [
       "       id message_date  user_id\n",
       "0  1000_0   2018-06-27     1000\n",
       "1  1000_1   2018-10-08     1000\n",
       "2  1000_2   2018-08-04     1000\n",
       "3  1000_3   2018-06-16     1000\n",
       "4  1000_4   2018-12-05     1000"
      ]
     },
     "metadata": {},
     "output_type": "display_data"
    },
    {
     "name": "stdout",
     "output_type": "stream",
     "text": [
      "<class 'pandas.core.frame.DataFrame'>\n",
      "RangeIndex: 123036 entries, 0 to 123035\n",
      "Data columns (total 3 columns):\n",
      "id              123036 non-null object\n",
      "message_date    123036 non-null object\n",
      "user_id         123036 non-null int64\n",
      "dtypes: int64(1), object(2)\n",
      "memory usage: 2.8+ MB\n",
      "None\n"
     ]
    }
   ],
   "source": [
    "display(df_messages.head())\n",
    "print(df_messages.info())"
   ]
  },
  {
   "cell_type": "markdown",
   "metadata": {},
   "source": [
    "В df_messages есть следующие столбцы:\n",
    "* `id` — уникальный номер сообщения\n",
    "* `message_date` — дата сообщения\n",
    "* `user_id` — идентификатор пользователя, отправившего сообщение"
   ]
  },
  {
   "cell_type": "markdown",
   "metadata": {},
   "source": [
    "Информация по df_tariffs."
   ]
  },
  {
   "cell_type": "code",
   "execution_count": 6,
   "metadata": {},
   "outputs": [
    {
     "data": {
      "text/html": [
       "<div>\n",
       "<style scoped>\n",
       "    .dataframe tbody tr th:only-of-type {\n",
       "        vertical-align: middle;\n",
       "    }\n",
       "\n",
       "    .dataframe tbody tr th {\n",
       "        vertical-align: top;\n",
       "    }\n",
       "\n",
       "    .dataframe thead th {\n",
       "        text-align: right;\n",
       "    }\n",
       "</style>\n",
       "<table border=\"1\" class=\"dataframe\">\n",
       "  <thead>\n",
       "    <tr style=\"text-align: right;\">\n",
       "      <th></th>\n",
       "      <th>messages_included</th>\n",
       "      <th>mb_per_month_included</th>\n",
       "      <th>minutes_included</th>\n",
       "      <th>rub_monthly_fee</th>\n",
       "      <th>rub_per_gb</th>\n",
       "      <th>rub_per_message</th>\n",
       "      <th>rub_per_minute</th>\n",
       "      <th>tariff_name</th>\n",
       "    </tr>\n",
       "  </thead>\n",
       "  <tbody>\n",
       "    <tr>\n",
       "      <td>0</td>\n",
       "      <td>50</td>\n",
       "      <td>15360</td>\n",
       "      <td>500</td>\n",
       "      <td>550</td>\n",
       "      <td>200</td>\n",
       "      <td>3</td>\n",
       "      <td>3</td>\n",
       "      <td>smart</td>\n",
       "    </tr>\n",
       "    <tr>\n",
       "      <td>1</td>\n",
       "      <td>1000</td>\n",
       "      <td>30720</td>\n",
       "      <td>3000</td>\n",
       "      <td>1950</td>\n",
       "      <td>150</td>\n",
       "      <td>1</td>\n",
       "      <td>1</td>\n",
       "      <td>ultra</td>\n",
       "    </tr>\n",
       "  </tbody>\n",
       "</table>\n",
       "</div>"
      ],
      "text/plain": [
       "   messages_included  mb_per_month_included  minutes_included  \\\n",
       "0                 50                  15360               500   \n",
       "1               1000                  30720              3000   \n",
       "\n",
       "   rub_monthly_fee  rub_per_gb  rub_per_message  rub_per_minute tariff_name  \n",
       "0              550         200                3               3       smart  \n",
       "1             1950         150                1               1       ultra  "
      ]
     },
     "metadata": {},
     "output_type": "display_data"
    },
    {
     "name": "stdout",
     "output_type": "stream",
     "text": [
      "<class 'pandas.core.frame.DataFrame'>\n",
      "RangeIndex: 2 entries, 0 to 1\n",
      "Data columns (total 8 columns):\n",
      "messages_included        2 non-null int64\n",
      "mb_per_month_included    2 non-null int64\n",
      "minutes_included         2 non-null int64\n",
      "rub_monthly_fee          2 non-null int64\n",
      "rub_per_gb               2 non-null int64\n",
      "rub_per_message          2 non-null int64\n",
      "rub_per_minute           2 non-null int64\n",
      "tariff_name              2 non-null object\n",
      "dtypes: int64(7), object(1)\n",
      "memory usage: 256.0+ bytes\n",
      "None\n"
     ]
    }
   ],
   "source": [
    "display(df_tariffs.head())\n",
    "print(df_tariffs.info())"
   ]
  },
  {
   "cell_type": "markdown",
   "metadata": {},
   "source": [
    "В df_tariffs есть следующие столбцы:\n",
    "* `tariff_name` — название тарифа\n",
    "* `rub_monthly_fee` — ежемесячная абонентская плата в рублях\n",
    "* `minutes_included` — количество минут разговора в месяц, включённых в абонентскую плату\n",
    "* `messages_included` — количество сообщений в месяц, включённых в абонентскую плату\n",
    "* `mb_per_month_included` — объём интернет-трафика, включённого в абонентскую плату (в мегабайтах)\n",
    "* `rub_per_minute` — стоимость минуты разговора сверх тарифного пакета (например, если в тарифе 100 минут разговора в месяц, то со 101 минуты будет взиматься плата)\n",
    "* `rub_per_message` — стоимость отправки сообщения сверх тарифного пакета\n",
    "* `rub_per_gb` — стоимость дополнительного гигабайта интернет-трафика сверх тарифного пакета (1 гигабайт = 1024 мегабайта)"
   ]
  },
  {
   "cell_type": "markdown",
   "metadata": {},
   "source": [
    "Информация по df_users."
   ]
  },
  {
   "cell_type": "code",
   "execution_count": 7,
   "metadata": {},
   "outputs": [
    {
     "data": {
      "text/html": [
       "<div>\n",
       "<style scoped>\n",
       "    .dataframe tbody tr th:only-of-type {\n",
       "        vertical-align: middle;\n",
       "    }\n",
       "\n",
       "    .dataframe tbody tr th {\n",
       "        vertical-align: top;\n",
       "    }\n",
       "\n",
       "    .dataframe thead th {\n",
       "        text-align: right;\n",
       "    }\n",
       "</style>\n",
       "<table border=\"1\" class=\"dataframe\">\n",
       "  <thead>\n",
       "    <tr style=\"text-align: right;\">\n",
       "      <th></th>\n",
       "      <th>user_id</th>\n",
       "      <th>age</th>\n",
       "      <th>churn_date</th>\n",
       "      <th>city</th>\n",
       "      <th>first_name</th>\n",
       "      <th>last_name</th>\n",
       "      <th>reg_date</th>\n",
       "      <th>tariff</th>\n",
       "    </tr>\n",
       "  </thead>\n",
       "  <tbody>\n",
       "    <tr>\n",
       "      <td>0</td>\n",
       "      <td>1000</td>\n",
       "      <td>52</td>\n",
       "      <td>NaN</td>\n",
       "      <td>Краснодар</td>\n",
       "      <td>Рафаил</td>\n",
       "      <td>Верещагин</td>\n",
       "      <td>2018-05-25</td>\n",
       "      <td>ultra</td>\n",
       "    </tr>\n",
       "    <tr>\n",
       "      <td>1</td>\n",
       "      <td>1001</td>\n",
       "      <td>41</td>\n",
       "      <td>NaN</td>\n",
       "      <td>Москва</td>\n",
       "      <td>Иван</td>\n",
       "      <td>Ежов</td>\n",
       "      <td>2018-11-01</td>\n",
       "      <td>smart</td>\n",
       "    </tr>\n",
       "    <tr>\n",
       "      <td>2</td>\n",
       "      <td>1002</td>\n",
       "      <td>59</td>\n",
       "      <td>NaN</td>\n",
       "      <td>Стерлитамак</td>\n",
       "      <td>Евгений</td>\n",
       "      <td>Абрамович</td>\n",
       "      <td>2018-06-17</td>\n",
       "      <td>smart</td>\n",
       "    </tr>\n",
       "    <tr>\n",
       "      <td>3</td>\n",
       "      <td>1003</td>\n",
       "      <td>23</td>\n",
       "      <td>NaN</td>\n",
       "      <td>Москва</td>\n",
       "      <td>Белла</td>\n",
       "      <td>Белякова</td>\n",
       "      <td>2018-08-17</td>\n",
       "      <td>ultra</td>\n",
       "    </tr>\n",
       "    <tr>\n",
       "      <td>4</td>\n",
       "      <td>1004</td>\n",
       "      <td>68</td>\n",
       "      <td>NaN</td>\n",
       "      <td>Новокузнецк</td>\n",
       "      <td>Татьяна</td>\n",
       "      <td>Авдеенко</td>\n",
       "      <td>2018-05-14</td>\n",
       "      <td>ultra</td>\n",
       "    </tr>\n",
       "  </tbody>\n",
       "</table>\n",
       "</div>"
      ],
      "text/plain": [
       "   user_id  age churn_date         city first_name  last_name    reg_date  \\\n",
       "0     1000   52        NaN    Краснодар     Рафаил  Верещагин  2018-05-25   \n",
       "1     1001   41        NaN       Москва       Иван       Ежов  2018-11-01   \n",
       "2     1002   59        NaN  Стерлитамак    Евгений  Абрамович  2018-06-17   \n",
       "3     1003   23        NaN       Москва      Белла   Белякова  2018-08-17   \n",
       "4     1004   68        NaN  Новокузнецк    Татьяна   Авдеенко  2018-05-14   \n",
       "\n",
       "  tariff  \n",
       "0  ultra  \n",
       "1  smart  \n",
       "2  smart  \n",
       "3  ultra  \n",
       "4  ultra  "
      ]
     },
     "metadata": {},
     "output_type": "display_data"
    },
    {
     "name": "stdout",
     "output_type": "stream",
     "text": [
      "<class 'pandas.core.frame.DataFrame'>\n",
      "RangeIndex: 500 entries, 0 to 499\n",
      "Data columns (total 8 columns):\n",
      "user_id       500 non-null int64\n",
      "age           500 non-null int64\n",
      "churn_date    38 non-null object\n",
      "city          500 non-null object\n",
      "first_name    500 non-null object\n",
      "last_name     500 non-null object\n",
      "reg_date      500 non-null object\n",
      "tariff        500 non-null object\n",
      "dtypes: int64(2), object(6)\n",
      "memory usage: 31.4+ KB\n",
      "None\n"
     ]
    }
   ],
   "source": [
    "display(df_users.head())\n",
    "print(df_users.info())"
   ]
  },
  {
   "cell_type": "markdown",
   "metadata": {},
   "source": [
    "В df_users есть следующие столбцы:\n",
    "* `user_id` — уникальный идентификатор пользователя\n",
    "* `first_name` — имя пользователя\n",
    "* `last_name` — фамилия пользователя\n",
    "* `age` — возраст пользователя (годы)\n",
    "* `reg_date` — дата подключения тарифа (день, месяц, год)\n",
    "* `churn_date` — дата прекращения пользования тарифом (если значение пропущено, то тариф ещё действовал на момент выгрузки данных)\n",
    "* `city` — город проживания пользователя\n",
    "* `tariff` — название тарифного плана"
   ]
  },
  {
   "cell_type": "markdown",
   "metadata": {},
   "source": [
    "### Вывод"
   ]
  },
  {
   "cell_type": "markdown",
   "metadata": {},
   "source": [
    "* df_calls: встречаются нули в длительности звонка, столбец с датой звонка надо перевести в тип datetime.\n",
    "* internet: столбец session_date надо перевести в datetime.\n",
    "* df_messages: столбец message_date надо перевести в datetime.\n",
    "* df_tariffs: в данных есть пропуски.\n",
    "* df_users: в данных всё хорошо.\n",
    "\n",
    "Для удобства работы лучше будет объеденить данные в одну таблицу."
   ]
  },
  {
   "cell_type": "markdown",
   "metadata": {},
   "source": [
    "## Предобработка данных"
   ]
  },
  {
   "cell_type": "markdown",
   "metadata": {},
   "source": [
    "Напишем функцию to_datetime, которая будет переводить формат столбца к типу datetime."
   ]
  },
  {
   "cell_type": "code",
   "execution_count": 8,
   "metadata": {},
   "outputs": [],
   "source": [
    "def to_datetime(data, column):\n",
    "    data[column] = pd.to_datetime(data[column], format='%Y-%m-%d')"
   ]
  },
  {
   "cell_type": "markdown",
   "metadata": {},
   "source": [
    "Переведём столбцы с датами во всех таблицах к типу datetime."
   ]
  },
  {
   "cell_type": "code",
   "execution_count": 9,
   "metadata": {},
   "outputs": [],
   "source": [
    "to_datetime(df_calls, 'call_date')\n",
    "to_datetime(df_internet, 'session_date')\n",
    "to_datetime(df_messages, 'message_date')\n",
    "to_datetime(df_users, 'reg_date')\n",
    "to_datetime(df_users, 'churn_date')"
   ]
  },
  {
   "cell_type": "markdown",
   "metadata": {},
   "source": [
    "В df_calls в столбце duration встречаются нули, по примечанию из тз сказано, что тарификация поминутная, поэтому заменим все нули на единицы."
   ]
  },
  {
   "cell_type": "code",
   "execution_count": 10,
   "metadata": {},
   "outputs": [],
   "source": [
    "df_calls['duration'] = df_calls['duration'].replace(0, 1)"
   ]
  },
  {
   "cell_type": "markdown",
   "metadata": {},
   "source": [
    "Округлим значения столбцов с минутами разговора и траффиком интернета до целого вверх."
   ]
  },
  {
   "cell_type": "code",
   "execution_count": 11,
   "metadata": {},
   "outputs": [],
   "source": [
    "df_calls['duration'] = df_calls['duration'].apply(np.ceil)"
   ]
  },
  {
   "cell_type": "markdown",
   "metadata": {},
   "source": [
    "Для работы нам понадобится информация по месяцам некоторых таблиц, напишем функцию month_number, которая создаст в таблицах столбец с месяцем."
   ]
  },
  {
   "cell_type": "code",
   "execution_count": 13,
   "metadata": {},
   "outputs": [],
   "source": [
    "def month_number(data, column):\n",
    "    data['month'] = data[column].dt.month"
   ]
  },
  {
   "cell_type": "code",
   "execution_count": 14,
   "metadata": {},
   "outputs": [],
   "source": [
    "month_number(df_calls, 'call_date')\n",
    "month_number(df_messages, 'message_date')\n",
    "month_number(df_internet, 'session_date')"
   ]
  },
  {
   "cell_type": "markdown",
   "metadata": {},
   "source": [
    "### Количество сделанных звонков и израсходованных минут разговора по месяцам"
   ]
  },
  {
   "cell_type": "markdown",
   "metadata": {},
   "source": [
    "Объединим столбец df_tariffs и df_users."
   ]
  },
  {
   "cell_type": "code",
   "execution_count": 15,
   "metadata": {},
   "outputs": [
    {
     "data": {
      "text/html": [
       "<div>\n",
       "<style scoped>\n",
       "    .dataframe tbody tr th:only-of-type {\n",
       "        vertical-align: middle;\n",
       "    }\n",
       "\n",
       "    .dataframe tbody tr th {\n",
       "        vertical-align: top;\n",
       "    }\n",
       "\n",
       "    .dataframe thead th {\n",
       "        text-align: right;\n",
       "    }\n",
       "</style>\n",
       "<table border=\"1\" class=\"dataframe\">\n",
       "  <thead>\n",
       "    <tr style=\"text-align: right;\">\n",
       "      <th></th>\n",
       "      <th>messages_included</th>\n",
       "      <th>mb_per_month_included</th>\n",
       "      <th>minutes_included</th>\n",
       "      <th>rub_monthly_fee</th>\n",
       "      <th>rub_per_gb</th>\n",
       "      <th>rub_per_message</th>\n",
       "      <th>rub_per_minute</th>\n",
       "      <th>tariff_name</th>\n",
       "      <th>user_id</th>\n",
       "      <th>age</th>\n",
       "      <th>churn_date</th>\n",
       "      <th>city</th>\n",
       "      <th>first_name</th>\n",
       "      <th>last_name</th>\n",
       "      <th>reg_date</th>\n",
       "    </tr>\n",
       "  </thead>\n",
       "  <tbody>\n",
       "    <tr>\n",
       "      <td>0</td>\n",
       "      <td>50</td>\n",
       "      <td>15360</td>\n",
       "      <td>500</td>\n",
       "      <td>550</td>\n",
       "      <td>200</td>\n",
       "      <td>3</td>\n",
       "      <td>3</td>\n",
       "      <td>smart</td>\n",
       "      <td>1001</td>\n",
       "      <td>41</td>\n",
       "      <td>NaT</td>\n",
       "      <td>Москва</td>\n",
       "      <td>Иван</td>\n",
       "      <td>Ежов</td>\n",
       "      <td>2018-11-01</td>\n",
       "    </tr>\n",
       "    <tr>\n",
       "      <td>1</td>\n",
       "      <td>50</td>\n",
       "      <td>15360</td>\n",
       "      <td>500</td>\n",
       "      <td>550</td>\n",
       "      <td>200</td>\n",
       "      <td>3</td>\n",
       "      <td>3</td>\n",
       "      <td>smart</td>\n",
       "      <td>1002</td>\n",
       "      <td>59</td>\n",
       "      <td>NaT</td>\n",
       "      <td>Стерлитамак</td>\n",
       "      <td>Евгений</td>\n",
       "      <td>Абрамович</td>\n",
       "      <td>2018-06-17</td>\n",
       "    </tr>\n",
       "    <tr>\n",
       "      <td>2</td>\n",
       "      <td>50</td>\n",
       "      <td>15360</td>\n",
       "      <td>500</td>\n",
       "      <td>550</td>\n",
       "      <td>200</td>\n",
       "      <td>3</td>\n",
       "      <td>3</td>\n",
       "      <td>smart</td>\n",
       "      <td>1005</td>\n",
       "      <td>67</td>\n",
       "      <td>NaT</td>\n",
       "      <td>Набережные Челны</td>\n",
       "      <td>Афанасий</td>\n",
       "      <td>Горлов</td>\n",
       "      <td>2018-01-25</td>\n",
       "    </tr>\n",
       "    <tr>\n",
       "      <td>3</td>\n",
       "      <td>50</td>\n",
       "      <td>15360</td>\n",
       "      <td>500</td>\n",
       "      <td>550</td>\n",
       "      <td>200</td>\n",
       "      <td>3</td>\n",
       "      <td>3</td>\n",
       "      <td>smart</td>\n",
       "      <td>1006</td>\n",
       "      <td>21</td>\n",
       "      <td>NaT</td>\n",
       "      <td>Ульяновск</td>\n",
       "      <td>Леонид</td>\n",
       "      <td>Ермолаев</td>\n",
       "      <td>2018-02-26</td>\n",
       "    </tr>\n",
       "    <tr>\n",
       "      <td>4</td>\n",
       "      <td>50</td>\n",
       "      <td>15360</td>\n",
       "      <td>500</td>\n",
       "      <td>550</td>\n",
       "      <td>200</td>\n",
       "      <td>3</td>\n",
       "      <td>3</td>\n",
       "      <td>smart</td>\n",
       "      <td>1007</td>\n",
       "      <td>65</td>\n",
       "      <td>NaT</td>\n",
       "      <td>Москва</td>\n",
       "      <td>Юна</td>\n",
       "      <td>Березина</td>\n",
       "      <td>2018-04-19</td>\n",
       "    </tr>\n",
       "  </tbody>\n",
       "</table>\n",
       "</div>"
      ],
      "text/plain": [
       "   messages_included  mb_per_month_included  minutes_included  \\\n",
       "0                 50                  15360               500   \n",
       "1                 50                  15360               500   \n",
       "2                 50                  15360               500   \n",
       "3                 50                  15360               500   \n",
       "4                 50                  15360               500   \n",
       "\n",
       "   rub_monthly_fee  rub_per_gb  rub_per_message  rub_per_minute tariff_name  \\\n",
       "0              550         200                3               3       smart   \n",
       "1              550         200                3               3       smart   \n",
       "2              550         200                3               3       smart   \n",
       "3              550         200                3               3       smart   \n",
       "4              550         200                3               3       smart   \n",
       "\n",
       "   user_id  age churn_date              city first_name  last_name   reg_date  \n",
       "0     1001   41        NaT            Москва       Иван       Ежов 2018-11-01  \n",
       "1     1002   59        NaT       Стерлитамак    Евгений  Абрамович 2018-06-17  \n",
       "2     1005   67        NaT  Набережные Челны   Афанасий     Горлов 2018-01-25  \n",
       "3     1006   21        NaT         Ульяновск     Леонид   Ермолаев 2018-02-26  \n",
       "4     1007   65        NaT            Москва        Юна   Березина 2018-04-19  "
      ]
     },
     "metadata": {},
     "output_type": "display_data"
    }
   ],
   "source": [
    "df_users.set_axis(['user_id', 'age', 'churn_date', 'city', 'first_name', 'last_name', 'reg_date', 'tariff_name'], axis = 'columns', inplace = True)\n",
    "\n",
    "table_user_tar = df_tariffs\n",
    "table_user_tar = table_user_tar.merge(df_users, on = ['tariff_name'], how = 'left')\n",
    "\n",
    "display(table_user_tar.head())"
   ]
  },
  {
   "cell_type": "markdown",
   "metadata": {},
   "source": [
    "Сохраним в переменных отдельно пользователей двух тарифных планов."
   ]
  },
  {
   "cell_type": "code",
   "execution_count": 16,
   "metadata": {},
   "outputs": [
    {
     "name": "stdout",
     "output_type": "stream",
     "text": [
      "Количество пользователей тарифа Smart: 351\n",
      "Количество пользователей тарифа Ultra: 149\n"
     ]
    }
   ],
   "source": [
    "table_user_tar_smart = table_user_tar.query('tariff_name == \"smart\"')\n",
    "table_user_tar_ultra = table_user_tar.query('tariff_name == \"ultra\"')\n",
    "\n",
    "print('Количество пользователей тарифа Smart:', len(table_user_tar_smart))\n",
    "print('Количество пользователей тарифа Ultra:', len(table_user_tar_ultra))"
   ]
  },
  {
   "cell_type": "markdown",
   "metadata": {},
   "source": [
    "Объеденим таблицу table_user_tar и df_calls."
   ]
  },
  {
   "cell_type": "code",
   "execution_count": 17,
   "metadata": {},
   "outputs": [
    {
     "data": {
      "text/html": [
       "<div>\n",
       "<style scoped>\n",
       "    .dataframe tbody tr th:only-of-type {\n",
       "        vertical-align: middle;\n",
       "    }\n",
       "\n",
       "    .dataframe tbody tr th {\n",
       "        vertical-align: top;\n",
       "    }\n",
       "\n",
       "    .dataframe thead th {\n",
       "        text-align: right;\n",
       "    }\n",
       "</style>\n",
       "<table border=\"1\" class=\"dataframe\">\n",
       "  <thead>\n",
       "    <tr style=\"text-align: right;\">\n",
       "      <th></th>\n",
       "      <th>messages_included</th>\n",
       "      <th>mb_per_month_included</th>\n",
       "      <th>minutes_included</th>\n",
       "      <th>rub_monthly_fee</th>\n",
       "      <th>rub_per_gb</th>\n",
       "      <th>rub_per_message</th>\n",
       "      <th>rub_per_minute</th>\n",
       "      <th>tariff_name</th>\n",
       "      <th>user_id</th>\n",
       "      <th>age</th>\n",
       "      <th>churn_date</th>\n",
       "      <th>city</th>\n",
       "      <th>first_name</th>\n",
       "      <th>last_name</th>\n",
       "      <th>reg_date</th>\n",
       "      <th>id</th>\n",
       "      <th>call_date</th>\n",
       "      <th>duration</th>\n",
       "      <th>month</th>\n",
       "    </tr>\n",
       "  </thead>\n",
       "  <tbody>\n",
       "    <tr>\n",
       "      <td>0</td>\n",
       "      <td>50</td>\n",
       "      <td>15360</td>\n",
       "      <td>500</td>\n",
       "      <td>550</td>\n",
       "      <td>200</td>\n",
       "      <td>3</td>\n",
       "      <td>3</td>\n",
       "      <td>smart</td>\n",
       "      <td>1001</td>\n",
       "      <td>41</td>\n",
       "      <td>NaT</td>\n",
       "      <td>Москва</td>\n",
       "      <td>Иван</td>\n",
       "      <td>Ежов</td>\n",
       "      <td>2018-11-01</td>\n",
       "      <td>1001_0</td>\n",
       "      <td>2018-11-13</td>\n",
       "      <td>11.0</td>\n",
       "      <td>11.0</td>\n",
       "    </tr>\n",
       "    <tr>\n",
       "      <td>1</td>\n",
       "      <td>50</td>\n",
       "      <td>15360</td>\n",
       "      <td>500</td>\n",
       "      <td>550</td>\n",
       "      <td>200</td>\n",
       "      <td>3</td>\n",
       "      <td>3</td>\n",
       "      <td>smart</td>\n",
       "      <td>1001</td>\n",
       "      <td>41</td>\n",
       "      <td>NaT</td>\n",
       "      <td>Москва</td>\n",
       "      <td>Иван</td>\n",
       "      <td>Ежов</td>\n",
       "      <td>2018-11-01</td>\n",
       "      <td>1001_1</td>\n",
       "      <td>2018-12-14</td>\n",
       "      <td>16.0</td>\n",
       "      <td>12.0</td>\n",
       "    </tr>\n",
       "    <tr>\n",
       "      <td>2</td>\n",
       "      <td>50</td>\n",
       "      <td>15360</td>\n",
       "      <td>500</td>\n",
       "      <td>550</td>\n",
       "      <td>200</td>\n",
       "      <td>3</td>\n",
       "      <td>3</td>\n",
       "      <td>smart</td>\n",
       "      <td>1001</td>\n",
       "      <td>41</td>\n",
       "      <td>NaT</td>\n",
       "      <td>Москва</td>\n",
       "      <td>Иван</td>\n",
       "      <td>Ежов</td>\n",
       "      <td>2018-11-01</td>\n",
       "      <td>1001_2</td>\n",
       "      <td>2018-11-20</td>\n",
       "      <td>3.0</td>\n",
       "      <td>11.0</td>\n",
       "    </tr>\n",
       "    <tr>\n",
       "      <td>3</td>\n",
       "      <td>50</td>\n",
       "      <td>15360</td>\n",
       "      <td>500</td>\n",
       "      <td>550</td>\n",
       "      <td>200</td>\n",
       "      <td>3</td>\n",
       "      <td>3</td>\n",
       "      <td>smart</td>\n",
       "      <td>1001</td>\n",
       "      <td>41</td>\n",
       "      <td>NaT</td>\n",
       "      <td>Москва</td>\n",
       "      <td>Иван</td>\n",
       "      <td>Ежов</td>\n",
       "      <td>2018-11-01</td>\n",
       "      <td>1001_3</td>\n",
       "      <td>2018-12-27</td>\n",
       "      <td>8.0</td>\n",
       "      <td>12.0</td>\n",
       "    </tr>\n",
       "    <tr>\n",
       "      <td>4</td>\n",
       "      <td>50</td>\n",
       "      <td>15360</td>\n",
       "      <td>500</td>\n",
       "      <td>550</td>\n",
       "      <td>200</td>\n",
       "      <td>3</td>\n",
       "      <td>3</td>\n",
       "      <td>smart</td>\n",
       "      <td>1001</td>\n",
       "      <td>41</td>\n",
       "      <td>NaT</td>\n",
       "      <td>Москва</td>\n",
       "      <td>Иван</td>\n",
       "      <td>Ежов</td>\n",
       "      <td>2018-11-01</td>\n",
       "      <td>1001_4</td>\n",
       "      <td>2018-11-19</td>\n",
       "      <td>20.0</td>\n",
       "      <td>11.0</td>\n",
       "    </tr>\n",
       "  </tbody>\n",
       "</table>\n",
       "</div>"
      ],
      "text/plain": [
       "   messages_included  mb_per_month_included  minutes_included  \\\n",
       "0                 50                  15360               500   \n",
       "1                 50                  15360               500   \n",
       "2                 50                  15360               500   \n",
       "3                 50                  15360               500   \n",
       "4                 50                  15360               500   \n",
       "\n",
       "   rub_monthly_fee  rub_per_gb  rub_per_message  rub_per_minute tariff_name  \\\n",
       "0              550         200                3               3       smart   \n",
       "1              550         200                3               3       smart   \n",
       "2              550         200                3               3       smart   \n",
       "3              550         200                3               3       smart   \n",
       "4              550         200                3               3       smart   \n",
       "\n",
       "   user_id  age churn_date    city first_name last_name   reg_date      id  \\\n",
       "0     1001   41        NaT  Москва       Иван      Ежов 2018-11-01  1001_0   \n",
       "1     1001   41        NaT  Москва       Иван      Ежов 2018-11-01  1001_1   \n",
       "2     1001   41        NaT  Москва       Иван      Ежов 2018-11-01  1001_2   \n",
       "3     1001   41        NaT  Москва       Иван      Ежов 2018-11-01  1001_3   \n",
       "4     1001   41        NaT  Москва       Иван      Ежов 2018-11-01  1001_4   \n",
       "\n",
       "   call_date  duration  month  \n",
       "0 2018-11-13      11.0   11.0  \n",
       "1 2018-12-14      16.0   12.0  \n",
       "2 2018-11-20       3.0   11.0  \n",
       "3 2018-12-27       8.0   12.0  \n",
       "4 2018-11-19      20.0   11.0  "
      ]
     },
     "metadata": {},
     "output_type": "display_data"
    }
   ],
   "source": [
    "user_call = table_user_tar.merge(df_calls, on = ['user_id'], how = 'left')\n",
    "display(user_call.head())"
   ]
  },
  {
   "cell_type": "markdown",
   "metadata": {},
   "source": [
    "Сохраним сводную таблицу пользователей с количеством звонков и суммой минут помесячно."
   ]
  },
  {
   "cell_type": "code",
   "execution_count": 18,
   "metadata": {},
   "outputs": [
    {
     "data": {
      "text/html": [
       "<div>\n",
       "<style scoped>\n",
       "    .dataframe tbody tr th:only-of-type {\n",
       "        vertical-align: middle;\n",
       "    }\n",
       "\n",
       "    .dataframe tbody tr th {\n",
       "        vertical-align: top;\n",
       "    }\n",
       "\n",
       "    .dataframe thead tr th {\n",
       "        text-align: left;\n",
       "    }\n",
       "\n",
       "    .dataframe thead tr:last-of-type th {\n",
       "        text-align: right;\n",
       "    }\n",
       "</style>\n",
       "<table border=\"1\" class=\"dataframe\">\n",
       "  <thead>\n",
       "    <tr>\n",
       "      <th></th>\n",
       "      <th></th>\n",
       "      <th>count</th>\n",
       "      <th>sum</th>\n",
       "    </tr>\n",
       "    <tr>\n",
       "      <th></th>\n",
       "      <th></th>\n",
       "      <th>duration</th>\n",
       "      <th>duration</th>\n",
       "    </tr>\n",
       "    <tr>\n",
       "      <th>user_id</th>\n",
       "      <th>month</th>\n",
       "      <th></th>\n",
       "      <th></th>\n",
       "    </tr>\n",
       "  </thead>\n",
       "  <tbody>\n",
       "    <tr>\n",
       "      <td>1475</td>\n",
       "      <td>5.0</td>\n",
       "      <td>33</td>\n",
       "      <td>298.0</td>\n",
       "    </tr>\n",
       "    <tr>\n",
       "      <td>1238</td>\n",
       "      <td>7.0</td>\n",
       "      <td>6</td>\n",
       "      <td>37.0</td>\n",
       "    </tr>\n",
       "    <tr>\n",
       "      <td>1392</td>\n",
       "      <td>7.0</td>\n",
       "      <td>68</td>\n",
       "      <td>462.0</td>\n",
       "    </tr>\n",
       "    <tr>\n",
       "      <td>1440</td>\n",
       "      <td>12.0</td>\n",
       "      <td>27</td>\n",
       "      <td>204.0</td>\n",
       "    </tr>\n",
       "    <tr>\n",
       "      <td>1224</td>\n",
       "      <td>8.0</td>\n",
       "      <td>66</td>\n",
       "      <td>521.0</td>\n",
       "    </tr>\n",
       "  </tbody>\n",
       "</table>\n",
       "</div>"
      ],
      "text/plain": [
       "                 count      sum\n",
       "              duration duration\n",
       "user_id month                  \n",
       "1475    5.0         33    298.0\n",
       "1238    7.0          6     37.0\n",
       "1392    7.0         68    462.0\n",
       "1440    12.0        27    204.0\n",
       "1224    8.0         66    521.0"
      ]
     },
     "execution_count": 18,
     "metadata": {},
     "output_type": "execute_result"
    }
   ],
   "source": [
    "user_call_sum = user_call.pivot_table(\n",
    "    index = ['user_id', 'month'], \n",
    "    values='duration', \n",
    "    aggfunc=['count', 'sum'])\n",
    "\n",
    "user_call_sum.sample(5)"
   ]
  },
  {
   "cell_type": "code",
   "execution_count": 19,
   "metadata": {},
   "outputs": [
    {
     "data": {
      "text/html": [
       "<div>\n",
       "<style scoped>\n",
       "    .dataframe tbody tr th:only-of-type {\n",
       "        vertical-align: middle;\n",
       "    }\n",
       "\n",
       "    .dataframe tbody tr th {\n",
       "        vertical-align: top;\n",
       "    }\n",
       "\n",
       "    .dataframe thead th {\n",
       "        text-align: right;\n",
       "    }\n",
       "</style>\n",
       "<table border=\"1\" class=\"dataframe\">\n",
       "  <thead>\n",
       "    <tr style=\"text-align: right;\">\n",
       "      <th></th>\n",
       "      <th></th>\n",
       "      <th>calls</th>\n",
       "      <th>minutes</th>\n",
       "    </tr>\n",
       "    <tr>\n",
       "      <th>user_id</th>\n",
       "      <th>month</th>\n",
       "      <th></th>\n",
       "      <th></th>\n",
       "    </tr>\n",
       "  </thead>\n",
       "  <tbody>\n",
       "    <tr>\n",
       "      <td rowspan=\"5\" valign=\"top\">1000</td>\n",
       "      <td>5</td>\n",
       "      <td>22</td>\n",
       "      <td>164.0</td>\n",
       "    </tr>\n",
       "    <tr>\n",
       "      <td>6</td>\n",
       "      <td>43</td>\n",
       "      <td>187.0</td>\n",
       "    </tr>\n",
       "    <tr>\n",
       "      <td>7</td>\n",
       "      <td>47</td>\n",
       "      <td>346.0</td>\n",
       "    </tr>\n",
       "    <tr>\n",
       "      <td>8</td>\n",
       "      <td>52</td>\n",
       "      <td>418.0</td>\n",
       "    </tr>\n",
       "    <tr>\n",
       "      <td>9</td>\n",
       "      <td>58</td>\n",
       "      <td>478.0</td>\n",
       "    </tr>\n",
       "  </tbody>\n",
       "</table>\n",
       "</div>"
      ],
      "text/plain": [
       "               calls  minutes\n",
       "user_id month                \n",
       "1000    5         22    164.0\n",
       "        6         43    187.0\n",
       "        7         47    346.0\n",
       "        8         52    418.0\n",
       "        9         58    478.0"
      ]
     },
     "execution_count": 19,
     "metadata": {},
     "output_type": "execute_result"
    }
   ],
   "source": [
    "calls_per_month = df_calls.groupby(['user_id', 'month']).agg({'duration': ['count', 'sum']})\n",
    "calls_per_month.columns = ['calls', 'minutes']\n",
    "calls_per_month.head()"
   ]
  },
  {
   "cell_type": "markdown",
   "metadata": {},
   "source": [
    "Объединим таблицу user_call_sum и user_call."
   ]
  },
  {
   "cell_type": "code",
   "execution_count": 20,
   "metadata": {},
   "outputs": [
    {
     "data": {
      "text/html": [
       "<div>\n",
       "<style scoped>\n",
       "    .dataframe tbody tr th:only-of-type {\n",
       "        vertical-align: middle;\n",
       "    }\n",
       "\n",
       "    .dataframe tbody tr th {\n",
       "        vertical-align: top;\n",
       "    }\n",
       "\n",
       "    .dataframe thead th {\n",
       "        text-align: right;\n",
       "    }\n",
       "</style>\n",
       "<table border=\"1\" class=\"dataframe\">\n",
       "  <thead>\n",
       "    <tr style=\"text-align: right;\">\n",
       "      <th></th>\n",
       "      <th>user_id</th>\n",
       "      <th>month</th>\n",
       "      <th>(count, duration)</th>\n",
       "      <th>(sum, duration)</th>\n",
       "      <th>messages_included</th>\n",
       "      <th>mb_per_month_included</th>\n",
       "      <th>minutes_included</th>\n",
       "      <th>rub_monthly_fee</th>\n",
       "      <th>rub_per_gb</th>\n",
       "      <th>rub_per_message</th>\n",
       "      <th>rub_per_minute</th>\n",
       "      <th>tariff_name</th>\n",
       "      <th>age</th>\n",
       "      <th>churn_date</th>\n",
       "      <th>city</th>\n",
       "      <th>first_name</th>\n",
       "      <th>last_name</th>\n",
       "      <th>reg_date</th>\n",
       "      <th>id</th>\n",
       "      <th>call_date</th>\n",
       "      <th>duration</th>\n",
       "    </tr>\n",
       "  </thead>\n",
       "  <tbody>\n",
       "    <tr>\n",
       "      <td>177411</td>\n",
       "      <td>1438</td>\n",
       "      <td>11.0</td>\n",
       "      <td>44</td>\n",
       "      <td>317.0</td>\n",
       "      <td>50</td>\n",
       "      <td>15360</td>\n",
       "      <td>500</td>\n",
       "      <td>550</td>\n",
       "      <td>200</td>\n",
       "      <td>3</td>\n",
       "      <td>3</td>\n",
       "      <td>smart</td>\n",
       "      <td>24</td>\n",
       "      <td>2018-12-24</td>\n",
       "      <td>Екатеринбург</td>\n",
       "      <td>Нателла</td>\n",
       "      <td>Бородина</td>\n",
       "      <td>2018-10-05</td>\n",
       "      <td>1438_117</td>\n",
       "      <td>2018-11-30</td>\n",
       "      <td>15.0</td>\n",
       "    </tr>\n",
       "    <tr>\n",
       "      <td>94055</td>\n",
       "      <td>1239</td>\n",
       "      <td>6.0</td>\n",
       "      <td>37</td>\n",
       "      <td>315.0</td>\n",
       "      <td>50</td>\n",
       "      <td>15360</td>\n",
       "      <td>500</td>\n",
       "      <td>550</td>\n",
       "      <td>200</td>\n",
       "      <td>3</td>\n",
       "      <td>3</td>\n",
       "      <td>smart</td>\n",
       "      <td>68</td>\n",
       "      <td>NaT</td>\n",
       "      <td>Самара</td>\n",
       "      <td>Даниил</td>\n",
       "      <td>Ёрохов</td>\n",
       "      <td>2018-06-12</td>\n",
       "      <td>1239_252</td>\n",
       "      <td>2018-06-26</td>\n",
       "      <td>21.0</td>\n",
       "    </tr>\n",
       "    <tr>\n",
       "      <td>166312</td>\n",
       "      <td>1409</td>\n",
       "      <td>12.0</td>\n",
       "      <td>102</td>\n",
       "      <td>693.0</td>\n",
       "      <td>50</td>\n",
       "      <td>15360</td>\n",
       "      <td>500</td>\n",
       "      <td>550</td>\n",
       "      <td>200</td>\n",
       "      <td>3</td>\n",
       "      <td>3</td>\n",
       "      <td>smart</td>\n",
       "      <td>42</td>\n",
       "      <td>NaT</td>\n",
       "      <td>Набережные Челны</td>\n",
       "      <td>Даниил</td>\n",
       "      <td>Алиев</td>\n",
       "      <td>2018-03-14</td>\n",
       "      <td>1409_449</td>\n",
       "      <td>2018-12-02</td>\n",
       "      <td>5.0</td>\n",
       "    </tr>\n",
       "    <tr>\n",
       "      <td>183032</td>\n",
       "      <td>1455</td>\n",
       "      <td>5.0</td>\n",
       "      <td>77</td>\n",
       "      <td>605.0</td>\n",
       "      <td>1000</td>\n",
       "      <td>30720</td>\n",
       "      <td>3000</td>\n",
       "      <td>1950</td>\n",
       "      <td>150</td>\n",
       "      <td>1</td>\n",
       "      <td>1</td>\n",
       "      <td>ultra</td>\n",
       "      <td>38</td>\n",
       "      <td>NaT</td>\n",
       "      <td>Балашиха</td>\n",
       "      <td>Рубен</td>\n",
       "      <td>Авринский</td>\n",
       "      <td>2018-03-22</td>\n",
       "      <td>1455_453</td>\n",
       "      <td>2018-05-22</td>\n",
       "      <td>13.0</td>\n",
       "    </tr>\n",
       "    <tr>\n",
       "      <td>20475</td>\n",
       "      <td>1054</td>\n",
       "      <td>12.0</td>\n",
       "      <td>91</td>\n",
       "      <td>616.0</td>\n",
       "      <td>50</td>\n",
       "      <td>15360</td>\n",
       "      <td>500</td>\n",
       "      <td>550</td>\n",
       "      <td>200</td>\n",
       "      <td>3</td>\n",
       "      <td>3</td>\n",
       "      <td>smart</td>\n",
       "      <td>33</td>\n",
       "      <td>NaT</td>\n",
       "      <td>Омск</td>\n",
       "      <td>Кристина</td>\n",
       "      <td>Платонова</td>\n",
       "      <td>2018-03-20</td>\n",
       "      <td>1054_570</td>\n",
       "      <td>2018-12-02</td>\n",
       "      <td>11.0</td>\n",
       "    </tr>\n",
       "  </tbody>\n",
       "</table>\n",
       "</div>"
      ],
      "text/plain": [
       "        user_id  month  (count, duration)  (sum, duration)  messages_included  \\\n",
       "177411     1438   11.0                 44            317.0                 50   \n",
       "94055      1239    6.0                 37            315.0                 50   \n",
       "166312     1409   12.0                102            693.0                 50   \n",
       "183032     1455    5.0                 77            605.0               1000   \n",
       "20475      1054   12.0                 91            616.0                 50   \n",
       "\n",
       "        mb_per_month_included  minutes_included  rub_monthly_fee  rub_per_gb  \\\n",
       "177411                  15360               500              550         200   \n",
       "94055                   15360               500              550         200   \n",
       "166312                  15360               500              550         200   \n",
       "183032                  30720              3000             1950         150   \n",
       "20475                   15360               500              550         200   \n",
       "\n",
       "        rub_per_message  rub_per_minute tariff_name  age churn_date  \\\n",
       "177411                3               3       smart   24 2018-12-24   \n",
       "94055                 3               3       smart   68        NaT   \n",
       "166312                3               3       smart   42        NaT   \n",
       "183032                1               1       ultra   38        NaT   \n",
       "20475                 3               3       smart   33        NaT   \n",
       "\n",
       "                    city first_name  last_name   reg_date        id  \\\n",
       "177411      Екатеринбург    Нателла   Бородина 2018-10-05  1438_117   \n",
       "94055             Самара     Даниил     Ёрохов 2018-06-12  1239_252   \n",
       "166312  Набережные Челны     Даниил      Алиев 2018-03-14  1409_449   \n",
       "183032          Балашиха      Рубен  Авринский 2018-03-22  1455_453   \n",
       "20475               Омск   Кристина  Платонова 2018-03-20  1054_570   \n",
       "\n",
       "        call_date  duration  \n",
       "177411 2018-11-30      15.0  \n",
       "94055  2018-06-26      21.0  \n",
       "166312 2018-12-02       5.0  \n",
       "183032 2018-05-22      13.0  \n",
       "20475  2018-12-02      11.0  "
      ]
     },
     "execution_count": 20,
     "metadata": {},
     "output_type": "execute_result"
    }
   ],
   "source": [
    "table_user_call = user_call_sum\n",
    "for df in [user_call]:\n",
    "    table_user_call = table_user_call.merge(df, on = ['user_id', 'month'], how = 'left')\n",
    "    \n",
    "table_user_call.sample(5)"
   ]
  },
  {
   "cell_type": "markdown",
   "metadata": {},
   "source": [
    "Сохраним сводную таблицу pivot_call с данными о тарифах и статистике звонков."
   ]
  },
  {
   "cell_type": "code",
   "execution_count": 21,
   "metadata": {
    "scrolled": true
   },
   "outputs": [
    {
     "data": {
      "text/html": [
       "<div>\n",
       "<style scoped>\n",
       "    .dataframe tbody tr th:only-of-type {\n",
       "        vertical-align: middle;\n",
       "    }\n",
       "\n",
       "    .dataframe tbody tr th {\n",
       "        vertical-align: top;\n",
       "    }\n",
       "\n",
       "    .dataframe thead tr th {\n",
       "        text-align: left;\n",
       "    }\n",
       "\n",
       "    .dataframe thead tr:last-of-type th {\n",
       "        text-align: right;\n",
       "    }\n",
       "</style>\n",
       "<table border=\"1\" class=\"dataframe\">\n",
       "  <thead>\n",
       "    <tr>\n",
       "      <th></th>\n",
       "      <th></th>\n",
       "      <th></th>\n",
       "      <th></th>\n",
       "      <th></th>\n",
       "      <th></th>\n",
       "      <th></th>\n",
       "      <th></th>\n",
       "      <th></th>\n",
       "      <th></th>\n",
       "      <th></th>\n",
       "      <th></th>\n",
       "      <th>count</th>\n",
       "      <th>sum</th>\n",
       "    </tr>\n",
       "    <tr>\n",
       "      <th></th>\n",
       "      <th></th>\n",
       "      <th></th>\n",
       "      <th></th>\n",
       "      <th></th>\n",
       "      <th></th>\n",
       "      <th></th>\n",
       "      <th></th>\n",
       "      <th></th>\n",
       "      <th></th>\n",
       "      <th></th>\n",
       "      <th></th>\n",
       "      <th>duration</th>\n",
       "      <th>duration</th>\n",
       "    </tr>\n",
       "    <tr>\n",
       "      <th>user_id</th>\n",
       "      <th>age</th>\n",
       "      <th>city</th>\n",
       "      <th>month</th>\n",
       "      <th>tariff_name</th>\n",
       "      <th>rub_monthly_fee</th>\n",
       "      <th>minutes_included</th>\n",
       "      <th>messages_included</th>\n",
       "      <th>rub_per_message</th>\n",
       "      <th>rub_per_gb</th>\n",
       "      <th>rub_per_minute</th>\n",
       "      <th>mb_per_month_included</th>\n",
       "      <th></th>\n",
       "      <th></th>\n",
       "    </tr>\n",
       "  </thead>\n",
       "  <tbody>\n",
       "    <tr>\n",
       "      <td>1308</td>\n",
       "      <td>52</td>\n",
       "      <td>Москва</td>\n",
       "      <td>4.0</td>\n",
       "      <td>smart</td>\n",
       "      <td>550</td>\n",
       "      <td>500</td>\n",
       "      <td>50</td>\n",
       "      <td>3</td>\n",
       "      <td>200</td>\n",
       "      <td>3</td>\n",
       "      <td>15360</td>\n",
       "      <td>28</td>\n",
       "      <td>207.0</td>\n",
       "    </tr>\n",
       "    <tr>\n",
       "      <td>1471</td>\n",
       "      <td>35</td>\n",
       "      <td>Вологда</td>\n",
       "      <td>10.0</td>\n",
       "      <td>ultra</td>\n",
       "      <td>1950</td>\n",
       "      <td>3000</td>\n",
       "      <td>1000</td>\n",
       "      <td>1</td>\n",
       "      <td>150</td>\n",
       "      <td>1</td>\n",
       "      <td>30720</td>\n",
       "      <td>75</td>\n",
       "      <td>569.0</td>\n",
       "    </tr>\n",
       "    <tr>\n",
       "      <td>1430</td>\n",
       "      <td>22</td>\n",
       "      <td>Тверь</td>\n",
       "      <td>5.0</td>\n",
       "      <td>ultra</td>\n",
       "      <td>1950</td>\n",
       "      <td>3000</td>\n",
       "      <td>1000</td>\n",
       "      <td>1</td>\n",
       "      <td>150</td>\n",
       "      <td>1</td>\n",
       "      <td>30720</td>\n",
       "      <td>42</td>\n",
       "      <td>292.0</td>\n",
       "    </tr>\n",
       "    <tr>\n",
       "      <td>1482</td>\n",
       "      <td>68</td>\n",
       "      <td>Санкт-Петербург</td>\n",
       "      <td>10.0</td>\n",
       "      <td>smart</td>\n",
       "      <td>550</td>\n",
       "      <td>500</td>\n",
       "      <td>50</td>\n",
       "      <td>3</td>\n",
       "      <td>200</td>\n",
       "      <td>3</td>\n",
       "      <td>15360</td>\n",
       "      <td>41</td>\n",
       "      <td>311.0</td>\n",
       "    </tr>\n",
       "    <tr>\n",
       "      <td>1452</td>\n",
       "      <td>74</td>\n",
       "      <td>Москва</td>\n",
       "      <td>8.0</td>\n",
       "      <td>ultra</td>\n",
       "      <td>1950</td>\n",
       "      <td>3000</td>\n",
       "      <td>1000</td>\n",
       "      <td>1</td>\n",
       "      <td>150</td>\n",
       "      <td>1</td>\n",
       "      <td>30720</td>\n",
       "      <td>22</td>\n",
       "      <td>157.0</td>\n",
       "    </tr>\n",
       "  </tbody>\n",
       "</table>\n",
       "</div>"
      ],
      "text/plain": [
       "                                                                                                                                                                    count  \\\n",
       "                                                                                                                                                                 duration   \n",
       "user_id age city            month tariff_name rub_monthly_fee minutes_included messages_included rub_per_message rub_per_gb rub_per_minute mb_per_month_included            \n",
       "1308    52  Москва          4.0   smart       550             500              50                3               200        3              15360                       28   \n",
       "1471    35  Вологда         10.0  ultra       1950            3000             1000              1               150        1              30720                       75   \n",
       "1430    22  Тверь           5.0   ultra       1950            3000             1000              1               150        1              30720                       42   \n",
       "1482    68  Санкт-Петербург 10.0  smart       550             500              50                3               200        3              15360                       41   \n",
       "1452    74  Москва          8.0   ultra       1950            3000             1000              1               150        1              30720                       22   \n",
       "\n",
       "                                                                                                                                                                      sum  \n",
       "                                                                                                                                                                 duration  \n",
       "user_id age city            month tariff_name rub_monthly_fee minutes_included messages_included rub_per_message rub_per_gb rub_per_minute mb_per_month_included           \n",
       "1308    52  Москва          4.0   smart       550             500              50                3               200        3              15360                    207.0  \n",
       "1471    35  Вологда         10.0  ultra       1950            3000             1000              1               150        1              30720                    569.0  \n",
       "1430    22  Тверь           5.0   ultra       1950            3000             1000              1               150        1              30720                    292.0  \n",
       "1482    68  Санкт-Петербург 10.0  smart       550             500              50                3               200        3              15360                    311.0  \n",
       "1452    74  Москва          8.0   ultra       1950            3000             1000              1               150        1              30720                    157.0  "
      ]
     },
     "execution_count": 21,
     "metadata": {},
     "output_type": "execute_result"
    }
   ],
   "source": [
    "pivot_call = table_user_call.pivot_table(\n",
    "    index = ['user_id', 'age', 'city', 'month', 'tariff_name', 'rub_monthly_fee', 'minutes_included', 'messages_included', 'rub_per_message', 'rub_per_gb', 'rub_per_minute', 'mb_per_month_included'], \n",
    "    values = ['duration'], \n",
    "    aggfunc = ['count', 'sum'])\n",
    "pivot_call.sample(5)"
   ]
  },
  {
   "cell_type": "markdown",
   "metadata": {},
   "source": [
    "### Количество отправленных сообщений по месяцам"
   ]
  },
  {
   "cell_type": "markdown",
   "metadata": {},
   "source": [
    "Объеденим таблицу table_user_tar и df_messages."
   ]
  },
  {
   "cell_type": "code",
   "execution_count": 22,
   "metadata": {},
   "outputs": [
    {
     "data": {
      "text/html": [
       "<div>\n",
       "<style scoped>\n",
       "    .dataframe tbody tr th:only-of-type {\n",
       "        vertical-align: middle;\n",
       "    }\n",
       "\n",
       "    .dataframe tbody tr th {\n",
       "        vertical-align: top;\n",
       "    }\n",
       "\n",
       "    .dataframe thead tr th {\n",
       "        text-align: left;\n",
       "    }\n",
       "\n",
       "    .dataframe thead tr:last-of-type th {\n",
       "        text-align: right;\n",
       "    }\n",
       "</style>\n",
       "<table border=\"1\" class=\"dataframe\">\n",
       "  <thead>\n",
       "    <tr>\n",
       "      <th></th>\n",
       "      <th></th>\n",
       "      <th>count</th>\n",
       "    </tr>\n",
       "    <tr>\n",
       "      <th></th>\n",
       "      <th></th>\n",
       "      <th>id</th>\n",
       "    </tr>\n",
       "    <tr>\n",
       "      <th>user_id</th>\n",
       "      <th>month</th>\n",
       "      <th></th>\n",
       "    </tr>\n",
       "  </thead>\n",
       "  <tbody>\n",
       "    <tr>\n",
       "      <td>1448</td>\n",
       "      <td>12.0</td>\n",
       "      <td>40</td>\n",
       "    </tr>\n",
       "    <tr>\n",
       "      <td>1427</td>\n",
       "      <td>5.0</td>\n",
       "      <td>12</td>\n",
       "    </tr>\n",
       "    <tr>\n",
       "      <td>1491</td>\n",
       "      <td>12.0</td>\n",
       "      <td>51</td>\n",
       "    </tr>\n",
       "    <tr>\n",
       "      <td>1096</td>\n",
       "      <td>12.0</td>\n",
       "      <td>67</td>\n",
       "    </tr>\n",
       "    <tr>\n",
       "      <td>1496</td>\n",
       "      <td>5.0</td>\n",
       "      <td>40</td>\n",
       "    </tr>\n",
       "    <tr>\n",
       "      <td>1431</td>\n",
       "      <td>5.0</td>\n",
       "      <td>98</td>\n",
       "    </tr>\n",
       "    <tr>\n",
       "      <td>1039</td>\n",
       "      <td>6.0</td>\n",
       "      <td>62</td>\n",
       "    </tr>\n",
       "    <tr>\n",
       "      <td>1106</td>\n",
       "      <td>7.0</td>\n",
       "      <td>24</td>\n",
       "    </tr>\n",
       "    <tr>\n",
       "      <td>1146</td>\n",
       "      <td>11.0</td>\n",
       "      <td>92</td>\n",
       "    </tr>\n",
       "    <tr>\n",
       "      <td>1030</td>\n",
       "      <td>11.0</td>\n",
       "      <td>91</td>\n",
       "    </tr>\n",
       "  </tbody>\n",
       "</table>\n",
       "</div>"
      ],
      "text/plain": [
       "              count\n",
       "                 id\n",
       "user_id month      \n",
       "1448    12.0     40\n",
       "1427    5.0      12\n",
       "1491    12.0     51\n",
       "1096    12.0     67\n",
       "1496    5.0      40\n",
       "1431    5.0      98\n",
       "1039    6.0      62\n",
       "1106    7.0      24\n",
       "1146    11.0     92\n",
       "1030    11.0     91"
      ]
     },
     "execution_count": 22,
     "metadata": {},
     "output_type": "execute_result"
    }
   ],
   "source": [
    "user_messages = table_user_tar.merge(\n",
    "    df_messages, \n",
    "    on = ['user_id'], \n",
    "    how = 'left')\n",
    "\n",
    "user_messages = user_messages.pivot_table(\n",
    "    index = ['user_id', 'month'], \n",
    "    values='id', \n",
    "    aggfunc=['count'])\n",
    "\n",
    "user_messages.sample(10)"
   ]
  },
  {
   "cell_type": "markdown",
   "metadata": {},
   "source": [
    "Соединим таблицы pivot_call и user_messages, сохраним в одной таблице merge."
   ]
  },
  {
   "cell_type": "code",
   "execution_count": 23,
   "metadata": {
    "scrolled": false
   },
   "outputs": [
    {
     "data": {
      "text/html": [
       "<div>\n",
       "<style scoped>\n",
       "    .dataframe tbody tr th:only-of-type {\n",
       "        vertical-align: middle;\n",
       "    }\n",
       "\n",
       "    .dataframe tbody tr th {\n",
       "        vertical-align: top;\n",
       "    }\n",
       "\n",
       "    .dataframe thead tr th {\n",
       "        text-align: left;\n",
       "    }\n",
       "\n",
       "    .dataframe thead tr:last-of-type th {\n",
       "        text-align: right;\n",
       "    }\n",
       "</style>\n",
       "<table border=\"1\" class=\"dataframe\">\n",
       "  <thead>\n",
       "    <tr>\n",
       "      <th></th>\n",
       "      <th></th>\n",
       "      <th></th>\n",
       "      <th></th>\n",
       "      <th></th>\n",
       "      <th></th>\n",
       "      <th></th>\n",
       "      <th></th>\n",
       "      <th></th>\n",
       "      <th></th>\n",
       "      <th></th>\n",
       "      <th></th>\n",
       "      <th>count</th>\n",
       "      <th>sum</th>\n",
       "      <th>count</th>\n",
       "    </tr>\n",
       "    <tr>\n",
       "      <th></th>\n",
       "      <th></th>\n",
       "      <th></th>\n",
       "      <th></th>\n",
       "      <th></th>\n",
       "      <th></th>\n",
       "      <th></th>\n",
       "      <th></th>\n",
       "      <th></th>\n",
       "      <th></th>\n",
       "      <th></th>\n",
       "      <th></th>\n",
       "      <th>duration</th>\n",
       "      <th>duration</th>\n",
       "      <th>id</th>\n",
       "    </tr>\n",
       "    <tr>\n",
       "      <th>user_id</th>\n",
       "      <th>month</th>\n",
       "      <th>rub_per_gb</th>\n",
       "      <th>minutes_included</th>\n",
       "      <th>rub_monthly_fee</th>\n",
       "      <th>messages_included</th>\n",
       "      <th>rub_per_minute</th>\n",
       "      <th>age</th>\n",
       "      <th>tariff_name</th>\n",
       "      <th>city</th>\n",
       "      <th>mb_per_month_included</th>\n",
       "      <th>rub_per_message</th>\n",
       "      <th></th>\n",
       "      <th></th>\n",
       "      <th></th>\n",
       "    </tr>\n",
       "  </thead>\n",
       "  <tbody>\n",
       "    <tr>\n",
       "      <td>1201</td>\n",
       "      <td>9.0</td>\n",
       "      <td>150</td>\n",
       "      <td>3000</td>\n",
       "      <td>1950</td>\n",
       "      <td>1000</td>\n",
       "      <td>1</td>\n",
       "      <td>32</td>\n",
       "      <td>ultra</td>\n",
       "      <td>Москва</td>\n",
       "      <td>30720</td>\n",
       "      <td>1</td>\n",
       "      <td>133.0</td>\n",
       "      <td>1071.0</td>\n",
       "      <td>NaN</td>\n",
       "    </tr>\n",
       "    <tr>\n",
       "      <td>1006</td>\n",
       "      <td>6.0</td>\n",
       "      <td>200</td>\n",
       "      <td>500</td>\n",
       "      <td>550</td>\n",
       "      <td>50</td>\n",
       "      <td>3</td>\n",
       "      <td>21</td>\n",
       "      <td>smart</td>\n",
       "      <td>Ульяновск</td>\n",
       "      <td>15360</td>\n",
       "      <td>3</td>\n",
       "      <td>53.0</td>\n",
       "      <td>483.0</td>\n",
       "      <td>NaN</td>\n",
       "    </tr>\n",
       "    <tr>\n",
       "      <td>1097</td>\n",
       "      <td>11.0</td>\n",
       "      <td>150</td>\n",
       "      <td>3000</td>\n",
       "      <td>1950</td>\n",
       "      <td>1000</td>\n",
       "      <td>1</td>\n",
       "      <td>29</td>\n",
       "      <td>ultra</td>\n",
       "      <td>Краснодар</td>\n",
       "      <td>30720</td>\n",
       "      <td>1</td>\n",
       "      <td>92.0</td>\n",
       "      <td>785.0</td>\n",
       "      <td>28.0</td>\n",
       "    </tr>\n",
       "    <tr>\n",
       "      <td>1466</td>\n",
       "      <td>3.0</td>\n",
       "      <td>150</td>\n",
       "      <td>3000</td>\n",
       "      <td>1950</td>\n",
       "      <td>1000</td>\n",
       "      <td>1</td>\n",
       "      <td>37</td>\n",
       "      <td>ultra</td>\n",
       "      <td>Новосибирск</td>\n",
       "      <td>30720</td>\n",
       "      <td>1</td>\n",
       "      <td>68.0</td>\n",
       "      <td>427.0</td>\n",
       "      <td>NaN</td>\n",
       "    </tr>\n",
       "    <tr>\n",
       "      <td>1483</td>\n",
       "      <td>10.0</td>\n",
       "      <td>200</td>\n",
       "      <td>500</td>\n",
       "      <td>550</td>\n",
       "      <td>50</td>\n",
       "      <td>3</td>\n",
       "      <td>28</td>\n",
       "      <td>smart</td>\n",
       "      <td>Ульяновск</td>\n",
       "      <td>15360</td>\n",
       "      <td>3</td>\n",
       "      <td>106.0</td>\n",
       "      <td>880.0</td>\n",
       "      <td>43.0</td>\n",
       "    </tr>\n",
       "  </tbody>\n",
       "</table>\n",
       "</div>"
      ],
      "text/plain": [
       "                                                                                                                                                                count  \\\n",
       "                                                                                                                                                             duration   \n",
       "user_id month rub_per_gb minutes_included rub_monthly_fee messages_included rub_per_minute age tariff_name city        mb_per_month_included rub_per_message            \n",
       "1201    9.0   150        3000             1950            1000              1              32  ultra       Москва      30720                 1                  133.0   \n",
       "1006    6.0   200        500              550             50                3              21  smart       Ульяновск   15360                 3                   53.0   \n",
       "1097    11.0  150        3000             1950            1000              1              29  ultra       Краснодар   30720                 1                   92.0   \n",
       "1466    3.0   150        3000             1950            1000              1              37  ultra       Новосибирск 30720                 1                   68.0   \n",
       "1483    10.0  200        500              550             50                3              28  smart       Ульяновск   15360                 3                  106.0   \n",
       "\n",
       "                                                                                                                                                                  sum  \\\n",
       "                                                                                                                                                             duration   \n",
       "user_id month rub_per_gb minutes_included rub_monthly_fee messages_included rub_per_minute age tariff_name city        mb_per_month_included rub_per_message            \n",
       "1201    9.0   150        3000             1950            1000              1              32  ultra       Москва      30720                 1                 1071.0   \n",
       "1006    6.0   200        500              550             50                3              21  smart       Ульяновск   15360                 3                  483.0   \n",
       "1097    11.0  150        3000             1950            1000              1              29  ultra       Краснодар   30720                 1                  785.0   \n",
       "1466    3.0   150        3000             1950            1000              1              37  ultra       Новосибирск 30720                 1                  427.0   \n",
       "1483    10.0  200        500              550             50                3              28  smart       Ульяновск   15360                 3                  880.0   \n",
       "\n",
       "                                                                                                                                                             count  \n",
       "                                                                                                                                                                id  \n",
       "user_id month rub_per_gb minutes_included rub_monthly_fee messages_included rub_per_minute age tariff_name city        mb_per_month_included rub_per_message        \n",
       "1201    9.0   150        3000             1950            1000              1              32  ultra       Москва      30720                 1                 NaN  \n",
       "1006    6.0   200        500              550             50                3              21  smart       Ульяновск   15360                 3                 NaN  \n",
       "1097    11.0  150        3000             1950            1000              1              29  ultra       Краснодар   30720                 1                28.0  \n",
       "1466    3.0   150        3000             1950            1000              1              37  ultra       Новосибирск 30720                 1                 NaN  \n",
       "1483    10.0  200        500              550             50                3              28  smart       Ульяновск   15360                 3                43.0  "
      ]
     },
     "execution_count": 23,
     "metadata": {},
     "output_type": "execute_result"
    }
   ],
   "source": [
    "merge = pivot_call.join(user_messages, how='outer' )\n",
    "merge.sample(5)"
   ]
  },
  {
   "cell_type": "markdown",
   "metadata": {},
   "source": [
    "### Объем израсходованного интернет-трафика по месяцам"
   ]
  },
  {
   "cell_type": "markdown",
   "metadata": {},
   "source": [
    "Объеденим таблицу table_user_tar и df_internet."
   ]
  },
  {
   "cell_type": "code",
   "execution_count": 24,
   "metadata": {},
   "outputs": [
    {
     "data": {
      "text/html": [
       "<div>\n",
       "<style scoped>\n",
       "    .dataframe tbody tr th:only-of-type {\n",
       "        vertical-align: middle;\n",
       "    }\n",
       "\n",
       "    .dataframe tbody tr th {\n",
       "        vertical-align: top;\n",
       "    }\n",
       "\n",
       "    .dataframe thead tr th {\n",
       "        text-align: left;\n",
       "    }\n",
       "\n",
       "    .dataframe thead tr:last-of-type th {\n",
       "        text-align: right;\n",
       "    }\n",
       "</style>\n",
       "<table border=\"1\" class=\"dataframe\">\n",
       "  <thead>\n",
       "    <tr>\n",
       "      <th></th>\n",
       "      <th></th>\n",
       "      <th>sum</th>\n",
       "    </tr>\n",
       "    <tr>\n",
       "      <th></th>\n",
       "      <th></th>\n",
       "      <th>mb_used</th>\n",
       "    </tr>\n",
       "    <tr>\n",
       "      <th>user_id</th>\n",
       "      <th>month</th>\n",
       "      <th></th>\n",
       "    </tr>\n",
       "  </thead>\n",
       "  <tbody>\n",
       "    <tr>\n",
       "      <td>1135</td>\n",
       "      <td>11.0</td>\n",
       "      <td>23854.63</td>\n",
       "    </tr>\n",
       "    <tr>\n",
       "      <td>1078</td>\n",
       "      <td>9.0</td>\n",
       "      <td>22770.04</td>\n",
       "    </tr>\n",
       "    <tr>\n",
       "      <td>1024</td>\n",
       "      <td>12.0</td>\n",
       "      <td>35948.13</td>\n",
       "    </tr>\n",
       "    <tr>\n",
       "      <td>1081</td>\n",
       "      <td>3.0</td>\n",
       "      <td>5181.60</td>\n",
       "    </tr>\n",
       "    <tr>\n",
       "      <td>1356</td>\n",
       "      <td>10.0</td>\n",
       "      <td>32990.65</td>\n",
       "    </tr>\n",
       "    <tr>\n",
       "      <td>1214</td>\n",
       "      <td>7.0</td>\n",
       "      <td>12445.57</td>\n",
       "    </tr>\n",
       "    <tr>\n",
       "      <td>1423</td>\n",
       "      <td>9.0</td>\n",
       "      <td>18621.06</td>\n",
       "    </tr>\n",
       "    <tr>\n",
       "      <td>1244</td>\n",
       "      <td>5.0</td>\n",
       "      <td>11952.96</td>\n",
       "    </tr>\n",
       "    <tr>\n",
       "      <td>1260</td>\n",
       "      <td>8.0</td>\n",
       "      <td>12532.33</td>\n",
       "    </tr>\n",
       "    <tr>\n",
       "      <td>1266</td>\n",
       "      <td>10.0</td>\n",
       "      <td>21870.98</td>\n",
       "    </tr>\n",
       "  </tbody>\n",
       "</table>\n",
       "</div>"
      ],
      "text/plain": [
       "                    sum\n",
       "                mb_used\n",
       "user_id month          \n",
       "1135    11.0   23854.63\n",
       "1078    9.0    22770.04\n",
       "1024    12.0   35948.13\n",
       "1081    3.0     5181.60\n",
       "1356    10.0   32990.65\n",
       "1214    7.0    12445.57\n",
       "1423    9.0    18621.06\n",
       "1244    5.0    11952.96\n",
       "1260    8.0    12532.33\n",
       "1266    10.0   21870.98"
      ]
     },
     "execution_count": 24,
     "metadata": {},
     "output_type": "execute_result"
    }
   ],
   "source": [
    "mb_used = table_user_tar.merge(df_internet, on = ['user_id'], how='left')\n",
    "mb_used = mb_used.pivot_table(index = ['user_id', 'month'], values='mb_used', aggfunc=['sum'])\n",
    "mb_used.sample(10)"
   ]
  },
  {
   "cell_type": "markdown",
   "metadata": {},
   "source": [
    "Соединим таблицы merge и mb_used_sum, сохраним в одной таблице full_table."
   ]
  },
  {
   "cell_type": "code",
   "execution_count": 25,
   "metadata": {},
   "outputs": [
    {
     "data": {
      "text/html": [
       "<div>\n",
       "<style scoped>\n",
       "    .dataframe tbody tr th:only-of-type {\n",
       "        vertical-align: middle;\n",
       "    }\n",
       "\n",
       "    .dataframe tbody tr th {\n",
       "        vertical-align: top;\n",
       "    }\n",
       "\n",
       "    .dataframe thead th {\n",
       "        text-align: right;\n",
       "    }\n",
       "</style>\n",
       "<table border=\"1\" class=\"dataframe\">\n",
       "  <thead>\n",
       "    <tr style=\"text-align: right;\">\n",
       "      <th></th>\n",
       "      <th>user_id</th>\n",
       "      <th>month</th>\n",
       "      <th>rub_per_gb</th>\n",
       "      <th>minutes_included</th>\n",
       "      <th>rub_monthly_fee</th>\n",
       "      <th>messages_included</th>\n",
       "      <th>rub_per_minute</th>\n",
       "      <th>age</th>\n",
       "      <th>tariff_name</th>\n",
       "      <th>city</th>\n",
       "      <th>mb_per_month_included</th>\n",
       "      <th>rub_per_message</th>\n",
       "      <th>duration_count</th>\n",
       "      <th>duration_count_sum</th>\n",
       "      <th>messages</th>\n",
       "      <th>mb_used</th>\n",
       "    </tr>\n",
       "  </thead>\n",
       "  <tbody>\n",
       "    <tr>\n",
       "      <td>1777</td>\n",
       "      <td>1281</td>\n",
       "      <td>10.0</td>\n",
       "      <td>150.0</td>\n",
       "      <td>3000.0</td>\n",
       "      <td>1950.0</td>\n",
       "      <td>1000.0</td>\n",
       "      <td>1.0</td>\n",
       "      <td>62.0</td>\n",
       "      <td>ultra</td>\n",
       "      <td>Нижний Новгород</td>\n",
       "      <td>30720.0</td>\n",
       "      <td>1.0</td>\n",
       "      <td>62.0</td>\n",
       "      <td>450.0</td>\n",
       "      <td>79.0</td>\n",
       "      <td>18444.11</td>\n",
       "    </tr>\n",
       "    <tr>\n",
       "      <td>2671</td>\n",
       "      <td>1416</td>\n",
       "      <td>10.0</td>\n",
       "      <td>150.0</td>\n",
       "      <td>3000.0</td>\n",
       "      <td>1950.0</td>\n",
       "      <td>1000.0</td>\n",
       "      <td>1.0</td>\n",
       "      <td>50.0</td>\n",
       "      <td>ultra</td>\n",
       "      <td>Санкт-Петербург</td>\n",
       "      <td>30720.0</td>\n",
       "      <td>1.0</td>\n",
       "      <td>152.0</td>\n",
       "      <td>1109.0</td>\n",
       "      <td>101.0</td>\n",
       "      <td>18716.22</td>\n",
       "    </tr>\n",
       "    <tr>\n",
       "      <td>748</td>\n",
       "      <td>1118</td>\n",
       "      <td>4.0</td>\n",
       "      <td>200.0</td>\n",
       "      <td>500.0</td>\n",
       "      <td>550.0</td>\n",
       "      <td>50.0</td>\n",
       "      <td>3.0</td>\n",
       "      <td>65.0</td>\n",
       "      <td>smart</td>\n",
       "      <td>Казань</td>\n",
       "      <td>15360.0</td>\n",
       "      <td>3.0</td>\n",
       "      <td>93.0</td>\n",
       "      <td>763.0</td>\n",
       "      <td>NaN</td>\n",
       "      <td>14198.87</td>\n",
       "    </tr>\n",
       "    <tr>\n",
       "      <td>185</td>\n",
       "      <td>1028</td>\n",
       "      <td>12.0</td>\n",
       "      <td>150.0</td>\n",
       "      <td>3000.0</td>\n",
       "      <td>1950.0</td>\n",
       "      <td>1000.0</td>\n",
       "      <td>1.0</td>\n",
       "      <td>20.0</td>\n",
       "      <td>ultra</td>\n",
       "      <td>Тверь</td>\n",
       "      <td>30720.0</td>\n",
       "      <td>1.0</td>\n",
       "      <td>143.0</td>\n",
       "      <td>1214.0</td>\n",
       "      <td>171.0</td>\n",
       "      <td>15790.18</td>\n",
       "    </tr>\n",
       "    <tr>\n",
       "      <td>2680</td>\n",
       "      <td>1418</td>\n",
       "      <td>10.0</td>\n",
       "      <td>200.0</td>\n",
       "      <td>500.0</td>\n",
       "      <td>550.0</td>\n",
       "      <td>50.0</td>\n",
       "      <td>3.0</td>\n",
       "      <td>30.0</td>\n",
       "      <td>smart</td>\n",
       "      <td>Новосибирск</td>\n",
       "      <td>15360.0</td>\n",
       "      <td>3.0</td>\n",
       "      <td>22.0</td>\n",
       "      <td>165.0</td>\n",
       "      <td>13.0</td>\n",
       "      <td>3082.64</td>\n",
       "    </tr>\n",
       "    <tr>\n",
       "      <td>10</td>\n",
       "      <td>1002</td>\n",
       "      <td>6.0</td>\n",
       "      <td>200.0</td>\n",
       "      <td>500.0</td>\n",
       "      <td>550.0</td>\n",
       "      <td>50.0</td>\n",
       "      <td>3.0</td>\n",
       "      <td>59.0</td>\n",
       "      <td>smart</td>\n",
       "      <td>Стерлитамак</td>\n",
       "      <td>15360.0</td>\n",
       "      <td>3.0</td>\n",
       "      <td>15.0</td>\n",
       "      <td>118.0</td>\n",
       "      <td>4.0</td>\n",
       "      <td>10856.82</td>\n",
       "    </tr>\n",
       "    <tr>\n",
       "      <td>2892</td>\n",
       "      <td>1453</td>\n",
       "      <td>1.0</td>\n",
       "      <td>150.0</td>\n",
       "      <td>3000.0</td>\n",
       "      <td>1950.0</td>\n",
       "      <td>1000.0</td>\n",
       "      <td>1.0</td>\n",
       "      <td>50.0</td>\n",
       "      <td>ultra</td>\n",
       "      <td>Москва</td>\n",
       "      <td>30720.0</td>\n",
       "      <td>1.0</td>\n",
       "      <td>128.0</td>\n",
       "      <td>891.0</td>\n",
       "      <td>50.0</td>\n",
       "      <td>19450.33</td>\n",
       "    </tr>\n",
       "    <tr>\n",
       "      <td>2833</td>\n",
       "      <td>1439</td>\n",
       "      <td>7.0</td>\n",
       "      <td>200.0</td>\n",
       "      <td>500.0</td>\n",
       "      <td>550.0</td>\n",
       "      <td>50.0</td>\n",
       "      <td>3.0</td>\n",
       "      <td>62.0</td>\n",
       "      <td>smart</td>\n",
       "      <td>Орёл</td>\n",
       "      <td>15360.0</td>\n",
       "      <td>3.0</td>\n",
       "      <td>55.0</td>\n",
       "      <td>341.0</td>\n",
       "      <td>5.0</td>\n",
       "      <td>20039.64</td>\n",
       "    </tr>\n",
       "    <tr>\n",
       "      <td>1541</td>\n",
       "      <td>1243</td>\n",
       "      <td>8.0</td>\n",
       "      <td>150.0</td>\n",
       "      <td>3000.0</td>\n",
       "      <td>1950.0</td>\n",
       "      <td>1000.0</td>\n",
       "      <td>1.0</td>\n",
       "      <td>74.0</td>\n",
       "      <td>ultra</td>\n",
       "      <td>Пермь</td>\n",
       "      <td>30720.0</td>\n",
       "      <td>1.0</td>\n",
       "      <td>51.0</td>\n",
       "      <td>405.0</td>\n",
       "      <td>82.0</td>\n",
       "      <td>23806.65</td>\n",
       "    </tr>\n",
       "    <tr>\n",
       "      <td>1384</td>\n",
       "      <td>1217</td>\n",
       "      <td>9.0</td>\n",
       "      <td>200.0</td>\n",
       "      <td>500.0</td>\n",
       "      <td>550.0</td>\n",
       "      <td>50.0</td>\n",
       "      <td>3.0</td>\n",
       "      <td>42.0</td>\n",
       "      <td>smart</td>\n",
       "      <td>Ульяновск</td>\n",
       "      <td>15360.0</td>\n",
       "      <td>3.0</td>\n",
       "      <td>72.0</td>\n",
       "      <td>438.0</td>\n",
       "      <td>68.0</td>\n",
       "      <td>16006.47</td>\n",
       "    </tr>\n",
       "  </tbody>\n",
       "</table>\n",
       "</div>"
      ],
      "text/plain": [
       "      user_id  month  rub_per_gb  minutes_included  rub_monthly_fee  \\\n",
       "1777     1281   10.0       150.0            3000.0           1950.0   \n",
       "2671     1416   10.0       150.0            3000.0           1950.0   \n",
       "748      1118    4.0       200.0             500.0            550.0   \n",
       "185      1028   12.0       150.0            3000.0           1950.0   \n",
       "2680     1418   10.0       200.0             500.0            550.0   \n",
       "10       1002    6.0       200.0             500.0            550.0   \n",
       "2892     1453    1.0       150.0            3000.0           1950.0   \n",
       "2833     1439    7.0       200.0             500.0            550.0   \n",
       "1541     1243    8.0       150.0            3000.0           1950.0   \n",
       "1384     1217    9.0       200.0             500.0            550.0   \n",
       "\n",
       "      messages_included  rub_per_minute   age tariff_name             city  \\\n",
       "1777             1000.0             1.0  62.0       ultra  Нижний Новгород   \n",
       "2671             1000.0             1.0  50.0       ultra  Санкт-Петербург   \n",
       "748                50.0             3.0  65.0       smart           Казань   \n",
       "185              1000.0             1.0  20.0       ultra            Тверь   \n",
       "2680               50.0             3.0  30.0       smart      Новосибирск   \n",
       "10                 50.0             3.0  59.0       smart      Стерлитамак   \n",
       "2892             1000.0             1.0  50.0       ultra           Москва   \n",
       "2833               50.0             3.0  62.0       smart             Орёл   \n",
       "1541             1000.0             1.0  74.0       ultra            Пермь   \n",
       "1384               50.0             3.0  42.0       smart        Ульяновск   \n",
       "\n",
       "      mb_per_month_included  rub_per_message  duration_count  \\\n",
       "1777                30720.0              1.0            62.0   \n",
       "2671                30720.0              1.0           152.0   \n",
       "748                 15360.0              3.0            93.0   \n",
       "185                 30720.0              1.0           143.0   \n",
       "2680                15360.0              3.0            22.0   \n",
       "10                  15360.0              3.0            15.0   \n",
       "2892                30720.0              1.0           128.0   \n",
       "2833                15360.0              3.0            55.0   \n",
       "1541                30720.0              1.0            51.0   \n",
       "1384                15360.0              3.0            72.0   \n",
       "\n",
       "      duration_count_sum  messages   mb_used  \n",
       "1777               450.0      79.0  18444.11  \n",
       "2671              1109.0     101.0  18716.22  \n",
       "748                763.0       NaN  14198.87  \n",
       "185               1214.0     171.0  15790.18  \n",
       "2680               165.0      13.0   3082.64  \n",
       "10                 118.0       4.0  10856.82  \n",
       "2892               891.0      50.0  19450.33  \n",
       "2833               341.0       5.0  20039.64  \n",
       "1541               405.0      82.0  23806.65  \n",
       "1384               438.0      68.0  16006.47  "
      ]
     },
     "execution_count": 25,
     "metadata": {},
     "output_type": "execute_result"
    }
   ],
   "source": [
    "full_table = merge.join(mb_used, how='outer')\n",
    "full_table.columns = ['duration_count', 'duration_count_sum', 'messages', 'mb_used']\n",
    "full_table.reset_index(inplace=True)\n",
    "full_table.sample(10)"
   ]
  },
  {
   "cell_type": "markdown",
   "metadata": {},
   "source": [
    "Посмотрим на пропущенные значения в данных."
   ]
  },
  {
   "cell_type": "code",
   "execution_count": 26,
   "metadata": {},
   "outputs": [
    {
     "data": {
      "text/plain": [
       "user_id                    0\n",
       "month                      0\n",
       "rub_per_gb                40\n",
       "minutes_included          40\n",
       "rub_monthly_fee           40\n",
       "messages_included         40\n",
       "rub_per_minute            40\n",
       "age                       40\n",
       "tariff_name               40\n",
       "city                      40\n",
       "mb_per_month_included     40\n",
       "rub_per_message           40\n",
       "duration_count            40\n",
       "duration_count_sum        40\n",
       "messages                 497\n",
       "mb_used                   11\n",
       "dtype: int64"
      ]
     },
     "execution_count": 26,
     "metadata": {},
     "output_type": "execute_result"
    }
   ],
   "source": [
    "full_table.isna().sum()"
   ]
  },
  {
   "cell_type": "markdown",
   "metadata": {},
   "source": [
    "Есть пропуски в некоторых столбцах, возможно некоторые пользователи не отправляли сообщения или не пользовались интернетом в некоторые промежутки времени. Так же некоторые пропуски возникли после объединения таблиц.\n",
    "\n",
    "Заменим пропуски на 0."
   ]
  },
  {
   "cell_type": "code",
   "execution_count": 27,
   "metadata": {},
   "outputs": [],
   "source": [
    "full_table = full_table.fillna(0)"
   ]
  },
  {
   "cell_type": "markdown",
   "metadata": {},
   "source": [
    "### Помесячная выручка с каждого пользователя"
   ]
  },
  {
   "cell_type": "markdown",
   "metadata": {},
   "source": [
    "Пересчитаем по формуле ((бесплатный лимит - потраченный) * цену единицы) и добавим столбцы с прибылью сверх тарифа по звонкам, сообщениям и интернету."
   ]
  },
  {
   "cell_type": "markdown",
   "metadata": {},
   "source": [
    "Для более точных расчётов округлим кол-во использованных мегабайтов в гигабайты в большую сторону. Если абонент использует 1025 мегабайт в этом месяце, с него возьмут плату за 2 гигабайта."
   ]
  },
  {
   "cell_type": "code",
   "execution_count": 28,
   "metadata": {},
   "outputs": [],
   "source": [
    "full_table['gb_used'] = np.ceil(full_table['mb_used'] / 1024)\n",
    "full_table['gb_per_month_included'] = np.ceil(full_table['mb_per_month_included'] / 1024)"
   ]
  },
  {
   "cell_type": "code",
   "execution_count": 29,
   "metadata": {},
   "outputs": [
    {
     "data": {
      "text/html": [
       "<div>\n",
       "<style scoped>\n",
       "    .dataframe tbody tr th:only-of-type {\n",
       "        vertical-align: middle;\n",
       "    }\n",
       "\n",
       "    .dataframe tbody tr th {\n",
       "        vertical-align: top;\n",
       "    }\n",
       "\n",
       "    .dataframe thead th {\n",
       "        text-align: right;\n",
       "    }\n",
       "</style>\n",
       "<table border=\"1\" class=\"dataframe\">\n",
       "  <thead>\n",
       "    <tr style=\"text-align: right;\">\n",
       "      <th></th>\n",
       "      <th>user_id</th>\n",
       "      <th>month</th>\n",
       "      <th>rub_per_gb</th>\n",
       "      <th>minutes_included</th>\n",
       "      <th>rub_monthly_fee</th>\n",
       "      <th>messages_included</th>\n",
       "      <th>rub_per_minute</th>\n",
       "      <th>age</th>\n",
       "      <th>tariff_name</th>\n",
       "      <th>city</th>\n",
       "      <th>mb_per_month_included</th>\n",
       "      <th>rub_per_message</th>\n",
       "      <th>duration_count</th>\n",
       "      <th>duration_count_sum</th>\n",
       "      <th>messages</th>\n",
       "      <th>mb_used</th>\n",
       "      <th>gb_used</th>\n",
       "      <th>gb_per_month_included</th>\n",
       "      <th>calls_revenue</th>\n",
       "      <th>messages_revenue</th>\n",
       "      <th>gb_revenue</th>\n",
       "    </tr>\n",
       "  </thead>\n",
       "  <tbody>\n",
       "    <tr>\n",
       "      <td>1580</td>\n",
       "      <td>1249</td>\n",
       "      <td>10.0</td>\n",
       "      <td>200.0</td>\n",
       "      <td>500.0</td>\n",
       "      <td>550.0</td>\n",
       "      <td>50.0</td>\n",
       "      <td>3.0</td>\n",
       "      <td>25.0</td>\n",
       "      <td>smart</td>\n",
       "      <td>Курск</td>\n",
       "      <td>15360.0</td>\n",
       "      <td>3.0</td>\n",
       "      <td>37.0</td>\n",
       "      <td>241.0</td>\n",
       "      <td>32.0</td>\n",
       "      <td>18443.46</td>\n",
       "      <td>19.0</td>\n",
       "      <td>15.0</td>\n",
       "      <td>-777.0</td>\n",
       "      <td>-54.0</td>\n",
       "      <td>800.0</td>\n",
       "    </tr>\n",
       "    <tr>\n",
       "      <td>422</td>\n",
       "      <td>1066</td>\n",
       "      <td>7.0</td>\n",
       "      <td>200.0</td>\n",
       "      <td>500.0</td>\n",
       "      <td>550.0</td>\n",
       "      <td>50.0</td>\n",
       "      <td>3.0</td>\n",
       "      <td>47.0</td>\n",
       "      <td>smart</td>\n",
       "      <td>Астрахань</td>\n",
       "      <td>15360.0</td>\n",
       "      <td>3.0</td>\n",
       "      <td>88.0</td>\n",
       "      <td>731.0</td>\n",
       "      <td>48.0</td>\n",
       "      <td>21408.35</td>\n",
       "      <td>21.0</td>\n",
       "      <td>15.0</td>\n",
       "      <td>693.0</td>\n",
       "      <td>-6.0</td>\n",
       "      <td>1200.0</td>\n",
       "    </tr>\n",
       "    <tr>\n",
       "      <td>1304</td>\n",
       "      <td>1203</td>\n",
       "      <td>12.0</td>\n",
       "      <td>150.0</td>\n",
       "      <td>3000.0</td>\n",
       "      <td>1950.0</td>\n",
       "      <td>1000.0</td>\n",
       "      <td>1.0</td>\n",
       "      <td>39.0</td>\n",
       "      <td>ultra</td>\n",
       "      <td>Москва</td>\n",
       "      <td>30720.0</td>\n",
       "      <td>1.0</td>\n",
       "      <td>80.0</td>\n",
       "      <td>717.0</td>\n",
       "      <td>39.0</td>\n",
       "      <td>11353.42</td>\n",
       "      <td>12.0</td>\n",
       "      <td>30.0</td>\n",
       "      <td>-2283.0</td>\n",
       "      <td>-961.0</td>\n",
       "      <td>-2700.0</td>\n",
       "    </tr>\n",
       "    <tr>\n",
       "      <td>1145</td>\n",
       "      <td>1178</td>\n",
       "      <td>11.0</td>\n",
       "      <td>200.0</td>\n",
       "      <td>500.0</td>\n",
       "      <td>550.0</td>\n",
       "      <td>50.0</td>\n",
       "      <td>3.0</td>\n",
       "      <td>56.0</td>\n",
       "      <td>smart</td>\n",
       "      <td>Москва</td>\n",
       "      <td>15360.0</td>\n",
       "      <td>3.0</td>\n",
       "      <td>50.0</td>\n",
       "      <td>338.0</td>\n",
       "      <td>13.0</td>\n",
       "      <td>13719.02</td>\n",
       "      <td>14.0</td>\n",
       "      <td>15.0</td>\n",
       "      <td>-486.0</td>\n",
       "      <td>-111.0</td>\n",
       "      <td>-200.0</td>\n",
       "    </tr>\n",
       "    <tr>\n",
       "      <td>1812</td>\n",
       "      <td>1285</td>\n",
       "      <td>8.0</td>\n",
       "      <td>200.0</td>\n",
       "      <td>500.0</td>\n",
       "      <td>550.0</td>\n",
       "      <td>50.0</td>\n",
       "      <td>3.0</td>\n",
       "      <td>44.0</td>\n",
       "      <td>smart</td>\n",
       "      <td>Краснодар</td>\n",
       "      <td>15360.0</td>\n",
       "      <td>3.0</td>\n",
       "      <td>51.0</td>\n",
       "      <td>447.0</td>\n",
       "      <td>112.0</td>\n",
       "      <td>5661.19</td>\n",
       "      <td>6.0</td>\n",
       "      <td>15.0</td>\n",
       "      <td>-159.0</td>\n",
       "      <td>186.0</td>\n",
       "      <td>-1800.0</td>\n",
       "    </tr>\n",
       "  </tbody>\n",
       "</table>\n",
       "</div>"
      ],
      "text/plain": [
       "      user_id  month  rub_per_gb  minutes_included  rub_monthly_fee  \\\n",
       "1580     1249   10.0       200.0             500.0            550.0   \n",
       "422      1066    7.0       200.0             500.0            550.0   \n",
       "1304     1203   12.0       150.0            3000.0           1950.0   \n",
       "1145     1178   11.0       200.0             500.0            550.0   \n",
       "1812     1285    8.0       200.0             500.0            550.0   \n",
       "\n",
       "      messages_included  rub_per_minute   age tariff_name       city  \\\n",
       "1580               50.0             3.0  25.0       smart      Курск   \n",
       "422                50.0             3.0  47.0       smart  Астрахань   \n",
       "1304             1000.0             1.0  39.0       ultra     Москва   \n",
       "1145               50.0             3.0  56.0       smart     Москва   \n",
       "1812               50.0             3.0  44.0       smart  Краснодар   \n",
       "\n",
       "      mb_per_month_included  rub_per_message  duration_count  \\\n",
       "1580                15360.0              3.0            37.0   \n",
       "422                 15360.0              3.0            88.0   \n",
       "1304                30720.0              1.0            80.0   \n",
       "1145                15360.0              3.0            50.0   \n",
       "1812                15360.0              3.0            51.0   \n",
       "\n",
       "      duration_count_sum  messages   mb_used  gb_used  gb_per_month_included  \\\n",
       "1580               241.0      32.0  18443.46     19.0                   15.0   \n",
       "422                731.0      48.0  21408.35     21.0                   15.0   \n",
       "1304               717.0      39.0  11353.42     12.0                   30.0   \n",
       "1145               338.0      13.0  13719.02     14.0                   15.0   \n",
       "1812               447.0     112.0   5661.19      6.0                   15.0   \n",
       "\n",
       "      calls_revenue  messages_revenue  gb_revenue  \n",
       "1580         -777.0             -54.0       800.0  \n",
       "422           693.0              -6.0      1200.0  \n",
       "1304        -2283.0            -961.0     -2700.0  \n",
       "1145         -486.0            -111.0      -200.0  \n",
       "1812         -159.0             186.0     -1800.0  "
      ]
     },
     "execution_count": 29,
     "metadata": {},
     "output_type": "execute_result"
    }
   ],
   "source": [
    "full_table['calls_revenue'] = ((full_table['duration_count_sum'] - full_table['minutes_included']) * full_table['rub_per_minute'])\n",
    "full_table['messages_revenue'] = ((full_table['messages'] - full_table['messages_included']) * full_table['rub_per_message'])\n",
    "full_table['gb_revenue'] = ((full_table['gb_used'] - full_table['gb_per_month_included']) * full_table['rub_per_gb'])\n",
    "full_table.sample(5)"
   ]
  },
  {
   "cell_type": "markdown",
   "metadata": {},
   "source": [
    "Для верного подсчёта прибыли сверх тарифа, заменим отрицательные значения на 0. И заменим образовавшиеся пропуски на 0."
   ]
  },
  {
   "cell_type": "code",
   "execution_count": 30,
   "metadata": {},
   "outputs": [],
   "source": [
    "full_table['messages_revenue'] = full_table['messages_revenue'].clip(lower = 0)\n",
    "full_table['calls_revenue'] = full_table['calls_revenue'].clip(lower = 0)\n",
    "full_table['gb_revenue'] = full_table['gb_revenue'].clip(lower = 0)"
   ]
  },
  {
   "cell_type": "markdown",
   "metadata": {},
   "source": [
    "Переведём нужные столбцы в тип int."
   ]
  },
  {
   "cell_type": "code",
   "execution_count": 31,
   "metadata": {},
   "outputs": [],
   "source": [
    "full_table['calls_revenue'] = full_table['calls_revenue'].astype('int')\n",
    "full_table['messages_revenue'] = full_table['messages_revenue'].astype('int')\n",
    "full_table['messages'] = full_table['messages'].astype('int')\n",
    "full_table['gb_revenue'] = full_table['gb_revenue'].astype('int')\n",
    "full_table['month'] = full_table['month'].astype('int')"
   ]
  },
  {
   "cell_type": "markdown",
   "metadata": {},
   "source": [
    "Добавим новый столбец revenue, где подсуммируем прибыль с учетом стоимости тарифа и сверх тарифа."
   ]
  },
  {
   "cell_type": "code",
   "execution_count": 32,
   "metadata": {
    "scrolled": true
   },
   "outputs": [
    {
     "data": {
      "text/html": [
       "<div>\n",
       "<style scoped>\n",
       "    .dataframe tbody tr th:only-of-type {\n",
       "        vertical-align: middle;\n",
       "    }\n",
       "\n",
       "    .dataframe tbody tr th {\n",
       "        vertical-align: top;\n",
       "    }\n",
       "\n",
       "    .dataframe thead th {\n",
       "        text-align: right;\n",
       "    }\n",
       "</style>\n",
       "<table border=\"1\" class=\"dataframe\">\n",
       "  <thead>\n",
       "    <tr style=\"text-align: right;\">\n",
       "      <th></th>\n",
       "      <th>user_id</th>\n",
       "      <th>month</th>\n",
       "      <th>rub_per_gb</th>\n",
       "      <th>minutes_included</th>\n",
       "      <th>rub_monthly_fee</th>\n",
       "      <th>messages_included</th>\n",
       "      <th>rub_per_minute</th>\n",
       "      <th>age</th>\n",
       "      <th>tariff_name</th>\n",
       "      <th>city</th>\n",
       "      <th>mb_per_month_included</th>\n",
       "      <th>rub_per_message</th>\n",
       "      <th>duration_count</th>\n",
       "      <th>duration_count_sum</th>\n",
       "      <th>messages</th>\n",
       "      <th>mb_used</th>\n",
       "      <th>gb_used</th>\n",
       "      <th>gb_per_month_included</th>\n",
       "      <th>calls_revenue</th>\n",
       "      <th>messages_revenue</th>\n",
       "      <th>gb_revenue</th>\n",
       "      <th>revenue</th>\n",
       "    </tr>\n",
       "  </thead>\n",
       "  <tbody>\n",
       "    <tr>\n",
       "      <td>74</td>\n",
       "      <td>1010</td>\n",
       "      <td>9</td>\n",
       "      <td>200.0</td>\n",
       "      <td>500.0</td>\n",
       "      <td>550.0</td>\n",
       "      <td>50.0</td>\n",
       "      <td>3.0</td>\n",
       "      <td>26.0</td>\n",
       "      <td>smart</td>\n",
       "      <td>Тюмень</td>\n",
       "      <td>15360.0</td>\n",
       "      <td>3.0</td>\n",
       "      <td>29.0</td>\n",
       "      <td>153.0</td>\n",
       "      <td>0</td>\n",
       "      <td>16151.87</td>\n",
       "      <td>16.0</td>\n",
       "      <td>15.0</td>\n",
       "      <td>0</td>\n",
       "      <td>0</td>\n",
       "      <td>200</td>\n",
       "      <td>750.0</td>\n",
       "    </tr>\n",
       "    <tr>\n",
       "      <td>1083</td>\n",
       "      <td>1171</td>\n",
       "      <td>11</td>\n",
       "      <td>200.0</td>\n",
       "      <td>500.0</td>\n",
       "      <td>550.0</td>\n",
       "      <td>50.0</td>\n",
       "      <td>3.0</td>\n",
       "      <td>47.0</td>\n",
       "      <td>smart</td>\n",
       "      <td>Москва</td>\n",
       "      <td>15360.0</td>\n",
       "      <td>3.0</td>\n",
       "      <td>93.0</td>\n",
       "      <td>729.0</td>\n",
       "      <td>78</td>\n",
       "      <td>16290.86</td>\n",
       "      <td>16.0</td>\n",
       "      <td>15.0</td>\n",
       "      <td>687</td>\n",
       "      <td>84</td>\n",
       "      <td>200</td>\n",
       "      <td>1521.0</td>\n",
       "    </tr>\n",
       "    <tr>\n",
       "      <td>670</td>\n",
       "      <td>1105</td>\n",
       "      <td>12</td>\n",
       "      <td>200.0</td>\n",
       "      <td>500.0</td>\n",
       "      <td>550.0</td>\n",
       "      <td>50.0</td>\n",
       "      <td>3.0</td>\n",
       "      <td>51.0</td>\n",
       "      <td>smart</td>\n",
       "      <td>Улан-Удэ</td>\n",
       "      <td>15360.0</td>\n",
       "      <td>3.0</td>\n",
       "      <td>47.0</td>\n",
       "      <td>283.0</td>\n",
       "      <td>82</td>\n",
       "      <td>25562.09</td>\n",
       "      <td>25.0</td>\n",
       "      <td>15.0</td>\n",
       "      <td>0</td>\n",
       "      <td>96</td>\n",
       "      <td>2000</td>\n",
       "      <td>2646.0</td>\n",
       "    </tr>\n",
       "    <tr>\n",
       "      <td>1093</td>\n",
       "      <td>1173</td>\n",
       "      <td>6</td>\n",
       "      <td>200.0</td>\n",
       "      <td>500.0</td>\n",
       "      <td>550.0</td>\n",
       "      <td>50.0</td>\n",
       "      <td>3.0</td>\n",
       "      <td>46.0</td>\n",
       "      <td>smart</td>\n",
       "      <td>Красноярск</td>\n",
       "      <td>15360.0</td>\n",
       "      <td>3.0</td>\n",
       "      <td>42.0</td>\n",
       "      <td>316.0</td>\n",
       "      <td>3</td>\n",
       "      <td>11687.01</td>\n",
       "      <td>12.0</td>\n",
       "      <td>15.0</td>\n",
       "      <td>0</td>\n",
       "      <td>0</td>\n",
       "      <td>0</td>\n",
       "      <td>550.0</td>\n",
       "    </tr>\n",
       "    <tr>\n",
       "      <td>113</td>\n",
       "      <td>1015</td>\n",
       "      <td>9</td>\n",
       "      <td>200.0</td>\n",
       "      <td>500.0</td>\n",
       "      <td>550.0</td>\n",
       "      <td>50.0</td>\n",
       "      <td>3.0</td>\n",
       "      <td>26.0</td>\n",
       "      <td>smart</td>\n",
       "      <td>Челябинск</td>\n",
       "      <td>15360.0</td>\n",
       "      <td>3.0</td>\n",
       "      <td>64.0</td>\n",
       "      <td>499.0</td>\n",
       "      <td>68</td>\n",
       "      <td>16776.74</td>\n",
       "      <td>17.0</td>\n",
       "      <td>15.0</td>\n",
       "      <td>0</td>\n",
       "      <td>54</td>\n",
       "      <td>400</td>\n",
       "      <td>1004.0</td>\n",
       "    </tr>\n",
       "  </tbody>\n",
       "</table>\n",
       "</div>"
      ],
      "text/plain": [
       "      user_id  month  rub_per_gb  minutes_included  rub_monthly_fee  \\\n",
       "74       1010      9       200.0             500.0            550.0   \n",
       "1083     1171     11       200.0             500.0            550.0   \n",
       "670      1105     12       200.0             500.0            550.0   \n",
       "1093     1173      6       200.0             500.0            550.0   \n",
       "113      1015      9       200.0             500.0            550.0   \n",
       "\n",
       "      messages_included  rub_per_minute   age tariff_name        city  \\\n",
       "74                 50.0             3.0  26.0       smart      Тюмень   \n",
       "1083               50.0             3.0  47.0       smart      Москва   \n",
       "670                50.0             3.0  51.0       smart    Улан-Удэ   \n",
       "1093               50.0             3.0  46.0       smart  Красноярск   \n",
       "113                50.0             3.0  26.0       smart   Челябинск   \n",
       "\n",
       "      mb_per_month_included  rub_per_message  duration_count  \\\n",
       "74                  15360.0              3.0            29.0   \n",
       "1083                15360.0              3.0            93.0   \n",
       "670                 15360.0              3.0            47.0   \n",
       "1093                15360.0              3.0            42.0   \n",
       "113                 15360.0              3.0            64.0   \n",
       "\n",
       "      duration_count_sum  messages   mb_used  gb_used  gb_per_month_included  \\\n",
       "74                 153.0         0  16151.87     16.0                   15.0   \n",
       "1083               729.0        78  16290.86     16.0                   15.0   \n",
       "670                283.0        82  25562.09     25.0                   15.0   \n",
       "1093               316.0         3  11687.01     12.0                   15.0   \n",
       "113                499.0        68  16776.74     17.0                   15.0   \n",
       "\n",
       "      calls_revenue  messages_revenue  gb_revenue  revenue  \n",
       "74                0                 0         200    750.0  \n",
       "1083            687                84         200   1521.0  \n",
       "670               0                96        2000   2646.0  \n",
       "1093              0                 0           0    550.0  \n",
       "113               0                54         400   1004.0  "
      ]
     },
     "execution_count": 32,
     "metadata": {},
     "output_type": "execute_result"
    }
   ],
   "source": [
    "full_table['revenue'] = full_table['rub_monthly_fee'] + full_table['calls_revenue'] + full_table['messages_revenue'] + full_table['gb_revenue']\n",
    "full_table.sample(5)"
   ]
  },
  {
   "cell_type": "markdown",
   "metadata": {},
   "source": [
    "Сохраним в переменной total_revenue общую прибыль с каждого тарифа отдельно по звонкам/сообщениям/интернету и общую стоимость."
   ]
  },
  {
   "cell_type": "code",
   "execution_count": 33,
   "metadata": {
    "scrolled": true
   },
   "outputs": [
    {
     "data": {
      "text/html": [
       "<div>\n",
       "<style scoped>\n",
       "    .dataframe tbody tr th:only-of-type {\n",
       "        vertical-align: middle;\n",
       "    }\n",
       "\n",
       "    .dataframe tbody tr th {\n",
       "        vertical-align: top;\n",
       "    }\n",
       "\n",
       "    .dataframe thead tr th {\n",
       "        text-align: left;\n",
       "    }\n",
       "\n",
       "    .dataframe thead tr:last-of-type th {\n",
       "        text-align: right;\n",
       "    }\n",
       "</style>\n",
       "<table border=\"1\" class=\"dataframe\">\n",
       "  <thead>\n",
       "    <tr>\n",
       "      <th></th>\n",
       "      <th colspan=\"4\" halign=\"left\">sum</th>\n",
       "    </tr>\n",
       "    <tr>\n",
       "      <th></th>\n",
       "      <th>calls_revenue</th>\n",
       "      <th>gb_revenue</th>\n",
       "      <th>messages_revenue</th>\n",
       "      <th>revenue</th>\n",
       "    </tr>\n",
       "    <tr>\n",
       "      <th>tariff_name</th>\n",
       "      <th></th>\n",
       "      <th></th>\n",
       "      <th></th>\n",
       "      <th></th>\n",
       "    </tr>\n",
       "  </thead>\n",
       "  <tbody>\n",
       "    <tr>\n",
       "      <td>0</td>\n",
       "      <td>0</td>\n",
       "      <td>0</td>\n",
       "      <td>0</td>\n",
       "      <td>0.0</td>\n",
       "    </tr>\n",
       "    <tr>\n",
       "      <td>smart</td>\n",
       "      <td>316056</td>\n",
       "      <td>1330000</td>\n",
       "      <td>38784</td>\n",
       "      <td>2907490.0</td>\n",
       "    </tr>\n",
       "    <tr>\n",
       "      <td>ultra</td>\n",
       "      <td>0</td>\n",
       "      <td>115050</td>\n",
       "      <td>0</td>\n",
       "      <td>1969500.0</td>\n",
       "    </tr>\n",
       "  </tbody>\n",
       "</table>\n",
       "</div>"
      ],
      "text/plain": [
       "                      sum                                       \n",
       "            calls_revenue gb_revenue messages_revenue    revenue\n",
       "tariff_name                                                     \n",
       "0                       0          0                0        0.0\n",
       "smart              316056    1330000            38784  2907490.0\n",
       "ultra                   0     115050                0  1969500.0"
      ]
     },
     "execution_count": 33,
     "metadata": {},
     "output_type": "execute_result"
    }
   ],
   "source": [
    "total_revenue = full_table.pivot_table(\n",
    "    index = ['tariff_name'], \n",
    "    values = ['calls_revenue', 'messages_revenue', 'gb_revenue', 'revenue'],  \n",
    "    aggfunc=['sum'])\n",
    "\n",
    "total_revenue"
   ]
  },
  {
   "cell_type": "markdown",
   "metadata": {},
   "source": [
    "* Больше всего приносит дополнительного дохода тариф Smart.\n",
    "* Самым прибильным сегментом является - интернет, при том в двух тарифах.\n",
    "* Общая прибыль больше всего у тарифа Smart."
   ]
  },
  {
   "cell_type": "markdown",
   "metadata": {},
   "source": [
    "## Анализ данных"
   ]
  },
  {
   "cell_type": "markdown",
   "metadata": {},
   "source": [
    "Создадим 2 таблицы с даннами по тарифу smart и ultra"
   ]
  },
  {
   "cell_type": "code",
   "execution_count": 34,
   "metadata": {},
   "outputs": [],
   "source": [
    "sum_smart = full_table[(full_table['tariff_name'] == 'smart')]\n",
    "sum_ultra = full_table[(full_table['tariff_name'] == 'ultra')]"
   ]
  },
  {
   "cell_type": "markdown",
   "metadata": {},
   "source": [
    "Построим гистограмму с кол-ством минут для тарифа Smart."
   ]
  },
  {
   "cell_type": "code",
   "execution_count": 35,
   "metadata": {},
   "outputs": [
    {
     "data": {
      "image/png": "[encoded data removed]",
      "text/plain": [
       "<Figure size 432x288 with 1 Axes>"
      ]
     },
     "metadata": {
      "needs_background": "light"
     },
     "output_type": "display_data"
    }
   ],
   "source": [
    "sum_smart['duration_count_sum'].hist(bins=35, range = (0, 2000))\n",
    "plt.title('Кол-во использованных минут трафика Smart')\n",
    "plt.show()"
   ]
  },
  {
   "cell_type": "markdown",
   "metadata": {},
   "source": [
    "Пик затрат минут как раз приходится на лимит тарифа: 250 - 500 минут, но довольно много пользователей тратят больше лимита, доходя до 600 - 750 минут, встречаются и около 1000.\n",
    "\n",
    "Построим гистограмму с кол-ством сообщений для тарифа."
   ]
  },
  {
   "cell_type": "code",
   "execution_count": 36,
   "metadata": {},
   "outputs": [
    {
     "data": {
      "image/png": "[encoded data removed]",
      "text/plain": [
       "<Figure size 432x288 with 1 Axes>"
      ]
     },
     "metadata": {
      "needs_background": "light"
     },
     "output_type": "display_data"
    }
   ],
   "source": [
    "sum_smart['messages'].hist(bins=35, range = (0, 150))\n",
    "plt.title('Кол-во использованных сообщений трафика Smart')\n",
    "plt.show()"
   ]
  },
  {
   "cell_type": "markdown",
   "metadata": {},
   "source": [
    "Много пользователей не отправляют сообщения, либо отправляют не более 5.\n",
    "Несмотря на лимит в 50 сообщений, не мало пользователей превышают его и довольно много встречаются отправки 50-80 сообщений, есть выше 100 сообщений.\n",
    "\n",
    "Построим гистограмму с кол-ством мегабайт для тарифа Smart."
   ]
  },
  {
   "cell_type": "code",
   "execution_count": 37,
   "metadata": {},
   "outputs": [
    {
     "data": {
      "image/png": "[encoded data removed]",
      "text/plain": [
       "<Figure size 432x288 with 1 Axes>"
      ]
     },
     "metadata": {
      "needs_background": "light"
     },
     "output_type": "display_data"
    }
   ],
   "source": [
    "sum_smart['gb_used'].hist(bins=35)\n",
    "plt.title('Кол-во использованных гигабайт трафика Smart')\n",
    "plt.show()"
   ]
  },
  {
   "cell_type": "markdown",
   "metadata": {},
   "source": [
    "Небольшая часть пользователей не пользуются интернетом, либо же используют не больше 10 гб.\n",
    "Пик находится на уровне 12-20 гб, но много пользователей превышают данный лимит и хвост доходит к 0 только ближе к 30 гб."
   ]
  },
  {
   "cell_type": "markdown",
   "metadata": {},
   "source": [
    "Построим гистограмму с кол-ством минут для тарифа Ultra."
   ]
  },
  {
   "cell_type": "code",
   "execution_count": 38,
   "metadata": {},
   "outputs": [
    {
     "data": {
      "image/png": "[encoded data removed]",
      "text/plain": [
       "<Figure size 432x288 with 1 Axes>"
      ]
     },
     "metadata": {
      "needs_background": "light"
     },
     "output_type": "display_data"
    }
   ],
   "source": [
    "sum_ultra['duration_count_sum'].hist(bins=35)\n",
    "plt.title('Кол-во использованных минут трафика Ultra')\n",
    "plt.show()"
   ]
  },
  {
   "cell_type": "markdown",
   "metadata": {},
   "source": [
    "Некоторая часть пользователей не пользуются сотовой связью, либо же используют не больше 250 минут.\n",
    "Пик кол-ства минут находится около 500-600 минут и держится до 800 минут, далее резкий спад, хвост приближается к 0 после 1300 минут.\n",
    "\n",
    "Построим гистограмму с кол-ством сообщений для тарифа."
   ]
  },
  {
   "cell_type": "code",
   "execution_count": 39,
   "metadata": {
    "scrolled": true
   },
   "outputs": [
    {
     "data": {
      "image/png": "[encoded data removed]",
      "text/plain": [
       "<Figure size 432x288 with 1 Axes>"
      ]
     },
     "metadata": {
      "needs_background": "light"
     },
     "output_type": "display_data"
    }
   ],
   "source": [
    "sum_ultra['messages'].hist(bins=35, range = (0, 250))\n",
    "plt.title('Кол-во использованных сообщений трафика  Ultra')\n",
    "plt.show()"
   ]
  },
  {
   "cell_type": "markdown",
   "metadata": {},
   "source": [
    "Довольно таки много пользователей не отпрааляют сообщения, либо же отправляют не больше 5.\n",
    "Те, кто пользуется отправкой сообщений отправляет около 20-100 сообщений, хвост приближается к 0 после 150 сообщений.\n",
    "\n",
    "Построим гистограмму с кол-ством гигабайт для тарифа Ultra."
   ]
  },
  {
   "cell_type": "code",
   "execution_count": 40,
   "metadata": {},
   "outputs": [
    {
     "data": {
      "image/png": "[encoded data removed]",
      "text/plain": [
       "<Figure size 432x288 with 1 Axes>"
      ]
     },
     "metadata": {
      "needs_background": "light"
     },
     "output_type": "display_data"
    }
   ],
   "source": [
    "sum_ultra['gb_used'].hist(bins=10)\n",
    "plt.title('Кол-во использованных гигабайт трафика Ultra')\n",
    "plt.show()"
   ]
  },
  {
   "cell_type": "markdown",
   "metadata": {},
   "source": [
    "Небольшая часть пользователей не использует интернет.\n",
    "Пик мегабайт находится на 15-30 гб, хвост приближается к 0 после 40 гб."
   ]
  },
  {
   "cell_type": "markdown",
   "metadata": {},
   "source": [
    "Посчитаем среднее количество, дисперсию и стандартное отклонение по каждому тарифу."
   ]
  },
  {
   "cell_type": "code",
   "execution_count": 41,
   "metadata": {},
   "outputs": [
    {
     "data": {
      "text/html": [
       "<div>\n",
       "<style scoped>\n",
       "    .dataframe tbody tr th:only-of-type {\n",
       "        vertical-align: middle;\n",
       "    }\n",
       "\n",
       "    .dataframe tbody tr th {\n",
       "        vertical-align: top;\n",
       "    }\n",
       "\n",
       "    .dataframe thead tr th {\n",
       "        text-align: left;\n",
       "    }\n",
       "\n",
       "    .dataframe thead tr:last-of-type th {\n",
       "        text-align: right;\n",
       "    }\n",
       "</style>\n",
       "<table border=\"1\" class=\"dataframe\">\n",
       "  <thead>\n",
       "    <tr>\n",
       "      <th></th>\n",
       "      <th colspan=\"3\" halign=\"left\">mean</th>\n",
       "      <th colspan=\"3\" halign=\"left\">var</th>\n",
       "      <th colspan=\"3\" halign=\"left\">std</th>\n",
       "    </tr>\n",
       "    <tr>\n",
       "      <th></th>\n",
       "      <th>duration_count_sum</th>\n",
       "      <th>gb_used</th>\n",
       "      <th>messages</th>\n",
       "      <th>duration_count_sum</th>\n",
       "      <th>gb_used</th>\n",
       "      <th>messages</th>\n",
       "      <th>duration_count_sum</th>\n",
       "      <th>gb_used</th>\n",
       "      <th>messages</th>\n",
       "    </tr>\n",
       "    <tr>\n",
       "      <th>tariff_name</th>\n",
       "      <th></th>\n",
       "      <th></th>\n",
       "      <th></th>\n",
       "      <th></th>\n",
       "      <th></th>\n",
       "      <th></th>\n",
       "      <th></th>\n",
       "      <th></th>\n",
       "      <th></th>\n",
       "    </tr>\n",
       "  </thead>\n",
       "  <tbody>\n",
       "    <tr>\n",
       "      <td>0</td>\n",
       "      <td>0.0</td>\n",
       "      <td>19.0</td>\n",
       "      <td>54.0</td>\n",
       "      <td>0.0</td>\n",
       "      <td>70.0</td>\n",
       "      <td>4157.0</td>\n",
       "      <td>0.0</td>\n",
       "      <td>8.0</td>\n",
       "      <td>64.0</td>\n",
       "    </tr>\n",
       "    <tr>\n",
       "      <td>smart</td>\n",
       "      <td>431.0</td>\n",
       "      <td>16.0</td>\n",
       "      <td>33.0</td>\n",
       "      <td>37578.0</td>\n",
       "      <td>33.0</td>\n",
       "      <td>799.0</td>\n",
       "      <td>194.0</td>\n",
       "      <td>6.0</td>\n",
       "      <td>28.0</td>\n",
       "    </tr>\n",
       "    <tr>\n",
       "      <td>ultra</td>\n",
       "      <td>560.0</td>\n",
       "      <td>19.0</td>\n",
       "      <td>49.0</td>\n",
       "      <td>99063.0</td>\n",
       "      <td>98.0</td>\n",
       "      <td>2199.0</td>\n",
       "      <td>315.0</td>\n",
       "      <td>10.0</td>\n",
       "      <td>47.0</td>\n",
       "    </tr>\n",
       "  </tbody>\n",
       "</table>\n",
       "</div>"
      ],
      "text/plain": [
       "                          mean                                 var          \\\n",
       "            duration_count_sum gb_used messages duration_count_sum gb_used   \n",
       "tariff_name                                                                  \n",
       "0                          0.0    19.0     54.0                0.0    70.0   \n",
       "smart                    431.0    16.0     33.0            37578.0    33.0   \n",
       "ultra                    560.0    19.0     49.0            99063.0    98.0   \n",
       "\n",
       "                                    std                   \n",
       "            messages duration_count_sum gb_used messages  \n",
       "tariff_name                                               \n",
       "0             4157.0                0.0     8.0     64.0  \n",
       "smart          799.0              194.0     6.0     28.0  \n",
       "ultra         2199.0              315.0    10.0     47.0  "
      ]
     },
     "execution_count": 41,
     "metadata": {},
     "output_type": "execute_result"
    }
   ],
   "source": [
    "variance = full_table.pivot_table(\n",
    "    index = ['tariff_name'], \n",
    "    values = ['duration_count_sum', 'messages', 'gb_used'], \n",
    "    aggfunc=['mean', 'var', 'std'])\n",
    "\n",
    "variance.round(0)"
   ]
  },
  {
   "cell_type": "markdown",
   "metadata": {},
   "source": [
    "### Вывод по анализу данных"
   ]
  },
  {
   "cell_type": "markdown",
   "metadata": {},
   "source": [
    "* Пользователи тарифа Smart часто выходят за лимиты тарифа, чаще всего по кол-ству минут и по лимиту мегабайт.\n",
    "* Пользователи тарифа Ultra практически не превышают лимитов, кроме мегабайт интернета.\n",
    "* Пользователи двух тарифов используют примерно одинаковые объемы интернета, особенно на пиках графиков.\n",
    "* В двух тарифах пользователи не пользуются отправкой сообщений, либо же используют в небольших кол-ствах до 5-10 сообщений.\n",
    "* Пользователи тарифа Ultra чаще всего не используют весь лимит по звонкам и сообщениям."
   ]
  },
  {
   "cell_type": "markdown",
   "metadata": {},
   "source": [
    "## Проверка гипотез"
   ]
  },
  {
   "cell_type": "markdown",
   "metadata": {},
   "source": [
    "Гипотеза: средняя выручка пользователей тарифов «Ультра» и «Смарт» различаются"
   ]
  },
  {
   "cell_type": "markdown",
   "metadata": {},
   "source": [
    "H₀: Средняя выручка пользователей тарифов «Ультра» и «Смарт» не различаются.\n",
    "\n",
    "H₁: Cредняя выручка пользователей тарифов «Ультра» и «Смарт» различаются."
   ]
  },
  {
   "cell_type": "code",
   "execution_count": 42,
   "metadata": {},
   "outputs": [
    {
     "name": "stdout",
     "output_type": "stream",
     "text": [
      "cреднее значение Smart:  1307.9127305443094\n",
      "cреднее значение Ultra:  2070.9779179810726\n",
      "p-значение: 9.508492042148251e-147\n",
      "Отвергаем нулевую гипотезу\n"
     ]
    }
   ],
   "source": [
    "smart = sum_smart['revenue']\n",
    "ultra = sum_ultra['revenue']\n",
    "\n",
    "print('cреднее значение Smart: ',pd.Series(smart).mean())\n",
    "print('cреднее значение Ultra: ',pd.Series(ultra).mean())\n",
    "alpha = 0.05\n",
    "\n",
    "results = st.ttest_ind(smart, ultra)\n",
    "\n",
    "print('p-значение:', results.pvalue)\n",
    "\n",
    "if (results.pvalue < alpha):\n",
    "    print(\"Отвергаем нулевую гипотезу\")\n",
    "else:\n",
    "    print(\"Не получилось отвергнуть нулевую гипотезу\")"
   ]
  },
  {
   "cell_type": "markdown",
   "metadata": {},
   "source": [
    "Выручка по двум тарифам различается. Средняя выручка из тарифа Ultra выше."
   ]
  },
  {
   "cell_type": "markdown",
   "metadata": {},
   "source": [
    "Гипотеза: средняя выручка пользователей из Москвы не отличается от выручки пользователей из других регионов."
   ]
  },
  {
   "cell_type": "markdown",
   "metadata": {},
   "source": [
    "H₀: Средняя выручка пользователей из Москвы не отличается от выручки пользователей из других регионов.\n",
    "\n",
    "H₁: Cредняя выручка пользователей из Москвы отличается от выручки пользователей из других регионов."
   ]
  },
  {
   "cell_type": "markdown",
   "metadata": {},
   "source": [
    "Сохраним в moscow_tariff список пользователей из Москвы, а в other_tariff список пользователей из других регионов."
   ]
  },
  {
   "cell_type": "code",
   "execution_count": 43,
   "metadata": {},
   "outputs": [],
   "source": [
    "moscow_tariff = full_table[(full_table['city'] == 'Москва')]\n",
    "other_tariff = full_table[(full_table['city'] != 'Москва')]"
   ]
  },
  {
   "cell_type": "markdown",
   "metadata": {},
   "source": [
    "Проверим, отличается ли среднняя выручка по пользователям Москвы и других регионов."
   ]
  },
  {
   "cell_type": "code",
   "execution_count": 44,
   "metadata": {},
   "outputs": [
    {
     "name": "stdout",
     "output_type": "stream",
     "text": [
      "Выручка по Москве:  1555.8295081967212\n",
      "Выручка с других регионов:  1508.4231950844853\n",
      "p-значение: 0.19685279131193426\n",
      "Не получилось отвергнуть нулевую гипотезу\n"
     ]
    }
   ],
   "source": [
    "moscow = moscow_tariff['revenue']\n",
    "other = other_tariff['revenue']\n",
    "\n",
    "print('Выручка по Москве: ',pd.Series(moscow).mean())\n",
    "print('Выручка с других регионов: ',pd.Series(other).mean())\n",
    "alpha = 0.05\n",
    "\n",
    "results = st.ttest_ind(\n",
    "    moscow, \n",
    "    other) \n",
    "\n",
    "print('p-значение:', results.pvalue)\n",
    "\n",
    "if (results.pvalue < alpha):\n",
    "    print(\"Отвергаем нулевую гипотезу\")\n",
    "else:\n",
    "    print(\"Не получилось отвергнуть нулевую гипотезу\")"
   ]
  },
  {
   "cell_type": "markdown",
   "metadata": {},
   "source": [
    "Выручка по Москве и другим регионам различается. Если судить по средним значениям, то различие не сильное."
   ]
  },
  {
   "cell_type": "markdown",
   "metadata": {},
   "source": [
    "Проверим отличается ли выручка по Москве тарифа Smart от выручки по другим регионам.\n",
    "\n",
    "Гипотеза: средняя выручка тарифа Smart пользователей из Москвы не отличается от выручки пользователей из других регионов."
   ]
  },
  {
   "cell_type": "markdown",
   "metadata": {},
   "source": [
    "Сохраним moscow_tariff_smart список пользователей из Москвы с тарифом Смарт, а в other_tariff список пользователей из других регионов."
   ]
  },
  {
   "cell_type": "code",
   "execution_count": 45,
   "metadata": {},
   "outputs": [],
   "source": [
    "moscow_tariff_smart = full_table[(full_table['city'] == 'Москва') & (full_table['tariff_name'] == 'smart')]\n",
    "other_tariff_smart = full_table[(full_table['city'] != 'Москва') & (full_table['tariff_name'] == 'smart')]"
   ]
  },
  {
   "cell_type": "code",
   "execution_count": 46,
   "metadata": {},
   "outputs": [
    {
     "name": "stdout",
     "output_type": "stream",
     "text": [
      "cреднее до:  1254.8082901554403\n",
      "cреднее после:  1319.0713119216114\n",
      "p-значение: 0.16588580294265398\n",
      "Не получилось отвергнуть нулевую гипотезу\n"
     ]
    }
   ],
   "source": [
    "moscow = moscow_tariff_smart['revenue']\n",
    "other = other_tariff_smart['revenue']\n",
    "\n",
    "print('cреднее до: ',pd.Series(moscow).mean())\n",
    "print('cреднее после: ',pd.Series(other).mean())\n",
    "alpha = 0.05\n",
    "\n",
    "results = st.ttest_ind(moscow, other)\n",
    "\n",
    "print('p-значение:', results.pvalue)\n",
    "\n",
    "if (results.pvalue < alpha):\n",
    "    print(\"Отвергаем нулевую гипотезу\")\n",
    "else:\n",
    "    print(\"Не получилось отвергнуть нулевую гипотезу\")"
   ]
  },
  {
   "cell_type": "markdown",
   "metadata": {},
   "source": [
    "Выручка по Москве и других регионам, по тарифу Смарт, почти не различается. "
   ]
  },
  {
   "cell_type": "markdown",
   "metadata": {},
   "source": [
    "Гипотеза: средняя выручка тарифа Ultra пользователей из Москвы не отличается от выручки пользователей из других регионов."
   ]
  },
  {
   "cell_type": "markdown",
   "metadata": {},
   "source": [
    "Сохраним moscow_tariff_smart список пользователей из Москвы с тарифом Ультра, а в other_tariff список пользователей из других регионов."
   ]
  },
  {
   "cell_type": "code",
   "execution_count": 47,
   "metadata": {},
   "outputs": [],
   "source": [
    "moscow_tariff_ultra = full_table[(full_table['city'] == 'Москва') & (full_table['tariff_name'] == 'ultra')]\n",
    "other_tariff_ultra = full_table[(full_table['city'] != 'Москва') & (full_table['tariff_name'] == 'ultra')]"
   ]
  },
  {
   "cell_type": "code",
   "execution_count": 48,
   "metadata": {},
   "outputs": [
    {
     "name": "stdout",
     "output_type": "stream",
     "text": [
      "Выручка по Москве тарифа Ultra:  2074.5535714285716\n",
      "Выручка с других регионов тарифа Ultra:  2069.876203576341\n",
      "p-значение: 0.8719437051466759\n",
      "Не получилось отвергнуть нулевую гипотезу\n"
     ]
    }
   ],
   "source": [
    "moscow = moscow_tariff_ultra['revenue']\n",
    "other = other_tariff_ultra['revenue']\n",
    "\n",
    "print('Выручка по Москве тарифа Ultra: ',pd.Series(moscow).mean())\n",
    "print('Выручка с других регионов тарифа Ultra: ',pd.Series(other).mean())\n",
    "alpha = 0.05\n",
    "\n",
    "results = st.ttest_ind(moscow, other)\n",
    "\n",
    "print('p-значение:', results.pvalue)\n",
    "\n",
    "if (results.pvalue < alpha):\n",
    "    print(\"Отвергаем нулевую гипотезу\")\n",
    "else:\n",
    "    print(\"Не получилось отвергнуть нулевую гипотезу\")"
   ]
  },
  {
   "cell_type": "markdown",
   "metadata": {},
   "source": [
    "Выручка по Москве и других регионам, по тарифу Ультра, почти не различается."
   ]
  },
  {
   "cell_type": "markdown",
   "metadata": {},
   "source": [
    "## Общий вывод"
   ]
  },
  {
   "cell_type": "markdown",
   "metadata": {},
   "source": [
    "После исследования можно сказать, что:\n",
    "* Пользователи больше предпочитают тариф Smart.\n",
    "* Больше всего приносит дополнительного дохода тариф Smart.\n",
    "* Самым прибильным сегментом является - интернет.\n",
    "* Общая прибыль больше всего у тарифа Smart.\n",
    "* Пользователи тарифа Smart не укладываются в лимиты тарифа, чаще всего по кол-ству минут и по лимиту мегабайт.\n",
    "* Пользователи тарифа Ultra практически не превышают лимитов, кроме мегабайт интернета.\n",
    "* Пользователи двух тарифов используют примерно одинаковые объемы интернета, особенно на пиках графиков.\n",
    "* В двух тарифак довольно много пользователей которые не пользуются отправкой сообщений, либо же используют в небольших кол-ствах до 5-10 сообщений.\n",
    "* Пользователи тарифа Ultra чаще всего не используют весь лимит по звонкам и сообщениям.\n",
    "* Несмотря на то, что больше прибыли приносит тариф Smart, среднняя выручка выше у Ultra.\n",
    "* Разница в средней выручке из Москвы и других регонов - незначительная.\n",
    "* Разница в средней выручке двух тарифов из Москвы и других регонов - незначительная."
   ]
  }
 ],
 "metadata": {
  "ExecuteTimeLog": [
   {
    "duration": 730,
    "start_time": "2021-12-14T21:39:30.275Z"
   },
   {
    "duration": 90,
    "start_time": "2021-12-14T21:39:50.494Z"
   },
   {
    "duration": 534,
    "start_time": "2021-12-14T21:40:08.537Z"
   },
   {
    "duration": 32,
    "start_time": "2021-12-14T21:42:40.937Z"
   },
   {
    "duration": 42,
    "start_time": "2021-12-14T21:42:56.350Z"
   },
   {
    "duration": 36,
    "start_time": "2021-12-14T21:43:12.021Z"
   },
   {
    "duration": 33,
    "start_time": "2021-12-14T21:43:19.136Z"
   },
   {
    "duration": 31,
    "start_time": "2021-12-14T21:44:05.736Z"
   },
   {
    "duration": 26,
    "start_time": "2021-12-14T21:45:03.436Z"
   },
   {
    "duration": 682,
    "start_time": "2021-12-14T21:45:51.430Z"
   },
   {
    "duration": 16,
    "start_time": "2021-12-14T21:46:22.508Z"
   },
   {
    "duration": 22,
    "start_time": "2021-12-14T21:47:56.211Z"
   },
   {
    "duration": 92,
    "start_time": "2021-12-14T21:54:21.463Z"
   },
   {
    "duration": 3,
    "start_time": "2021-12-14T21:58:33.092Z"
   },
   {
    "duration": 22,
    "start_time": "2021-12-14T22:12:59.353Z"
   },
   {
    "duration": 36,
    "start_time": "2021-12-14T22:13:06.995Z"
   },
   {
    "duration": 22,
    "start_time": "2021-12-14T22:13:19.909Z"
   },
   {
    "duration": 3,
    "start_time": "2021-12-14T22:17:18.847Z"
   },
   {
    "duration": 5,
    "start_time": "2021-12-14T22:29:56.062Z"
   },
   {
    "duration": 689,
    "start_time": "2021-12-14T22:31:20.423Z"
   },
   {
    "duration": 5,
    "start_time": "2021-12-14T22:31:43.191Z"
   },
   {
    "duration": 103,
    "start_time": "2021-12-14T22:31:45.070Z"
   },
   {
    "duration": 7,
    "start_time": "2021-12-14T22:39:24.561Z"
   },
   {
    "duration": 105,
    "start_time": "2021-12-14T22:41:51.409Z"
   },
   {
    "duration": 4,
    "start_time": "2021-12-14T22:42:05.597Z"
   },
   {
    "duration": 5,
    "start_time": "2021-12-14T22:42:17.968Z"
   },
   {
    "duration": 4,
    "start_time": "2021-12-14T22:51:24.898Z"
   },
   {
    "duration": 4,
    "start_time": "2021-12-14T22:57:06.968Z"
   },
   {
    "duration": 4,
    "start_time": "2021-12-14T22:57:16.436Z"
   },
   {
    "duration": 7919,
    "start_time": "2021-12-14T22:57:18.411Z"
   },
   {
    "duration": 70,
    "start_time": "2021-12-14T22:58:22.137Z"
   },
   {
    "duration": 262,
    "start_time": "2021-12-14T23:01:40.584Z"
   },
   {
    "duration": 11,
    "start_time": "2021-12-14T23:03:23.317Z"
   },
   {
    "duration": 27,
    "start_time": "2021-12-14T23:03:42.055Z"
   },
   {
    "duration": 3,
    "start_time": "2021-12-14T23:04:04.568Z"
   },
   {
    "duration": 1724,
    "start_time": "2021-12-14T23:04:27.916Z"
   },
   {
    "duration": 507,
    "start_time": "2021-12-14T23:04:29.642Z"
   },
   {
    "duration": 54,
    "start_time": "2021-12-14T23:04:30.155Z"
   },
   {
    "duration": 35,
    "start_time": "2021-12-14T23:04:30.211Z"
   },
   {
    "duration": 25,
    "start_time": "2021-12-14T23:04:30.248Z"
   },
   {
    "duration": 16,
    "start_time": "2021-12-14T23:04:30.275Z"
   },
   {
    "duration": 30,
    "start_time": "2021-12-14T23:04:30.293Z"
   },
   {
    "duration": 18,
    "start_time": "2021-12-14T23:04:30.327Z"
   },
   {
    "duration": 126,
    "start_time": "2021-12-14T23:04:30.347Z"
   },
   {
    "duration": 6,
    "start_time": "2021-12-14T23:04:30.476Z"
   },
   {
    "duration": 9,
    "start_time": "2021-12-14T23:04:30.484Z"
   },
   {
    "duration": 9,
    "start_time": "2021-12-14T23:04:30.495Z"
   },
   {
    "duration": 83,
    "start_time": "2021-12-14T23:04:30.506Z"
   },
   {
    "duration": 37,
    "start_time": "2021-12-14T23:04:30.591Z"
   },
   {
    "duration": 28,
    "start_time": "2021-12-14T23:06:41.124Z"
   },
   {
    "duration": 104,
    "start_time": "2021-12-14T23:08:12.187Z"
   },
   {
    "duration": 4,
    "start_time": "2021-12-14T23:08:30.949Z"
   },
   {
    "duration": 27,
    "start_time": "2021-12-14T23:09:17.281Z"
   },
   {
    "duration": 16,
    "start_time": "2021-12-14T23:10:35.257Z"
   },
   {
    "duration": 358,
    "start_time": "2021-12-14T23:10:50.384Z"
   },
   {
    "duration": 268,
    "start_time": "2021-12-14T23:10:59.097Z"
   },
   {
    "duration": 11,
    "start_time": "2021-12-14T23:13:30.372Z"
   },
   {
    "duration": 11,
    "start_time": "2021-12-14T23:19:15.195Z"
   },
   {
    "duration": 8,
    "start_time": "2021-12-14T23:26:36.963Z"
   },
   {
    "duration": 4,
    "start_time": "2021-12-14T23:28:55.294Z"
   },
   {
    "duration": 66,
    "start_time": "2021-12-14T23:28:56.451Z"
   },
   {
    "duration": 694,
    "start_time": "2021-12-14T23:29:09.939Z"
   },
   {
    "duration": 490,
    "start_time": "2021-12-14T23:29:10.635Z"
   },
   {
    "duration": 43,
    "start_time": "2021-12-14T23:29:11.128Z"
   },
   {
    "duration": 56,
    "start_time": "2021-12-14T23:29:11.174Z"
   },
   {
    "duration": 25,
    "start_time": "2021-12-14T23:29:11.233Z"
   },
   {
    "duration": 16,
    "start_time": "2021-12-14T23:29:11.260Z"
   },
   {
    "duration": 49,
    "start_time": "2021-12-14T23:29:11.278Z"
   },
   {
    "duration": 4,
    "start_time": "2021-12-14T23:29:11.331Z"
   },
   {
    "duration": 118,
    "start_time": "2021-12-14T23:29:11.337Z"
   },
   {
    "duration": 6,
    "start_time": "2021-12-14T23:29:11.458Z"
   },
   {
    "duration": 8,
    "start_time": "2021-12-14T23:29:11.467Z"
   },
   {
    "duration": 10,
    "start_time": "2021-12-14T23:29:11.477Z"
   },
   {
    "duration": 4,
    "start_time": "2021-12-14T23:29:11.522Z"
   },
   {
    "duration": 71,
    "start_time": "2021-12-14T23:29:11.529Z"
   },
   {
    "duration": 383,
    "start_time": "2021-12-14T23:30:21.004Z"
   },
   {
    "duration": 3,
    "start_time": "2021-12-14T23:30:32.502Z"
   },
   {
    "duration": 68,
    "start_time": "2021-12-14T23:30:33.938Z"
   },
   {
    "duration": 137,
    "start_time": "2021-12-14T23:30:35.934Z"
   },
   {
    "duration": 3,
    "start_time": "2021-12-14T23:30:54.327Z"
   },
   {
    "duration": 57,
    "start_time": "2021-12-14T23:31:40.652Z"
   },
   {
    "duration": 65,
    "start_time": "2021-12-14T23:32:43.946Z"
   },
   {
    "duration": 306,
    "start_time": "2021-12-14T23:34:12.563Z"
   },
   {
    "duration": 11,
    "start_time": "2021-12-14T23:34:50.986Z"
   },
   {
    "duration": 81,
    "start_time": "2021-12-14T23:35:01.332Z"
   },
   {
    "duration": 9,
    "start_time": "2021-12-14T23:37:11.586Z"
   },
   {
    "duration": 46,
    "start_time": "2021-12-14T23:41:03.906Z"
   },
   {
    "duration": 3,
    "start_time": "2021-12-14T23:57:14.756Z"
   },
   {
    "duration": 20,
    "start_time": "2021-12-14T23:58:55.257Z"
   },
   {
    "duration": 28,
    "start_time": "2021-12-14T23:59:09.221Z"
   },
   {
    "duration": 18,
    "start_time": "2021-12-14T23:59:50.913Z"
   },
   {
    "duration": 126,
    "start_time": "2021-12-15T00:01:04.516Z"
   },
   {
    "duration": 339,
    "start_time": "2021-12-15T00:02:29.306Z"
   },
   {
    "duration": 83,
    "start_time": "2021-12-15T00:02:40.425Z"
   },
   {
    "duration": 138,
    "start_time": "2021-12-15T00:04:02.927Z"
   },
   {
    "duration": 76,
    "start_time": "2021-12-15T00:06:32.427Z"
   },
   {
    "duration": 66,
    "start_time": "2021-12-15T00:07:00.238Z"
   },
   {
    "duration": 53,
    "start_time": "2021-12-15T00:07:48.692Z"
   },
   {
    "duration": 64,
    "start_time": "2021-12-15T00:08:41.068Z"
   },
   {
    "duration": 64,
    "start_time": "2021-12-15T00:08:49.093Z"
   },
   {
    "duration": 68,
    "start_time": "2021-12-15T00:08:53.211Z"
   },
   {
    "duration": 65,
    "start_time": "2021-12-15T00:08:57.406Z"
   },
   {
    "duration": 660,
    "start_time": "2021-12-15T00:09:26.220Z"
   },
   {
    "duration": 288,
    "start_time": "2021-12-15T00:10:40.939Z"
   },
   {
    "duration": 192,
    "start_time": "2021-12-15T00:10:52.416Z"
   },
   {
    "duration": 302,
    "start_time": "2021-12-15T00:11:14.314Z"
   },
   {
    "duration": 289,
    "start_time": "2021-12-15T00:11:20.612Z"
   },
   {
    "duration": 88,
    "start_time": "2021-12-15T00:11:41.393Z"
   },
   {
    "duration": 282,
    "start_time": "2021-12-15T00:15:56.690Z"
   },
   {
    "duration": 303,
    "start_time": "2021-12-15T00:16:08.406Z"
   },
   {
    "duration": 3,
    "start_time": "2021-12-15T00:25:57.913Z"
   },
   {
    "duration": 3,
    "start_time": "2021-12-15T00:26:11.753Z"
   },
   {
    "duration": 4,
    "start_time": "2021-12-15T00:26:26.384Z"
   },
   {
    "duration": 71,
    "start_time": "2021-12-15T00:27:14.712Z"
   },
   {
    "duration": 8975,
    "start_time": "2021-12-15T00:28:16.754Z"
   },
   {
    "duration": 12,
    "start_time": "2021-12-15T00:29:10.803Z"
   },
   {
    "duration": 167,
    "start_time": "2021-12-15T00:30:33.521Z"
   },
   {
    "duration": 295,
    "start_time": "2021-12-15T00:34:20.687Z"
   },
   {
    "duration": 248,
    "start_time": "2021-12-15T00:34:49.052Z"
   },
   {
    "duration": 293,
    "start_time": "2021-12-15T00:35:17.757Z"
   },
   {
    "duration": 57,
    "start_time": "2021-12-15T00:36:08.989Z"
   },
   {
    "duration": 30,
    "start_time": "2021-12-15T00:36:25.514Z"
   },
   {
    "duration": 646,
    "start_time": "2021-12-15T11:45:45.843Z"
   },
   {
    "duration": 729,
    "start_time": "2021-12-15T11:45:46.491Z"
   },
   {
    "duration": 42,
    "start_time": "2021-12-15T11:45:47.222Z"
   },
   {
    "duration": 24,
    "start_time": "2021-12-15T11:45:47.265Z"
   },
   {
    "duration": 21,
    "start_time": "2021-12-15T11:45:47.291Z"
   },
   {
    "duration": 13,
    "start_time": "2021-12-15T11:45:47.314Z"
   },
   {
    "duration": 37,
    "start_time": "2021-12-15T11:45:47.329Z"
   },
   {
    "duration": 2,
    "start_time": "2021-12-15T11:45:47.369Z"
   },
   {
    "duration": 76,
    "start_time": "2021-12-15T11:45:47.373Z"
   },
   {
    "duration": 5,
    "start_time": "2021-12-15T11:45:47.464Z"
   },
   {
    "duration": 7,
    "start_time": "2021-12-15T11:45:47.471Z"
   },
   {
    "duration": 8,
    "start_time": "2021-12-15T11:45:47.480Z"
   },
   {
    "duration": 7,
    "start_time": "2021-12-15T11:45:47.490Z"
   },
   {
    "duration": 64,
    "start_time": "2021-12-15T11:45:47.499Z"
   },
   {
    "duration": 22,
    "start_time": "2021-12-15T11:45:47.565Z"
   },
   {
    "duration": 17,
    "start_time": "2021-12-15T11:45:47.589Z"
   },
   {
    "duration": 123,
    "start_time": "2021-12-15T11:45:47.608Z"
   },
   {
    "duration": 92,
    "start_time": "2021-12-15T11:45:47.733Z"
   },
   {
    "duration": 19,
    "start_time": "2021-12-15T11:45:47.827Z"
   },
   {
    "duration": 234,
    "start_time": "2021-12-15T11:45:47.848Z"
   },
   {
    "duration": 134,
    "start_time": "2021-12-15T11:45:48.084Z"
   },
   {
    "duration": 2,
    "start_time": "2021-12-15T11:45:48.220Z"
   },
   {
    "duration": 8,
    "start_time": "2021-12-15T11:45:48.225Z"
   },
   {
    "duration": 96,
    "start_time": "2021-12-15T11:45:48.235Z"
   },
   {
    "duration": 40,
    "start_time": "2021-12-15T11:45:48.332Z"
   },
   {
    "duration": 40,
    "start_time": "2021-12-15T11:45:48.373Z"
   },
   {
    "duration": 68,
    "start_time": "2021-12-15T11:45:48.415Z"
   },
   {
    "duration": 8,
    "start_time": "2021-12-15T11:45:48.485Z"
   },
   {
    "duration": 7,
    "start_time": "2021-12-15T11:45:48.494Z"
   },
   {
    "duration": 60,
    "start_time": "2021-12-15T11:45:48.503Z"
   },
   {
    "duration": 211,
    "start_time": "2021-12-15T11:46:09.732Z"
   },
   {
    "duration": 127,
    "start_time": "2021-12-15T11:47:07.457Z"
   },
   {
    "duration": 395,
    "start_time": "2021-12-15T11:51:11.980Z"
   },
   {
    "duration": 333,
    "start_time": "2021-12-15T11:51:21.413Z"
   },
   {
    "duration": 89,
    "start_time": "2021-12-15T11:51:53.536Z"
   },
   {
    "duration": 93,
    "start_time": "2021-12-15T11:51:59.973Z"
   },
   {
    "duration": 89,
    "start_time": "2021-12-15T11:53:18.065Z"
   },
   {
    "duration": 36,
    "start_time": "2021-12-15T11:54:38.756Z"
   },
   {
    "duration": 347,
    "start_time": "2021-12-15T11:56:22.660Z"
   },
   {
    "duration": 145,
    "start_time": "2021-12-15T11:56:29.016Z"
   },
   {
    "duration": 98,
    "start_time": "2021-12-15T11:56:34.498Z"
   },
   {
    "duration": 30,
    "start_time": "2021-12-15T11:58:09.174Z"
   },
   {
    "duration": 7,
    "start_time": "2021-12-15T11:58:59.686Z"
   },
   {
    "duration": 5,
    "start_time": "2021-12-15T12:00:11.709Z"
   },
   {
    "duration": 6878,
    "start_time": "2021-12-15T12:01:12.969Z"
   },
   {
    "duration": 7570,
    "start_time": "2021-12-15T12:01:44.731Z"
   },
   {
    "duration": 141,
    "start_time": "2021-12-15T12:06:58.697Z"
   },
   {
    "duration": 615,
    "start_time": "2021-12-15T12:07:22.425Z"
   },
   {
    "duration": 409,
    "start_time": "2021-12-15T12:07:23.042Z"
   },
   {
    "duration": 39,
    "start_time": "2021-12-15T12:07:23.454Z"
   },
   {
    "duration": 24,
    "start_time": "2021-12-15T12:07:23.495Z"
   },
   {
    "duration": 48,
    "start_time": "2021-12-15T12:07:23.521Z"
   },
   {
    "duration": 12,
    "start_time": "2021-12-15T12:07:23.571Z"
   },
   {
    "duration": 14,
    "start_time": "2021-12-15T12:07:23.584Z"
   },
   {
    "duration": 2,
    "start_time": "2021-12-15T12:07:23.600Z"
   },
   {
    "duration": 102,
    "start_time": "2021-12-15T12:07:23.605Z"
   },
   {
    "duration": 5,
    "start_time": "2021-12-15T12:07:23.709Z"
   },
   {
    "duration": 11,
    "start_time": "2021-12-15T12:07:23.716Z"
   },
   {
    "duration": 18,
    "start_time": "2021-12-15T12:07:23.729Z"
   },
   {
    "duration": 6,
    "start_time": "2021-12-15T12:07:23.749Z"
   },
   {
    "duration": 55,
    "start_time": "2021-12-15T12:07:23.757Z"
   },
   {
    "duration": 19,
    "start_time": "2021-12-15T12:07:23.814Z"
   },
   {
    "duration": 32,
    "start_time": "2021-12-15T12:07:23.835Z"
   },
   {
    "duration": 109,
    "start_time": "2021-12-15T12:07:23.869Z"
   },
   {
    "duration": 96,
    "start_time": "2021-12-15T12:07:23.981Z"
   },
   {
    "duration": 22,
    "start_time": "2021-12-15T12:07:24.079Z"
   },
   {
    "duration": 234,
    "start_time": "2021-12-15T12:07:24.103Z"
   },
   {
    "duration": 147,
    "start_time": "2021-12-15T12:07:24.339Z"
   },
   {
    "duration": 96,
    "start_time": "2021-12-15T12:07:24.488Z"
   },
   {
    "duration": 27,
    "start_time": "2021-12-15T12:07:24.585Z"
   },
   {
    "duration": 112,
    "start_time": "2021-12-15T12:07:24.613Z"
   },
   {
    "duration": 37,
    "start_time": "2021-12-15T12:07:24.727Z"
   },
   {
    "duration": 6,
    "start_time": "2021-12-15T12:07:24.766Z"
   },
   {
    "duration": 7,
    "start_time": "2021-12-15T12:07:24.775Z"
   },
   {
    "duration": 18,
    "start_time": "2021-12-15T12:07:24.784Z"
   },
   {
    "duration": 4,
    "start_time": "2021-12-15T12:07:24.804Z"
   },
   {
    "duration": 12,
    "start_time": "2021-12-15T12:07:24.810Z"
   },
   {
    "duration": 97,
    "start_time": "2021-12-15T12:07:24.823Z"
   },
   {
    "duration": 43,
    "start_time": "2021-12-15T12:07:24.922Z"
   },
   {
    "duration": 36,
    "start_time": "2021-12-15T12:07:24.967Z"
   },
   {
    "duration": 69,
    "start_time": "2021-12-15T12:07:25.005Z"
   },
   {
    "duration": 8,
    "start_time": "2021-12-15T12:07:25.076Z"
   },
   {
    "duration": 8,
    "start_time": "2021-12-15T12:07:25.086Z"
   },
   {
    "duration": 38,
    "start_time": "2021-12-15T12:07:25.095Z"
   },
   {
    "duration": 20,
    "start_time": "2021-12-15T12:08:08.801Z"
   },
   {
    "duration": 6,
    "start_time": "2021-12-15T12:10:27.070Z"
   },
   {
    "duration": 6328,
    "start_time": "2021-12-15T12:10:48.501Z"
   },
   {
    "duration": 6,
    "start_time": "2021-12-15T12:10:57.910Z"
   },
   {
    "duration": 16,
    "start_time": "2021-12-15T12:11:14.753Z"
   },
   {
    "duration": 5,
    "start_time": "2021-12-15T12:11:39.356Z"
   },
   {
    "duration": 19,
    "start_time": "2021-12-15T12:11:52.150Z"
   },
   {
    "duration": 979,
    "start_time": "2021-12-15T12:13:02.737Z"
   },
   {
    "duration": 263,
    "start_time": "2021-12-15T12:14:20.397Z"
   },
   {
    "duration": 1003,
    "start_time": "2021-12-15T12:14:30.783Z"
   },
   {
    "duration": 598,
    "start_time": "2021-12-15T12:19:23.077Z"
   },
   {
    "duration": 400,
    "start_time": "2021-12-15T12:19:23.677Z"
   },
   {
    "duration": 32,
    "start_time": "2021-12-15T12:19:24.079Z"
   },
   {
    "duration": 23,
    "start_time": "2021-12-15T12:19:24.113Z"
   },
   {
    "duration": 32,
    "start_time": "2021-12-15T12:19:24.137Z"
   },
   {
    "duration": 11,
    "start_time": "2021-12-15T12:19:24.171Z"
   },
   {
    "duration": 13,
    "start_time": "2021-12-15T12:19:24.184Z"
   },
   {
    "duration": 6,
    "start_time": "2021-12-15T12:19:24.199Z"
   },
   {
    "duration": 96,
    "start_time": "2021-12-15T12:19:24.206Z"
   },
   {
    "duration": 5,
    "start_time": "2021-12-15T12:19:24.304Z"
   },
   {
    "duration": 7,
    "start_time": "2021-12-15T12:19:24.310Z"
   },
   {
    "duration": 4,
    "start_time": "2021-12-15T12:19:24.319Z"
   },
   {
    "duration": 6,
    "start_time": "2021-12-15T12:19:24.325Z"
   },
   {
    "duration": 65,
    "start_time": "2021-12-15T12:19:24.332Z"
   },
   {
    "duration": 18,
    "start_time": "2021-12-15T12:19:24.399Z"
   },
   {
    "duration": 14,
    "start_time": "2021-12-15T12:19:24.419Z"
   },
   {
    "duration": 115,
    "start_time": "2021-12-15T12:19:24.434Z"
   },
   {
    "duration": 88,
    "start_time": "2021-12-15T12:19:24.550Z"
   },
   {
    "duration": 29,
    "start_time": "2021-12-15T12:19:24.639Z"
   },
   {
    "duration": 217,
    "start_time": "2021-12-15T12:19:24.669Z"
   },
   {
    "duration": 145,
    "start_time": "2021-12-15T12:19:24.888Z"
   },
   {
    "duration": 90,
    "start_time": "2021-12-15T12:19:25.034Z"
   },
   {
    "duration": 27,
    "start_time": "2021-12-15T12:19:25.126Z"
   },
   {
    "duration": 92,
    "start_time": "2021-12-15T12:19:25.163Z"
   },
   {
    "duration": 29,
    "start_time": "2021-12-15T12:19:25.263Z"
   },
   {
    "duration": 5,
    "start_time": "2021-12-15T12:19:25.293Z"
   },
   {
    "duration": 8,
    "start_time": "2021-12-15T12:19:25.300Z"
   },
   {
    "duration": 28,
    "start_time": "2021-12-15T12:19:25.309Z"
   },
   {
    "duration": 29,
    "start_time": "2021-12-15T12:19:25.339Z"
   },
   {
    "duration": 11,
    "start_time": "2021-12-15T12:19:25.370Z"
   },
   {
    "duration": 16,
    "start_time": "2021-12-15T12:19:25.382Z"
   },
   {
    "duration": 1066,
    "start_time": "2021-12-15T12:19:25.399Z"
   },
   {
    "duration": -356,
    "start_time": "2021-12-15T12:19:26.822Z"
   },
   {
    "duration": 1041,
    "start_time": "2021-12-15T12:23:45.123Z"
   },
   {
    "duration": 1020,
    "start_time": "2021-12-15T12:23:51.170Z"
   },
   {
    "duration": 616,
    "start_time": "2021-12-15T12:29:11.830Z"
   },
   {
    "duration": 415,
    "start_time": "2021-12-15T12:29:12.448Z"
   },
   {
    "duration": 33,
    "start_time": "2021-12-15T12:29:12.865Z"
   },
   {
    "duration": 22,
    "start_time": "2021-12-15T12:29:12.900Z"
   },
   {
    "duration": 40,
    "start_time": "2021-12-15T12:29:12.924Z"
   },
   {
    "duration": 11,
    "start_time": "2021-12-15T12:29:12.965Z"
   },
   {
    "duration": 12,
    "start_time": "2021-12-15T12:29:12.977Z"
   },
   {
    "duration": 3,
    "start_time": "2021-12-15T12:29:12.991Z"
   },
   {
    "duration": 101,
    "start_time": "2021-12-15T12:29:12.996Z"
   },
   {
    "duration": 6,
    "start_time": "2021-12-15T12:29:13.100Z"
   },
   {
    "duration": 6,
    "start_time": "2021-12-15T12:29:13.108Z"
   },
   {
    "duration": 7,
    "start_time": "2021-12-15T12:29:13.116Z"
   },
   {
    "duration": 5,
    "start_time": "2021-12-15T12:29:13.124Z"
   },
   {
    "duration": 76,
    "start_time": "2021-12-15T12:29:13.130Z"
   },
   {
    "duration": 19,
    "start_time": "2021-12-15T12:29:13.208Z"
   },
   {
    "duration": 14,
    "start_time": "2021-12-15T12:29:13.229Z"
   },
   {
    "duration": 123,
    "start_time": "2021-12-15T12:29:13.245Z"
   },
   {
    "duration": 95,
    "start_time": "2021-12-15T12:29:13.369Z"
   },
   {
    "duration": 20,
    "start_time": "2021-12-15T12:29:13.466Z"
   },
   {
    "duration": 249,
    "start_time": "2021-12-15T12:29:13.488Z"
   },
   {
    "duration": 156,
    "start_time": "2021-12-15T12:29:13.739Z"
   },
   {
    "duration": 97,
    "start_time": "2021-12-15T12:29:13.897Z"
   },
   {
    "duration": 28,
    "start_time": "2021-12-15T12:29:13.997Z"
   },
   {
    "duration": 116,
    "start_time": "2021-12-15T12:29:14.027Z"
   },
   {
    "duration": 33,
    "start_time": "2021-12-15T12:29:14.145Z"
   },
   {
    "duration": 5,
    "start_time": "2021-12-15T12:29:14.180Z"
   },
   {
    "duration": 6,
    "start_time": "2021-12-15T12:29:14.187Z"
   },
   {
    "duration": 25,
    "start_time": "2021-12-15T12:29:14.195Z"
   },
   {
    "duration": 2,
    "start_time": "2021-12-15T12:29:14.221Z"
   },
   {
    "duration": 6,
    "start_time": "2021-12-15T12:29:14.224Z"
   },
   {
    "duration": 18,
    "start_time": "2021-12-15T12:29:14.267Z"
   },
   {
    "duration": 1208,
    "start_time": "2021-12-15T12:29:14.287Z"
   },
   {
    "duration": -415,
    "start_time": "2021-12-15T12:29:15.912Z"
   },
   {
    "duration": 7,
    "start_time": "2021-12-15T12:31:07.535Z"
   },
   {
    "duration": 17,
    "start_time": "2021-12-15T12:31:11.217Z"
   },
   {
    "duration": 1080,
    "start_time": "2021-12-15T12:31:21.241Z"
   },
   {
    "duration": 8,
    "start_time": "2021-12-15T12:31:52.170Z"
   },
   {
    "duration": 973,
    "start_time": "2021-12-15T12:32:59.103Z"
   },
   {
    "duration": 14,
    "start_time": "2021-12-15T12:33:16.502Z"
   },
   {
    "duration": 16,
    "start_time": "2021-12-15T12:34:36.002Z"
   },
   {
    "duration": 18,
    "start_time": "2021-12-15T12:34:50.464Z"
   },
   {
    "duration": 6,
    "start_time": "2021-12-15T12:36:49.446Z"
   },
   {
    "duration": 276,
    "start_time": "2021-12-15T12:51:23.677Z"
   },
   {
    "duration": 507,
    "start_time": "2021-12-15T12:51:33.746Z"
   },
   {
    "duration": 4,
    "start_time": "2021-12-15T12:52:42.753Z"
   },
   {
    "duration": 205,
    "start_time": "2021-12-15T12:52:52.137Z"
   },
   {
    "duration": 670,
    "start_time": "2021-12-15T12:55:49.901Z"
   },
   {
    "duration": 469,
    "start_time": "2021-12-15T12:56:03.107Z"
   },
   {
    "duration": 529,
    "start_time": "2021-12-15T12:57:28.807Z"
   },
   {
    "duration": 476,
    "start_time": "2021-12-15T12:57:57.036Z"
   },
   {
    "duration": 448,
    "start_time": "2021-12-15T12:58:03.848Z"
   },
   {
    "duration": 490,
    "start_time": "2021-12-15T12:58:45.689Z"
   },
   {
    "duration": 240,
    "start_time": "2021-12-15T12:59:43.390Z"
   },
   {
    "duration": 240,
    "start_time": "2021-12-15T13:00:50.840Z"
   },
   {
    "duration": 205,
    "start_time": "2021-12-15T13:10:54.847Z"
   },
   {
    "duration": 294,
    "start_time": "2021-12-15T13:11:05.183Z"
   },
   {
    "duration": 80,
    "start_time": "2021-12-15T13:11:48.106Z"
   },
   {
    "duration": 218,
    "start_time": "2021-12-15T13:12:19.681Z"
   },
   {
    "duration": 201,
    "start_time": "2021-12-15T13:13:42.936Z"
   },
   {
    "duration": 249,
    "start_time": "2021-12-15T13:29:55.634Z"
   },
   {
    "duration": 34,
    "start_time": "2021-12-15T13:30:49.918Z"
   },
   {
    "duration": 387,
    "start_time": "2021-12-15T13:34:07.904Z"
   },
   {
    "duration": 8,
    "start_time": "2021-12-15T13:34:34.125Z"
   },
   {
    "duration": 7,
    "start_time": "2021-12-15T13:36:03.142Z"
   },
   {
    "duration": 6,
    "start_time": "2021-12-15T13:36:16.308Z"
   },
   {
    "duration": 7,
    "start_time": "2021-12-15T13:46:47.008Z"
   },
   {
    "duration": 92,
    "start_time": "2021-12-15T13:47:24.730Z"
   },
   {
    "duration": 8,
    "start_time": "2021-12-15T13:47:31.615Z"
   },
   {
    "duration": 8,
    "start_time": "2021-12-15T13:58:01.224Z"
   },
   {
    "duration": 7,
    "start_time": "2021-12-15T13:58:31.063Z"
   },
   {
    "duration": 6,
    "start_time": "2021-12-15T13:58:33.583Z"
   },
   {
    "duration": 9,
    "start_time": "2021-12-15T14:12:01.324Z"
   },
   {
    "duration": 7,
    "start_time": "2021-12-15T14:12:24.168Z"
   },
   {
    "duration": 3,
    "start_time": "2021-12-15T14:34:13.618Z"
   },
   {
    "duration": 1164,
    "start_time": "2021-12-15T14:34:21.632Z"
   },
   {
    "duration": 408,
    "start_time": "2021-12-15T14:34:22.798Z"
   },
   {
    "duration": 29,
    "start_time": "2021-12-15T14:34:23.211Z"
   },
   {
    "duration": 37,
    "start_time": "2021-12-15T14:34:23.242Z"
   },
   {
    "duration": 22,
    "start_time": "2021-12-15T14:34:23.281Z"
   },
   {
    "duration": 18,
    "start_time": "2021-12-15T14:34:23.305Z"
   },
   {
    "duration": 30,
    "start_time": "2021-12-15T14:34:23.324Z"
   },
   {
    "duration": 4,
    "start_time": "2021-12-15T14:34:23.357Z"
   },
   {
    "duration": 93,
    "start_time": "2021-12-15T14:34:23.363Z"
   },
   {
    "duration": 6,
    "start_time": "2021-12-15T14:34:23.457Z"
   },
   {
    "duration": 36,
    "start_time": "2021-12-15T14:34:23.464Z"
   },
   {
    "duration": 19,
    "start_time": "2021-12-15T14:34:23.502Z"
   },
   {
    "duration": 10,
    "start_time": "2021-12-15T14:34:23.523Z"
   },
   {
    "duration": 72,
    "start_time": "2021-12-15T14:34:23.534Z"
   },
   {
    "duration": 18,
    "start_time": "2021-12-15T14:34:23.608Z"
   },
   {
    "duration": 15,
    "start_time": "2021-12-15T14:34:23.627Z"
   },
   {
    "duration": 119,
    "start_time": "2021-12-15T14:34:23.645Z"
   },
   {
    "duration": 86,
    "start_time": "2021-12-15T14:34:23.765Z"
   },
   {
    "duration": 20,
    "start_time": "2021-12-15T14:34:23.863Z"
   },
   {
    "duration": 226,
    "start_time": "2021-12-15T14:34:23.884Z"
   },
   {
    "duration": 152,
    "start_time": "2021-12-15T14:34:24.111Z"
   },
   {
    "duration": 84,
    "start_time": "2021-12-15T14:34:24.265Z"
   },
   {
    "duration": 27,
    "start_time": "2021-12-15T14:34:24.363Z"
   },
   {
    "duration": 124,
    "start_time": "2021-12-15T14:34:24.392Z"
   },
   {
    "duration": 28,
    "start_time": "2021-12-15T14:34:24.517Z"
   },
   {
    "duration": 19,
    "start_time": "2021-12-15T14:34:24.548Z"
   },
   {
    "duration": 11,
    "start_time": "2021-12-15T14:34:24.569Z"
   },
   {
    "duration": 31,
    "start_time": "2021-12-15T14:34:24.581Z"
   },
   {
    "duration": 6,
    "start_time": "2021-12-15T14:34:24.614Z"
   },
   {
    "duration": 8,
    "start_time": "2021-12-15T14:34:24.621Z"
   },
   {
    "duration": 41,
    "start_time": "2021-12-15T14:34:24.631Z"
   },
   {
    "duration": 15,
    "start_time": "2021-12-15T14:34:24.673Z"
   },
   {
    "duration": 7,
    "start_time": "2021-12-15T14:34:24.690Z"
   },
   {
    "duration": 246,
    "start_time": "2021-12-15T14:34:24.698Z"
   },
   {
    "duration": 229,
    "start_time": "2021-12-15T14:34:24.946Z"
   },
   {
    "duration": 219,
    "start_time": "2021-12-15T14:34:25.177Z"
   },
   {
    "duration": 237,
    "start_time": "2021-12-15T14:34:25.398Z"
   },
   {
    "duration": 221,
    "start_time": "2021-12-15T14:34:25.637Z"
   },
   {
    "duration": 224,
    "start_time": "2021-12-15T14:34:25.862Z"
   },
   {
    "duration": 34,
    "start_time": "2021-12-15T14:34:26.087Z"
   },
   {
    "duration": 6,
    "start_time": "2021-12-15T14:34:26.123Z"
   },
   {
    "duration": 7,
    "start_time": "2021-12-15T14:34:26.131Z"
   },
   {
    "duration": 31,
    "start_time": "2021-12-15T14:34:26.140Z"
   },
   {
    "duration": 12,
    "start_time": "2021-12-15T14:34:26.173Z"
   },
   {
    "duration": 10,
    "start_time": "2021-12-15T14:34:26.187Z"
   },
   {
    "duration": 9,
    "start_time": "2021-12-15T14:34:26.199Z"
   },
   {
    "duration": 13,
    "start_time": "2021-12-15T14:34:26.209Z"
   },
   {
    "duration": 7,
    "start_time": "2021-12-15T14:59:19.308Z"
   },
   {
    "duration": 1448,
    "start_time": "2021-12-15T15:02:55.106Z"
   },
   {
    "duration": 564,
    "start_time": "2021-12-15T15:02:56.557Z"
   },
   {
    "duration": 29,
    "start_time": "2021-12-15T15:02:57.124Z"
   },
   {
    "duration": 26,
    "start_time": "2021-12-15T15:02:57.155Z"
   },
   {
    "duration": 20,
    "start_time": "2021-12-15T15:02:57.183Z"
   },
   {
    "duration": 12,
    "start_time": "2021-12-15T15:02:57.205Z"
   },
   {
    "duration": 13,
    "start_time": "2021-12-15T15:02:57.218Z"
   },
   {
    "duration": 3,
    "start_time": "2021-12-15T15:02:57.264Z"
   },
   {
    "duration": 72,
    "start_time": "2021-12-15T15:02:57.270Z"
   },
   {
    "duration": 19,
    "start_time": "2021-12-15T15:02:57.344Z"
   },
   {
    "duration": 6,
    "start_time": "2021-12-15T15:02:57.365Z"
   },
   {
    "duration": 6,
    "start_time": "2021-12-15T15:02:57.373Z"
   },
   {
    "duration": 8,
    "start_time": "2021-12-15T15:02:57.380Z"
   },
   {
    "duration": 53,
    "start_time": "2021-12-15T15:02:57.389Z"
   },
   {
    "duration": 49,
    "start_time": "2021-12-15T15:02:57.444Z"
   },
   {
    "duration": 14,
    "start_time": "2021-12-15T15:02:57.495Z"
   },
   {
    "duration": 118,
    "start_time": "2021-12-15T15:02:57.511Z"
   },
   {
    "duration": 97,
    "start_time": "2021-12-15T15:02:57.631Z"
   },
   {
    "duration": 42,
    "start_time": "2021-12-15T15:02:57.730Z"
   },
   {
    "duration": 325,
    "start_time": "2021-12-15T15:02:57.774Z"
   },
   {
    "duration": 143,
    "start_time": "2021-12-15T15:02:58.101Z"
   },
   {
    "duration": 93,
    "start_time": "2021-12-15T15:02:58.246Z"
   },
   {
    "duration": 36,
    "start_time": "2021-12-15T15:02:58.341Z"
   },
   {
    "duration": 126,
    "start_time": "2021-12-15T15:02:58.379Z"
   },
   {
    "duration": 29,
    "start_time": "2021-12-15T15:02:58.507Z"
   },
   {
    "duration": 25,
    "start_time": "2021-12-15T15:02:58.539Z"
   },
   {
    "duration": 4,
    "start_time": "2021-12-15T15:02:58.569Z"
   },
   {
    "duration": 27,
    "start_time": "2021-12-15T15:02:58.576Z"
   },
   {
    "duration": 8,
    "start_time": "2021-12-15T15:02:58.605Z"
   },
   {
    "duration": 8,
    "start_time": "2021-12-15T15:02:58.615Z"
   },
   {
    "duration": 45,
    "start_time": "2021-12-15T15:02:58.625Z"
   },
   {
    "duration": 17,
    "start_time": "2021-12-15T15:02:58.671Z"
   },
   {
    "duration": 7,
    "start_time": "2021-12-15T15:02:58.689Z"
   },
   {
    "duration": 275,
    "start_time": "2021-12-15T15:02:58.698Z"
   },
   {
    "duration": 241,
    "start_time": "2021-12-15T15:02:58.975Z"
   },
   {
    "duration": 229,
    "start_time": "2021-12-15T15:02:59.218Z"
   },
   {
    "duration": 233,
    "start_time": "2021-12-15T15:02:59.449Z"
   },
   {
    "duration": 218,
    "start_time": "2021-12-15T15:02:59.684Z"
   },
   {
    "duration": 234,
    "start_time": "2021-12-15T15:02:59.903Z"
   },
   {
    "duration": 46,
    "start_time": "2021-12-15T15:03:00.139Z"
   },
   {
    "duration": 8,
    "start_time": "2021-12-15T15:03:00.187Z"
   },
   {
    "duration": 11,
    "start_time": "2021-12-15T15:03:00.197Z"
   },
   {
    "duration": 17,
    "start_time": "2021-12-15T15:03:00.210Z"
   },
   {
    "duration": 10,
    "start_time": "2021-12-15T15:03:00.229Z"
   },
   {
    "duration": 37,
    "start_time": "2021-12-15T15:03:00.241Z"
   },
   {
    "duration": 12,
    "start_time": "2021-12-15T15:03:00.280Z"
   },
   {
    "duration": 26,
    "start_time": "2021-12-15T15:03:00.294Z"
   },
   {
    "duration": 1092,
    "start_time": "2021-12-15T21:13:32.131Z"
   },
   {
    "duration": 400,
    "start_time": "2021-12-15T21:13:33.225Z"
   },
   {
    "duration": 28,
    "start_time": "2021-12-15T21:13:33.627Z"
   },
   {
    "duration": 22,
    "start_time": "2021-12-15T21:13:33.657Z"
   },
   {
    "duration": 22,
    "start_time": "2021-12-15T21:13:33.680Z"
   },
   {
    "duration": 19,
    "start_time": "2021-12-15T21:13:33.704Z"
   },
   {
    "duration": 44,
    "start_time": "2021-12-15T21:13:33.724Z"
   },
   {
    "duration": 12,
    "start_time": "2021-12-15T21:13:33.771Z"
   },
   {
    "duration": 80,
    "start_time": "2021-12-15T21:13:33.785Z"
   },
   {
    "duration": 5,
    "start_time": "2021-12-15T21:13:33.866Z"
   },
   {
    "duration": 15,
    "start_time": "2021-12-15T21:13:33.872Z"
   },
   {
    "duration": 9,
    "start_time": "2021-12-15T21:13:33.889Z"
   },
   {
    "duration": 13,
    "start_time": "2021-12-15T21:13:33.900Z"
   },
   {
    "duration": 55,
    "start_time": "2021-12-15T21:13:33.915Z"
   },
   {
    "duration": 18,
    "start_time": "2021-12-15T21:13:33.972Z"
   },
   {
    "duration": 32,
    "start_time": "2021-12-15T21:13:33.992Z"
   },
   {
    "duration": 135,
    "start_time": "2021-12-15T21:13:34.026Z"
   },
   {
    "duration": 89,
    "start_time": "2021-12-15T21:13:34.163Z"
   },
   {
    "duration": 22,
    "start_time": "2021-12-15T21:13:34.254Z"
   },
   {
    "duration": 223,
    "start_time": "2021-12-15T21:13:34.278Z"
   },
   {
    "duration": 153,
    "start_time": "2021-12-15T21:13:34.503Z"
   },
   {
    "duration": 96,
    "start_time": "2021-12-15T21:13:34.659Z"
   },
   {
    "duration": 29,
    "start_time": "2021-12-15T21:13:34.759Z"
   },
   {
    "duration": 115,
    "start_time": "2021-12-15T21:13:34.790Z"
   },
   {
    "duration": 42,
    "start_time": "2021-12-15T21:13:34.908Z"
   },
   {
    "duration": 6,
    "start_time": "2021-12-15T21:13:34.953Z"
   },
   {
    "duration": 25,
    "start_time": "2021-12-15T21:13:34.961Z"
   },
   {
    "duration": 51,
    "start_time": "2021-12-15T21:13:34.989Z"
   },
   {
    "duration": 7,
    "start_time": "2021-12-15T21:13:35.042Z"
   },
   {
    "duration": 26,
    "start_time": "2021-12-15T21:13:35.051Z"
   },
   {
    "duration": 25,
    "start_time": "2021-12-15T21:13:35.079Z"
   },
   {
    "duration": 30,
    "start_time": "2021-12-15T21:13:35.106Z"
   },
   {
    "duration": 12,
    "start_time": "2021-12-15T21:13:35.138Z"
   },
   {
    "duration": 326,
    "start_time": "2021-12-15T21:13:35.151Z"
   },
   {
    "duration": 253,
    "start_time": "2021-12-15T21:13:35.479Z"
   },
   {
    "duration": 233,
    "start_time": "2021-12-15T21:13:35.734Z"
   },
   {
    "duration": 266,
    "start_time": "2021-12-15T21:13:35.969Z"
   },
   {
    "duration": 216,
    "start_time": "2021-12-15T21:13:36.237Z"
   },
   {
    "duration": 226,
    "start_time": "2021-12-15T21:13:36.455Z"
   },
   {
    "duration": 47,
    "start_time": "2021-12-15T21:13:36.683Z"
   },
   {
    "duration": 13,
    "start_time": "2021-12-15T21:13:36.744Z"
   },
   {
    "duration": 51,
    "start_time": "2021-12-15T21:13:36.759Z"
   },
   {
    "duration": 33,
    "start_time": "2021-12-15T21:13:36.812Z"
   },
   {
    "duration": 31,
    "start_time": "2021-12-15T21:13:36.848Z"
   },
   {
    "duration": 31,
    "start_time": "2021-12-15T21:13:36.881Z"
   },
   {
    "duration": 30,
    "start_time": "2021-12-15T21:13:36.914Z"
   },
   {
    "duration": 22,
    "start_time": "2021-12-15T21:13:36.946Z"
   },
   {
    "duration": 22,
    "start_time": "2021-12-15T21:19:49.562Z"
   },
   {
    "duration": 28,
    "start_time": "2021-12-15T21:20:41.546Z"
   },
   {
    "duration": 15,
    "start_time": "2021-12-15T21:22:33.169Z"
   },
   {
    "duration": 8,
    "start_time": "2021-12-15T21:22:40.917Z"
   },
   {
    "duration": 42,
    "start_time": "2021-12-15T21:22:47.903Z"
   },
   {
    "duration": 5,
    "start_time": "2021-12-15T21:23:23.646Z"
   },
   {
    "duration": 8,
    "start_time": "2021-12-15T21:23:26.562Z"
   },
   {
    "duration": 7,
    "start_time": "2021-12-15T21:23:31.139Z"
   },
   {
    "duration": 14,
    "start_time": "2021-12-15T21:23:37.400Z"
   },
   {
    "duration": 27,
    "start_time": "2021-12-15T21:27:42.565Z"
   },
   {
    "duration": 88,
    "start_time": "2021-12-15T21:28:04.153Z"
   },
   {
    "duration": 20,
    "start_time": "2021-12-15T21:31:15.999Z"
   },
   {
    "duration": 32,
    "start_time": "2021-12-15T21:34:27.520Z"
   },
   {
    "duration": 22,
    "start_time": "2021-12-15T21:35:34.615Z"
   },
   {
    "duration": 38,
    "start_time": "2021-12-15T21:41:53.792Z"
   },
   {
    "duration": 16,
    "start_time": "2021-12-15T21:52:57.823Z"
   },
   {
    "duration": 8,
    "start_time": "2021-12-15T22:03:41.281Z"
   },
   {
    "duration": 327,
    "start_time": "2021-12-16T19:11:02.070Z"
   },
   {
    "duration": 1480,
    "start_time": "2021-12-16T19:11:11.163Z"
   },
   {
    "duration": 561,
    "start_time": "2021-12-16T19:11:12.645Z"
   },
   {
    "duration": 45,
    "start_time": "2021-12-16T19:11:13.211Z"
   },
   {
    "duration": 33,
    "start_time": "2021-12-16T19:11:13.259Z"
   },
   {
    "duration": 27,
    "start_time": "2021-12-16T19:11:13.295Z"
   },
   {
    "duration": 48,
    "start_time": "2021-12-16T19:11:13.324Z"
   },
   {
    "duration": 19,
    "start_time": "2021-12-16T19:11:13.375Z"
   },
   {
    "duration": 23,
    "start_time": "2021-12-16T19:11:13.397Z"
   },
   {
    "duration": 130,
    "start_time": "2021-12-16T19:11:13.424Z"
   },
   {
    "duration": 11,
    "start_time": "2021-12-16T19:11:13.557Z"
   },
   {
    "duration": 14,
    "start_time": "2021-12-16T19:11:13.570Z"
   },
   {
    "duration": 27,
    "start_time": "2021-12-16T19:11:13.586Z"
   },
   {
    "duration": 29,
    "start_time": "2021-12-16T19:11:13.616Z"
   },
   {
    "duration": 95,
    "start_time": "2021-12-16T19:11:13.648Z"
   },
   {
    "duration": 35,
    "start_time": "2021-12-16T19:11:13.746Z"
   },
   {
    "duration": 18,
    "start_time": "2021-12-16T19:11:13.783Z"
   },
   {
    "duration": 183,
    "start_time": "2021-12-16T19:11:13.804Z"
   },
   {
    "duration": 138,
    "start_time": "2021-12-16T19:11:13.990Z"
   },
   {
    "duration": 46,
    "start_time": "2021-12-16T19:11:14.131Z"
   },
   {
    "duration": 314,
    "start_time": "2021-12-16T19:11:14.179Z"
   },
   {
    "duration": 220,
    "start_time": "2021-12-16T19:11:14.495Z"
   },
   {
    "duration": 118,
    "start_time": "2021-12-16T19:11:14.717Z"
   },
   {
    "duration": 605,
    "start_time": "2021-12-16T19:11:14.837Z"
   },
   {
    "duration": -717,
    "start_time": "2021-12-16T19:11:16.166Z"
   },
   {
    "duration": -735,
    "start_time": "2021-12-16T19:11:16.186Z"
   },
   {
    "duration": -791,
    "start_time": "2021-12-16T19:11:16.243Z"
   },
   {
    "duration": -796,
    "start_time": "2021-12-16T19:11:16.263Z"
   },
   {
    "duration": -803,
    "start_time": "2021-12-16T19:11:16.272Z"
   },
   {
    "duration": -804,
    "start_time": "2021-12-16T19:11:16.275Z"
   },
   {
    "duration": -817,
    "start_time": "2021-12-16T19:11:16.290Z"
   },
   {
    "duration": -819,
    "start_time": "2021-12-16T19:11:16.295Z"
   },
   {
    "duration": -852,
    "start_time": "2021-12-16T19:11:16.330Z"
   },
   {
    "duration": -854,
    "start_time": "2021-12-16T19:11:16.334Z"
   },
   {
    "duration": -859,
    "start_time": "2021-12-16T19:11:16.341Z"
   },
   {
    "duration": -861,
    "start_time": "2021-12-16T19:11:16.345Z"
   },
   {
    "duration": -861,
    "start_time": "2021-12-16T19:11:16.347Z"
   },
   {
    "duration": -861,
    "start_time": "2021-12-16T19:11:16.349Z"
   },
   {
    "duration": -864,
    "start_time": "2021-12-16T19:11:16.355Z"
   },
   {
    "duration": -864,
    "start_time": "2021-12-16T19:11:16.357Z"
   },
   {
    "duration": -868,
    "start_time": "2021-12-16T19:11:16.363Z"
   },
   {
    "duration": -869,
    "start_time": "2021-12-16T19:11:16.366Z"
   },
   {
    "duration": -869,
    "start_time": "2021-12-16T19:11:16.368Z"
   },
   {
    "duration": -868,
    "start_time": "2021-12-16T19:11:16.370Z"
   },
   {
    "duration": -868,
    "start_time": "2021-12-16T19:11:16.372Z"
   },
   {
    "duration": -869,
    "start_time": "2021-12-16T19:11:16.375Z"
   },
   {
    "duration": -866,
    "start_time": "2021-12-16T19:11:16.377Z"
   },
   {
    "duration": -867,
    "start_time": "2021-12-16T19:11:16.380Z"
   },
   {
    "duration": 267,
    "start_time": "2021-12-16T19:11:35.734Z"
   },
   {
    "duration": 40,
    "start_time": "2021-12-16T19:13:02.502Z"
   },
   {
    "duration": 292,
    "start_time": "2021-12-16T19:14:16.738Z"
   },
   {
    "duration": 314,
    "start_time": "2021-12-16T19:14:23.179Z"
   },
   {
    "duration": 301,
    "start_time": "2021-12-16T19:14:35.862Z"
   },
   {
    "duration": 148,
    "start_time": "2021-12-16T19:14:56.370Z"
   },
   {
    "duration": 42,
    "start_time": "2021-12-16T19:14:59.698Z"
   },
   {
    "duration": 1589,
    "start_time": "2021-12-16T19:18:32.253Z"
   },
   {
    "duration": 574,
    "start_time": "2021-12-16T19:18:33.846Z"
   },
   {
    "duration": 47,
    "start_time": "2021-12-16T19:18:34.424Z"
   },
   {
    "duration": 45,
    "start_time": "2021-12-16T19:18:34.478Z"
   },
   {
    "duration": 58,
    "start_time": "2021-12-16T19:18:34.527Z"
   },
   {
    "duration": 23,
    "start_time": "2021-12-16T19:18:34.590Z"
   },
   {
    "duration": 81,
    "start_time": "2021-12-16T19:18:34.616Z"
   },
   {
    "duration": 13,
    "start_time": "2021-12-16T19:18:34.700Z"
   },
   {
    "duration": 134,
    "start_time": "2021-12-16T19:18:34.724Z"
   },
   {
    "duration": 7,
    "start_time": "2021-12-16T19:18:34.862Z"
   },
   {
    "duration": 7,
    "start_time": "2021-12-16T19:18:34.871Z"
   },
   {
    "duration": 9,
    "start_time": "2021-12-16T19:18:34.880Z"
   },
   {
    "duration": 40,
    "start_time": "2021-12-16T19:18:34.891Z"
   },
   {
    "duration": 113,
    "start_time": "2021-12-16T19:18:34.934Z"
   },
   {
    "duration": 33,
    "start_time": "2021-12-16T19:18:35.050Z"
   },
   {
    "duration": 22,
    "start_time": "2021-12-16T19:18:35.086Z"
   },
   {
    "duration": 201,
    "start_time": "2021-12-16T19:18:35.110Z"
   },
   {
    "duration": 139,
    "start_time": "2021-12-16T19:18:35.314Z"
   },
   {
    "duration": 40,
    "start_time": "2021-12-16T19:18:35.456Z"
   },
   {
    "duration": 316,
    "start_time": "2021-12-16T19:18:35.500Z"
   },
   {
    "duration": 346,
    "start_time": "2021-12-16T19:18:35.820Z"
   },
   {
    "duration": 182,
    "start_time": "2021-12-16T19:18:36.169Z"
   },
   {
    "duration": 47,
    "start_time": "2021-12-16T19:18:36.355Z"
   },
   {
    "duration": 183,
    "start_time": "2021-12-16T19:18:36.406Z"
   },
   {
    "duration": 51,
    "start_time": "2021-12-16T19:18:36.592Z"
   },
   {
    "duration": 28,
    "start_time": "2021-12-16T19:18:36.648Z"
   },
   {
    "duration": 65,
    "start_time": "2021-12-16T19:18:36.686Z"
   },
   {
    "duration": 79,
    "start_time": "2021-12-16T19:18:36.755Z"
   },
   {
    "duration": 25,
    "start_time": "2021-12-16T19:18:36.836Z"
   },
   {
    "duration": 590,
    "start_time": "2021-12-16T19:18:36.864Z"
   },
   {
    "duration": -369,
    "start_time": "2021-12-16T19:18:37.827Z"
   },
   {
    "duration": -370,
    "start_time": "2021-12-16T19:18:37.831Z"
   },
   {
    "duration": -372,
    "start_time": "2021-12-16T19:18:37.835Z"
   },
   {
    "duration": -373,
    "start_time": "2021-12-16T19:18:37.838Z"
   },
   {
    "duration": -373,
    "start_time": "2021-12-16T19:18:37.840Z"
   },
   {
    "duration": -373,
    "start_time": "2021-12-16T19:18:37.842Z"
   },
   {
    "duration": -383,
    "start_time": "2021-12-16T19:18:37.854Z"
   },
   {
    "duration": -389,
    "start_time": "2021-12-16T19:18:37.863Z"
   },
   {
    "duration": -393,
    "start_time": "2021-12-16T19:18:37.869Z"
   },
   {
    "duration": -393,
    "start_time": "2021-12-16T19:18:37.871Z"
   },
   {
    "duration": -393,
    "start_time": "2021-12-16T19:18:37.873Z"
   },
   {
    "duration": -393,
    "start_time": "2021-12-16T19:18:37.875Z"
   },
   {
    "duration": -399,
    "start_time": "2021-12-16T19:18:37.883Z"
   },
   {
    "duration": -400,
    "start_time": "2021-12-16T19:18:37.886Z"
   },
   {
    "duration": -400,
    "start_time": "2021-12-16T19:18:37.888Z"
   },
   {
    "duration": -400,
    "start_time": "2021-12-16T19:18:37.890Z"
   },
   {
    "duration": -401,
    "start_time": "2021-12-16T19:18:37.893Z"
   },
   {
    "duration": 7,
    "start_time": "2021-12-16T19:26:58.648Z"
   },
   {
    "duration": 37,
    "start_time": "2021-12-16T19:27:01.780Z"
   },
   {
    "duration": 11,
    "start_time": "2021-12-16T19:27:04.891Z"
   },
   {
    "duration": 345,
    "start_time": "2021-12-16T19:27:06.956Z"
   },
   {
    "duration": 1399,
    "start_time": "2021-12-16T19:27:51.737Z"
   },
   {
    "duration": 554,
    "start_time": "2021-12-16T19:27:53.139Z"
   },
   {
    "duration": 42,
    "start_time": "2021-12-16T19:27:53.696Z"
   },
   {
    "duration": 41,
    "start_time": "2021-12-16T19:27:53.741Z"
   },
   {
    "duration": 27,
    "start_time": "2021-12-16T19:27:53.784Z"
   },
   {
    "duration": 17,
    "start_time": "2021-12-16T19:27:53.813Z"
   },
   {
    "duration": 49,
    "start_time": "2021-12-16T19:27:53.833Z"
   },
   {
    "duration": 7,
    "start_time": "2021-12-16T19:27:53.884Z"
   },
   {
    "duration": 127,
    "start_time": "2021-12-16T19:27:53.895Z"
   },
   {
    "duration": 7,
    "start_time": "2021-12-16T19:27:54.026Z"
   },
   {
    "duration": 28,
    "start_time": "2021-12-16T19:27:54.035Z"
   },
   {
    "duration": 31,
    "start_time": "2021-12-16T19:27:54.066Z"
   },
   {
    "duration": 21,
    "start_time": "2021-12-16T19:27:54.099Z"
   },
   {
    "duration": 91,
    "start_time": "2021-12-16T19:27:54.123Z"
   },
   {
    "duration": 29,
    "start_time": "2021-12-16T19:27:54.216Z"
   },
   {
    "duration": 36,
    "start_time": "2021-12-16T19:27:54.248Z"
   },
   {
    "duration": 172,
    "start_time": "2021-12-16T19:27:54.287Z"
   },
   {
    "duration": 127,
    "start_time": "2021-12-16T19:27:54.466Z"
   },
   {
    "duration": 33,
    "start_time": "2021-12-16T19:27:54.596Z"
   },
   {
    "duration": 320,
    "start_time": "2021-12-16T19:27:54.632Z"
   },
   {
    "duration": 228,
    "start_time": "2021-12-16T19:27:54.954Z"
   },
   {
    "duration": 139,
    "start_time": "2021-12-16T19:27:55.185Z"
   },
   {
    "duration": 47,
    "start_time": "2021-12-16T19:27:55.327Z"
   },
   {
    "duration": 156,
    "start_time": "2021-12-16T19:27:55.376Z"
   },
   {
    "duration": 50,
    "start_time": "2021-12-16T19:27:55.534Z"
   },
   {
    "duration": 7,
    "start_time": "2021-12-16T19:27:55.587Z"
   },
   {
    "duration": 35,
    "start_time": "2021-12-16T19:27:55.599Z"
   },
   {
    "duration": 66,
    "start_time": "2021-12-16T19:27:55.637Z"
   },
   {
    "duration": 12,
    "start_time": "2021-12-16T19:27:55.705Z"
   },
   {
    "duration": 494,
    "start_time": "2021-12-16T19:27:55.719Z"
   },
   {
    "duration": -369,
    "start_time": "2021-12-16T19:27:56.584Z"
   },
   {
    "duration": -374,
    "start_time": "2021-12-16T19:27:56.591Z"
   },
   {
    "duration": -376,
    "start_time": "2021-12-16T19:27:56.594Z"
   },
   {
    "duration": -378,
    "start_time": "2021-12-16T19:27:56.598Z"
   },
   {
    "duration": -382,
    "start_time": "2021-12-16T19:27:56.603Z"
   },
   {
    "duration": -383,
    "start_time": "2021-12-16T19:27:56.605Z"
   },
   {
    "duration": -383,
    "start_time": "2021-12-16T19:27:56.607Z"
   },
   {
    "duration": -384,
    "start_time": "2021-12-16T19:27:56.609Z"
   },
   {
    "duration": -384,
    "start_time": "2021-12-16T19:27:56.611Z"
   },
   {
    "duration": -385,
    "start_time": "2021-12-16T19:27:56.613Z"
   },
   {
    "duration": -385,
    "start_time": "2021-12-16T19:27:56.615Z"
   },
   {
    "duration": -393,
    "start_time": "2021-12-16T19:27:56.624Z"
   },
   {
    "duration": -395,
    "start_time": "2021-12-16T19:27:56.628Z"
   },
   {
    "duration": -400,
    "start_time": "2021-12-16T19:27:56.634Z"
   },
   {
    "duration": -403,
    "start_time": "2021-12-16T19:27:56.638Z"
   },
   {
    "duration": -403,
    "start_time": "2021-12-16T19:27:56.640Z"
   },
   {
    "duration": -404,
    "start_time": "2021-12-16T19:27:56.642Z"
   },
   {
    "duration": 8,
    "start_time": "2021-12-16T19:30:38.711Z"
   },
   {
    "duration": 10,
    "start_time": "2021-12-16T19:36:35.854Z"
   },
   {
    "duration": 6,
    "start_time": "2021-12-16T19:37:51.317Z"
   },
   {
    "duration": 9,
    "start_time": "2021-12-16T19:37:53.593Z"
   },
   {
    "duration": 38,
    "start_time": "2021-12-16T19:37:56.998Z"
   },
   {
    "duration": 8,
    "start_time": "2021-12-16T19:37:59.084Z"
   },
   {
    "duration": 9,
    "start_time": "2021-12-16T19:38:00.668Z"
   },
   {
    "duration": 333,
    "start_time": "2021-12-16T19:42:47.450Z"
   },
   {
    "duration": 346,
    "start_time": "2021-12-16T19:42:53.049Z"
   },
   {
    "duration": 305,
    "start_time": "2021-12-16T19:42:56.506Z"
   },
   {
    "duration": 5,
    "start_time": "2021-12-16T19:44:06.657Z"
   },
   {
    "duration": 8,
    "start_time": "2021-12-16T19:44:23.640Z"
   },
   {
    "duration": 39,
    "start_time": "2021-12-16T19:45:25.281Z"
   },
   {
    "duration": 100,
    "start_time": "2021-12-16T19:46:11.712Z"
   },
   {
    "duration": 328,
    "start_time": "2021-12-16T19:46:49.401Z"
   },
   {
    "duration": 308,
    "start_time": "2021-12-16T19:47:17.529Z"
   },
   {
    "duration": 302,
    "start_time": "2021-12-16T19:49:35.797Z"
   },
   {
    "duration": 1354,
    "start_time": "2021-12-16T19:50:34.795Z"
   },
   {
    "duration": 560,
    "start_time": "2021-12-16T19:50:36.152Z"
   },
   {
    "duration": 42,
    "start_time": "2021-12-16T19:50:36.716Z"
   },
   {
    "duration": 33,
    "start_time": "2021-12-16T19:50:36.761Z"
   },
   {
    "duration": 25,
    "start_time": "2021-12-16T19:50:36.796Z"
   },
   {
    "duration": 45,
    "start_time": "2021-12-16T19:50:36.824Z"
   },
   {
    "duration": 20,
    "start_time": "2021-12-16T19:50:36.871Z"
   },
   {
    "duration": 13,
    "start_time": "2021-12-16T19:50:36.893Z"
   },
   {
    "duration": 140,
    "start_time": "2021-12-16T19:50:36.910Z"
   },
   {
    "duration": 16,
    "start_time": "2021-12-16T19:50:37.053Z"
   },
   {
    "duration": 8,
    "start_time": "2021-12-16T19:50:37.071Z"
   },
   {
    "duration": 13,
    "start_time": "2021-12-16T19:50:37.082Z"
   },
   {
    "duration": 7,
    "start_time": "2021-12-16T19:50:37.098Z"
   },
   {
    "duration": 98,
    "start_time": "2021-12-16T19:50:37.107Z"
   },
   {
    "duration": 28,
    "start_time": "2021-12-16T19:50:37.207Z"
   },
   {
    "duration": 33,
    "start_time": "2021-12-16T19:50:37.238Z"
   },
   {
    "duration": 160,
    "start_time": "2021-12-16T19:50:37.273Z"
   },
   {
    "duration": 131,
    "start_time": "2021-12-16T19:50:37.435Z"
   },
   {
    "duration": 31,
    "start_time": "2021-12-16T19:50:37.569Z"
   },
   {
    "duration": 322,
    "start_time": "2021-12-16T19:50:37.603Z"
   },
   {
    "duration": 217,
    "start_time": "2021-12-16T19:50:37.928Z"
   },
   {
    "duration": 135,
    "start_time": "2021-12-16T19:50:38.148Z"
   },
   {
    "duration": 40,
    "start_time": "2021-12-16T19:50:38.286Z"
   },
   {
    "duration": 160,
    "start_time": "2021-12-16T19:50:38.328Z"
   },
   {
    "duration": 41,
    "start_time": "2021-12-16T19:50:38.490Z"
   },
   {
    "duration": 7,
    "start_time": "2021-12-16T19:50:38.533Z"
   },
   {
    "duration": 7835,
    "start_time": "2021-12-16T19:50:38.545Z"
   },
   {
    "duration": -380,
    "start_time": "2021-12-16T19:50:46.764Z"
   },
   {
    "duration": -386,
    "start_time": "2021-12-16T19:50:46.771Z"
   },
   {
    "duration": -388,
    "start_time": "2021-12-16T19:50:46.775Z"
   },
   {
    "duration": -390,
    "start_time": "2021-12-16T19:50:46.778Z"
   },
   {
    "duration": -390,
    "start_time": "2021-12-16T19:50:46.780Z"
   },
   {
    "duration": -392,
    "start_time": "2021-12-16T19:50:46.783Z"
   },
   {
    "duration": -396,
    "start_time": "2021-12-16T19:50:46.788Z"
   },
   {
    "duration": -397,
    "start_time": "2021-12-16T19:50:46.791Z"
   },
   {
    "duration": -398,
    "start_time": "2021-12-16T19:50:46.793Z"
   },
   {
    "duration": -399,
    "start_time": "2021-12-16T19:50:46.795Z"
   },
   {
    "duration": -400,
    "start_time": "2021-12-16T19:50:46.797Z"
   },
   {
    "duration": -401,
    "start_time": "2021-12-16T19:50:46.800Z"
   },
   {
    "duration": -402,
    "start_time": "2021-12-16T19:50:46.802Z"
   },
   {
    "duration": -403,
    "start_time": "2021-12-16T19:50:46.804Z"
   },
   {
    "duration": -404,
    "start_time": "2021-12-16T19:50:46.806Z"
   },
   {
    "duration": -412,
    "start_time": "2021-12-16T19:50:46.816Z"
   },
   {
    "duration": -420,
    "start_time": "2021-12-16T19:50:46.825Z"
   },
   {
    "duration": -421,
    "start_time": "2021-12-16T19:50:46.827Z"
   },
   {
    "duration": -422,
    "start_time": "2021-12-16T19:50:46.830Z"
   },
   {
    "duration": -425,
    "start_time": "2021-12-16T19:50:46.834Z"
   },
   {
    "duration": -434,
    "start_time": "2021-12-16T19:50:46.845Z"
   },
   {
    "duration": -439,
    "start_time": "2021-12-16T19:50:46.851Z"
   },
   {
    "duration": -458,
    "start_time": "2021-12-16T19:50:46.871Z"
   },
   {
    "duration": 8,
    "start_time": "2021-12-16T19:51:06.327Z"
   },
   {
    "duration": 4,
    "start_time": "2021-12-16T19:51:08.511Z"
   },
   {
    "duration": 7,
    "start_time": "2021-12-16T19:51:12.442Z"
   },
   {
    "duration": 1397,
    "start_time": "2021-12-16T19:51:39.773Z"
   },
   {
    "duration": 574,
    "start_time": "2021-12-16T19:51:41.173Z"
   },
   {
    "duration": 42,
    "start_time": "2021-12-16T19:51:41.750Z"
   },
   {
    "duration": 33,
    "start_time": "2021-12-16T19:51:41.796Z"
   },
   {
    "duration": 50,
    "start_time": "2021-12-16T19:51:41.832Z"
   },
   {
    "duration": 17,
    "start_time": "2021-12-16T19:51:41.884Z"
   },
   {
    "duration": 21,
    "start_time": "2021-12-16T19:51:41.903Z"
   },
   {
    "duration": 40,
    "start_time": "2021-12-16T19:51:41.927Z"
   },
   {
    "duration": 124,
    "start_time": "2021-12-16T19:51:41.972Z"
   },
   {
    "duration": 7,
    "start_time": "2021-12-16T19:51:42.099Z"
   },
   {
    "duration": 26,
    "start_time": "2021-12-16T19:51:42.109Z"
   },
   {
    "duration": 25,
    "start_time": "2021-12-16T19:51:42.138Z"
   },
   {
    "duration": 37,
    "start_time": "2021-12-16T19:51:42.165Z"
   },
   {
    "duration": 121,
    "start_time": "2021-12-16T19:51:42.204Z"
   },
   {
    "duration": 40,
    "start_time": "2021-12-16T19:51:42.328Z"
   },
   {
    "duration": 28,
    "start_time": "2021-12-16T19:51:42.371Z"
   },
   {
    "duration": 162,
    "start_time": "2021-12-16T19:51:42.401Z"
   },
   {
    "duration": 126,
    "start_time": "2021-12-16T19:51:42.566Z"
   },
   {
    "duration": 29,
    "start_time": "2021-12-16T19:51:42.694Z"
   },
   {
    "duration": 314,
    "start_time": "2021-12-16T19:51:42.725Z"
   },
   {
    "duration": 219,
    "start_time": "2021-12-16T19:51:43.042Z"
   },
   {
    "duration": 133,
    "start_time": "2021-12-16T19:51:43.266Z"
   },
   {
    "duration": 39,
    "start_time": "2021-12-16T19:51:43.401Z"
   },
   {
    "duration": 167,
    "start_time": "2021-12-16T19:51:43.442Z"
   },
   {
    "duration": 39,
    "start_time": "2021-12-16T19:51:43.612Z"
   },
   {
    "duration": 20,
    "start_time": "2021-12-16T19:51:43.653Z"
   },
   {
    "duration": 22,
    "start_time": "2021-12-16T19:51:43.679Z"
   },
   {
    "duration": 21,
    "start_time": "2021-12-16T19:51:43.705Z"
   },
   {
    "duration": 24,
    "start_time": "2021-12-16T19:51:43.728Z"
   },
   {
    "duration": 27,
    "start_time": "2021-12-16T19:51:43.756Z"
   },
   {
    "duration": 61,
    "start_time": "2021-12-16T19:51:43.786Z"
   },
   {
    "duration": 12,
    "start_time": "2021-12-16T19:51:43.850Z"
   },
   {
    "duration": 455,
    "start_time": "2021-12-16T19:51:43.864Z"
   },
   {
    "duration": -418,
    "start_time": "2021-12-16T19:51:44.739Z"
   },
   {
    "duration": -422,
    "start_time": "2021-12-16T19:51:44.745Z"
   },
   {
    "duration": -437,
    "start_time": "2021-12-16T19:51:44.762Z"
   },
   {
    "duration": -475,
    "start_time": "2021-12-16T19:51:44.801Z"
   },
   {
    "duration": -491,
    "start_time": "2021-12-16T19:51:44.819Z"
   },
   {
    "duration": -504,
    "start_time": "2021-12-16T19:51:44.833Z"
   },
   {
    "duration": -522,
    "start_time": "2021-12-16T19:51:44.853Z"
   },
   {
    "duration": -541,
    "start_time": "2021-12-16T19:51:44.873Z"
   },
   {
    "duration": -557,
    "start_time": "2021-12-16T19:51:44.890Z"
   },
   {
    "duration": -569,
    "start_time": "2021-12-16T19:51:44.904Z"
   },
   {
    "duration": -571,
    "start_time": "2021-12-16T19:51:44.907Z"
   },
   {
    "duration": -574,
    "start_time": "2021-12-16T19:51:44.911Z"
   },
   {
    "duration": -592,
    "start_time": "2021-12-16T19:51:44.931Z"
   },
   {
    "duration": -607,
    "start_time": "2021-12-16T19:51:44.947Z"
   },
   {
    "duration": -616,
    "start_time": "2021-12-16T19:51:44.958Z"
   },
   {
    "duration": -635,
    "start_time": "2021-12-16T19:51:44.978Z"
   },
   {
    "duration": -654,
    "start_time": "2021-12-16T19:51:44.998Z"
   },
   {
    "duration": 7,
    "start_time": "2021-12-16T19:52:05.061Z"
   },
   {
    "duration": 9,
    "start_time": "2021-12-16T19:52:05.746Z"
   },
   {
    "duration": 1402,
    "start_time": "2021-12-16T19:52:47.630Z"
   },
   {
    "duration": 556,
    "start_time": "2021-12-16T19:52:49.038Z"
   },
   {
    "duration": 43,
    "start_time": "2021-12-16T19:52:49.604Z"
   },
   {
    "duration": 33,
    "start_time": "2021-12-16T19:52:49.650Z"
   },
   {
    "duration": 27,
    "start_time": "2021-12-16T19:52:49.685Z"
   },
   {
    "duration": 53,
    "start_time": "2021-12-16T19:52:49.715Z"
   },
   {
    "duration": 29,
    "start_time": "2021-12-16T19:52:49.771Z"
   },
   {
    "duration": 5,
    "start_time": "2021-12-16T19:52:49.805Z"
   },
   {
    "duration": 140,
    "start_time": "2021-12-16T19:52:49.813Z"
   },
   {
    "duration": 11,
    "start_time": "2021-12-16T19:52:49.956Z"
   },
   {
    "duration": 6,
    "start_time": "2021-12-16T19:52:49.970Z"
   },
   {
    "duration": 9,
    "start_time": "2021-12-16T19:52:49.978Z"
   },
   {
    "duration": 9,
    "start_time": "2021-12-16T19:52:49.990Z"
   },
   {
    "duration": 103,
    "start_time": "2021-12-16T19:52:50.001Z"
   },
   {
    "duration": 27,
    "start_time": "2021-12-16T19:52:50.106Z"
   },
   {
    "duration": 36,
    "start_time": "2021-12-16T19:52:50.136Z"
   },
   {
    "duration": 161,
    "start_time": "2021-12-16T19:52:50.174Z"
   },
   {
    "duration": 123,
    "start_time": "2021-12-16T19:52:50.338Z"
   },
   {
    "duration": 31,
    "start_time": "2021-12-16T19:52:50.467Z"
   },
   {
    "duration": 314,
    "start_time": "2021-12-16T19:52:50.500Z"
   },
   {
    "duration": 220,
    "start_time": "2021-12-16T19:52:50.817Z"
   },
   {
    "duration": 133,
    "start_time": "2021-12-16T19:52:51.039Z"
   },
   {
    "duration": 38,
    "start_time": "2021-12-16T19:52:51.175Z"
   },
   {
    "duration": 156,
    "start_time": "2021-12-16T19:52:51.215Z"
   },
   {
    "duration": 40,
    "start_time": "2021-12-16T19:52:51.373Z"
   },
   {
    "duration": 21,
    "start_time": "2021-12-16T19:52:51.419Z"
   },
   {
    "duration": 6,
    "start_time": "2021-12-16T19:52:51.442Z"
   },
   {
    "duration": 18,
    "start_time": "2021-12-16T19:52:51.451Z"
   },
   {
    "duration": 10,
    "start_time": "2021-12-16T19:52:51.471Z"
   },
   {
    "duration": 64,
    "start_time": "2021-12-16T19:52:51.483Z"
   },
   {
    "duration": 23,
    "start_time": "2021-12-16T19:52:51.549Z"
   },
   {
    "duration": 433,
    "start_time": "2021-12-16T19:52:51.574Z"
   },
   {
    "duration": -387,
    "start_time": "2021-12-16T19:52:52.396Z"
   },
   {
    "duration": -395,
    "start_time": "2021-12-16T19:52:52.406Z"
   },
   {
    "duration": -398,
    "start_time": "2021-12-16T19:52:52.410Z"
   },
   {
    "duration": -401,
    "start_time": "2021-12-16T19:52:52.415Z"
   },
   {
    "duration": -420,
    "start_time": "2021-12-16T19:52:52.435Z"
   },
   {
    "duration": -438,
    "start_time": "2021-12-16T19:52:52.454Z"
   },
   {
    "duration": -457,
    "start_time": "2021-12-16T19:52:52.475Z"
   },
   {
    "duration": -473,
    "start_time": "2021-12-16T19:52:52.493Z"
   },
   {
    "duration": -491,
    "start_time": "2021-12-16T19:52:52.512Z"
   },
   {
    "duration": -513,
    "start_time": "2021-12-16T19:52:52.535Z"
   },
   {
    "duration": -534,
    "start_time": "2021-12-16T19:52:52.558Z"
   },
   {
    "duration": -553,
    "start_time": "2021-12-16T19:52:52.578Z"
   },
   {
    "duration": -558,
    "start_time": "2021-12-16T19:52:52.584Z"
   },
   {
    "duration": -561,
    "start_time": "2021-12-16T19:52:52.589Z"
   },
   {
    "duration": -565,
    "start_time": "2021-12-16T19:52:52.594Z"
   },
   {
    "duration": -568,
    "start_time": "2021-12-16T19:52:52.598Z"
   },
   {
    "duration": -572,
    "start_time": "2021-12-16T19:52:52.604Z"
   },
   {
    "duration": 8,
    "start_time": "2021-12-16T19:53:12.497Z"
   },
   {
    "duration": 5,
    "start_time": "2021-12-16T19:53:16.699Z"
   },
   {
    "duration": 38,
    "start_time": "2021-12-16T19:53:17.251Z"
   },
   {
    "duration": 10,
    "start_time": "2021-12-16T19:53:20.401Z"
   },
   {
    "duration": 11,
    "start_time": "2021-12-16T19:53:21.451Z"
   },
   {
    "duration": 33,
    "start_time": "2021-12-16T19:53:26.376Z"
   },
   {
    "duration": 27,
    "start_time": "2021-12-16T19:53:27.545Z"
   },
   {
    "duration": 11,
    "start_time": "2021-12-16T19:53:33.146Z"
   },
   {
    "duration": 435,
    "start_time": "2021-12-16T19:53:34.257Z"
   },
   {
    "duration": 400,
    "start_time": "2021-12-16T19:53:36.913Z"
   },
   {
    "duration": 362,
    "start_time": "2021-12-16T19:53:38.353Z"
   },
   {
    "duration": 374,
    "start_time": "2021-12-16T19:53:47.990Z"
   },
   {
    "duration": 384,
    "start_time": "2021-12-16T19:55:07.944Z"
   },
   {
    "duration": 367,
    "start_time": "2021-12-16T19:55:09.171Z"
   },
   {
    "duration": 383,
    "start_time": "2021-12-16T19:55:10.371Z"
   },
   {
    "duration": 440,
    "start_time": "2021-12-16T19:55:30.697Z"
   },
   {
    "duration": 328,
    "start_time": "2021-12-16T19:55:37.578Z"
   },
   {
    "duration": 305,
    "start_time": "2021-12-16T19:55:48.888Z"
   },
   {
    "duration": 83,
    "start_time": "2021-12-16T19:56:29.681Z"
   },
   {
    "duration": 11,
    "start_time": "2021-12-16T19:56:33.760Z"
   },
   {
    "duration": 10,
    "start_time": "2021-12-16T19:56:35.535Z"
   },
   {
    "duration": 11,
    "start_time": "2021-12-16T19:56:35.904Z"
   },
   {
    "duration": 12,
    "start_time": "2021-12-16T19:56:36.663Z"
   },
   {
    "duration": 11,
    "start_time": "2021-12-16T19:56:36.848Z"
   },
   {
    "duration": 11,
    "start_time": "2021-12-16T19:56:37.639Z"
   },
   {
    "duration": 10,
    "start_time": "2021-12-16T19:56:37.827Z"
   },
   {
    "duration": 62,
    "start_time": "2021-12-16T19:57:06.272Z"
   },
   {
    "duration": 91,
    "start_time": "2021-12-16T19:59:16.561Z"
   },
   {
    "duration": 326,
    "start_time": "2021-12-16T20:00:30.558Z"
   },
   {
    "duration": 9,
    "start_time": "2021-12-16T20:00:38.182Z"
   },
   {
    "duration": 1349,
    "start_time": "2021-12-16T20:03:49.790Z"
   },
   {
    "duration": 559,
    "start_time": "2021-12-16T20:03:51.141Z"
   },
   {
    "duration": 42,
    "start_time": "2021-12-16T20:03:51.703Z"
   },
   {
    "duration": 33,
    "start_time": "2021-12-16T20:03:51.748Z"
   },
   {
    "duration": 26,
    "start_time": "2021-12-16T20:03:51.784Z"
   },
   {
    "duration": 18,
    "start_time": "2021-12-16T20:03:51.812Z"
   },
   {
    "duration": 50,
    "start_time": "2021-12-16T20:03:51.833Z"
   },
   {
    "duration": 4,
    "start_time": "2021-12-16T20:03:51.886Z"
   },
   {
    "duration": 128,
    "start_time": "2021-12-16T20:03:51.894Z"
   },
   {
    "duration": 8,
    "start_time": "2021-12-16T20:03:52.026Z"
   },
   {
    "duration": 11,
    "start_time": "2021-12-16T20:03:52.036Z"
   },
   {
    "duration": 25,
    "start_time": "2021-12-16T20:03:52.049Z"
   },
   {
    "duration": 7,
    "start_time": "2021-12-16T20:03:52.076Z"
   },
   {
    "duration": 89,
    "start_time": "2021-12-16T20:03:52.085Z"
   },
   {
    "duration": 30,
    "start_time": "2021-12-16T20:03:52.176Z"
   },
   {
    "duration": 20,
    "start_time": "2021-12-16T20:03:52.209Z"
   },
   {
    "duration": 185,
    "start_time": "2021-12-16T20:03:52.232Z"
   },
   {
    "duration": 137,
    "start_time": "2021-12-16T20:03:52.419Z"
   },
   {
    "duration": 33,
    "start_time": "2021-12-16T20:03:52.558Z"
   },
   {
    "duration": 326,
    "start_time": "2021-12-16T20:03:52.594Z"
   },
   {
    "duration": 223,
    "start_time": "2021-12-16T20:03:52.922Z"
   },
   {
    "duration": 144,
    "start_time": "2021-12-16T20:03:53.148Z"
   },
   {
    "duration": 39,
    "start_time": "2021-12-16T20:03:53.295Z"
   },
   {
    "duration": 163,
    "start_time": "2021-12-16T20:03:53.337Z"
   },
   {
    "duration": 43,
    "start_time": "2021-12-16T20:03:53.502Z"
   },
   {
    "duration": 8,
    "start_time": "2021-12-16T20:03:53.567Z"
   },
   {
    "duration": 8,
    "start_time": "2021-12-16T20:03:53.580Z"
   },
   {
    "duration": 8,
    "start_time": "2021-12-16T20:03:53.591Z"
   },
   {
    "duration": 12,
    "start_time": "2021-12-16T20:03:53.601Z"
   },
   {
    "duration": 72,
    "start_time": "2021-12-16T20:03:53.615Z"
   },
   {
    "duration": 14,
    "start_time": "2021-12-16T20:03:53.690Z"
   },
   {
    "duration": 922,
    "start_time": "2021-12-16T20:03:53.707Z"
   },
   {
    "duration": -367,
    "start_time": "2021-12-16T20:03:54.999Z"
   },
   {
    "duration": -367,
    "start_time": "2021-12-16T20:03:55.002Z"
   },
   {
    "duration": -366,
    "start_time": "2021-12-16T20:03:55.003Z"
   },
   {
    "duration": -366,
    "start_time": "2021-12-16T20:03:55.006Z"
   },
   {
    "duration": -366,
    "start_time": "2021-12-16T20:03:55.008Z"
   },
   {
    "duration": -366,
    "start_time": "2021-12-16T20:03:55.010Z"
   },
   {
    "duration": -366,
    "start_time": "2021-12-16T20:03:55.012Z"
   },
   {
    "duration": -366,
    "start_time": "2021-12-16T20:03:55.015Z"
   },
   {
    "duration": -367,
    "start_time": "2021-12-16T20:03:55.018Z"
   },
   {
    "duration": -367,
    "start_time": "2021-12-16T20:03:55.020Z"
   },
   {
    "duration": -366,
    "start_time": "2021-12-16T20:03:55.022Z"
   },
   {
    "duration": -367,
    "start_time": "2021-12-16T20:03:55.025Z"
   },
   {
    "duration": -367,
    "start_time": "2021-12-16T20:03:55.027Z"
   },
   {
    "duration": -369,
    "start_time": "2021-12-16T20:03:55.030Z"
   },
   {
    "duration": -369,
    "start_time": "2021-12-16T20:03:55.032Z"
   },
   {
    "duration": -370,
    "start_time": "2021-12-16T20:03:55.034Z"
   },
   {
    "duration": -369,
    "start_time": "2021-12-16T20:03:55.036Z"
   },
   {
    "duration": 310,
    "start_time": "2021-12-16T20:06:21.644Z"
   },
   {
    "duration": 333,
    "start_time": "2021-12-16T20:06:39.874Z"
   },
   {
    "duration": 18,
    "start_time": "2021-12-16T20:07:13.427Z"
   },
   {
    "duration": 1489,
    "start_time": "2021-12-16T20:07:22.542Z"
   },
   {
    "duration": 560,
    "start_time": "2021-12-16T20:07:24.033Z"
   },
   {
    "duration": 67,
    "start_time": "2021-12-16T20:07:24.608Z"
   },
   {
    "duration": 52,
    "start_time": "2021-12-16T20:07:24.678Z"
   },
   {
    "duration": 68,
    "start_time": "2021-12-16T20:07:24.734Z"
   },
   {
    "duration": 22,
    "start_time": "2021-12-16T20:07:24.804Z"
   },
   {
    "duration": 51,
    "start_time": "2021-12-16T20:07:24.830Z"
   },
   {
    "duration": 5,
    "start_time": "2021-12-16T20:07:24.885Z"
   },
   {
    "duration": 141,
    "start_time": "2021-12-16T20:07:24.893Z"
   },
   {
    "duration": 9,
    "start_time": "2021-12-16T20:07:25.037Z"
   },
   {
    "duration": 23,
    "start_time": "2021-12-16T20:07:25.048Z"
   },
   {
    "duration": 17,
    "start_time": "2021-12-16T20:07:25.074Z"
   },
   {
    "duration": 18,
    "start_time": "2021-12-16T20:07:25.094Z"
   },
   {
    "duration": 107,
    "start_time": "2021-12-16T20:07:25.115Z"
   },
   {
    "duration": 56,
    "start_time": "2021-12-16T20:07:25.225Z"
   },
   {
    "duration": 49,
    "start_time": "2021-12-16T20:07:25.284Z"
   },
   {
    "duration": 200,
    "start_time": "2021-12-16T20:07:25.336Z"
   },
   {
    "duration": 176,
    "start_time": "2021-12-16T20:07:25.539Z"
   },
   {
    "duration": 53,
    "start_time": "2021-12-16T20:07:25.719Z"
   },
   {
    "duration": 313,
    "start_time": "2021-12-16T20:07:25.775Z"
   },
   {
    "duration": 226,
    "start_time": "2021-12-16T20:07:26.091Z"
   },
   {
    "duration": 134,
    "start_time": "2021-12-16T20:07:26.323Z"
   },
   {
    "duration": 44,
    "start_time": "2021-12-16T20:07:26.460Z"
   },
   {
    "duration": 166,
    "start_time": "2021-12-16T20:07:26.506Z"
   },
   {
    "duration": 41,
    "start_time": "2021-12-16T20:07:26.674Z"
   },
   {
    "duration": 17,
    "start_time": "2021-12-16T20:07:26.717Z"
   },
   {
    "duration": 33,
    "start_time": "2021-12-16T20:07:26.737Z"
   },
   {
    "duration": 14,
    "start_time": "2021-12-16T20:07:26.772Z"
   },
   {
    "duration": 62,
    "start_time": "2021-12-16T20:07:26.788Z"
   },
   {
    "duration": 19,
    "start_time": "2021-12-16T20:07:26.853Z"
   },
   {
    "duration": 15,
    "start_time": "2021-12-16T20:07:26.875Z"
   },
   {
    "duration": 47,
    "start_time": "2021-12-16T20:07:26.892Z"
   },
   {
    "duration": 59,
    "start_time": "2021-12-16T20:07:26.942Z"
   },
   {
    "duration": 8,
    "start_time": "2021-12-16T20:07:27.004Z"
   },
   {
    "duration": 426,
    "start_time": "2021-12-16T20:07:27.014Z"
   },
   {
    "duration": 408,
    "start_time": "2021-12-16T20:07:27.442Z"
   },
   {
    "duration": 381,
    "start_time": "2021-12-16T20:07:27.852Z"
   },
   {
    "duration": 408,
    "start_time": "2021-12-16T20:07:28.235Z"
   },
   {
    "duration": 602,
    "start_time": "2021-12-16T20:07:28.645Z"
   },
   {
    "duration": 505,
    "start_time": "2021-12-16T20:07:29.250Z"
   },
   {
    "duration": 114,
    "start_time": "2021-12-16T20:07:29.758Z"
   },
   {
    "duration": 16,
    "start_time": "2021-12-16T20:07:29.876Z"
   },
   {
    "duration": 16,
    "start_time": "2021-12-16T20:07:29.895Z"
   },
   {
    "duration": 53,
    "start_time": "2021-12-16T20:07:29.914Z"
   },
   {
    "duration": 25,
    "start_time": "2021-12-16T20:07:29.970Z"
   },
   {
    "duration": 18,
    "start_time": "2021-12-16T20:07:29.998Z"
   },
   {
    "duration": 31,
    "start_time": "2021-12-16T20:07:30.018Z"
   },
   {
    "duration": 10,
    "start_time": "2021-12-16T20:07:30.055Z"
   },
   {
    "duration": 1368,
    "start_time": "2021-12-16T20:13:52.572Z"
   },
   {
    "duration": 546,
    "start_time": "2021-12-16T20:13:53.943Z"
   },
   {
    "duration": 42,
    "start_time": "2021-12-16T20:13:54.492Z"
   },
   {
    "duration": 40,
    "start_time": "2021-12-16T20:13:54.537Z"
   },
   {
    "duration": 27,
    "start_time": "2021-12-16T20:13:54.580Z"
   },
   {
    "duration": 18,
    "start_time": "2021-12-16T20:13:54.609Z"
   },
   {
    "duration": 56,
    "start_time": "2021-12-16T20:13:54.630Z"
   },
   {
    "duration": 5,
    "start_time": "2021-12-16T20:13:54.689Z"
   },
   {
    "duration": 124,
    "start_time": "2021-12-16T20:13:54.698Z"
   },
   {
    "duration": 7,
    "start_time": "2021-12-16T20:13:54.825Z"
   },
   {
    "duration": 10,
    "start_time": "2021-12-16T20:13:54.835Z"
   },
   {
    "duration": 21,
    "start_time": "2021-12-16T20:13:54.847Z"
   },
   {
    "duration": 9,
    "start_time": "2021-12-16T20:13:54.871Z"
   },
   {
    "duration": 86,
    "start_time": "2021-12-16T20:13:54.882Z"
   },
   {
    "duration": 28,
    "start_time": "2021-12-16T20:13:54.971Z"
   },
   {
    "duration": 17,
    "start_time": "2021-12-16T20:13:55.002Z"
   },
   {
    "duration": 177,
    "start_time": "2021-12-16T20:13:55.021Z"
   },
   {
    "duration": 138,
    "start_time": "2021-12-16T20:13:55.201Z"
   },
   {
    "duration": 43,
    "start_time": "2021-12-16T20:13:55.342Z"
   },
   {
    "duration": 325,
    "start_time": "2021-12-16T20:13:55.387Z"
   },
   {
    "duration": 226,
    "start_time": "2021-12-16T20:13:55.715Z"
   },
   {
    "duration": 133,
    "start_time": "2021-12-16T20:13:55.943Z"
   },
   {
    "duration": 38,
    "start_time": "2021-12-16T20:13:56.079Z"
   },
   {
    "duration": 171,
    "start_time": "2021-12-16T20:13:56.119Z"
   },
   {
    "duration": 41,
    "start_time": "2021-12-16T20:13:56.292Z"
   },
   {
    "duration": 7,
    "start_time": "2021-12-16T20:13:56.336Z"
   },
   {
    "duration": 4,
    "start_time": "2021-12-16T20:13:56.371Z"
   },
   {
    "duration": 13,
    "start_time": "2021-12-16T20:13:56.378Z"
   },
   {
    "duration": 47,
    "start_time": "2021-12-16T20:13:56.394Z"
   },
   {
    "duration": 36,
    "start_time": "2021-12-16T20:13:56.443Z"
   },
   {
    "duration": 10,
    "start_time": "2021-12-16T20:13:56.481Z"
   },
   {
    "duration": 33,
    "start_time": "2021-12-16T20:13:56.493Z"
   },
   {
    "duration": 63,
    "start_time": "2021-12-16T20:13:56.528Z"
   },
   {
    "duration": 16,
    "start_time": "2021-12-16T20:13:56.594Z"
   },
   {
    "duration": 413,
    "start_time": "2021-12-16T20:13:56.613Z"
   },
   {
    "duration": 420,
    "start_time": "2021-12-16T20:13:57.029Z"
   },
   {
    "duration": 402,
    "start_time": "2021-12-16T20:13:57.451Z"
   },
   {
    "duration": 415,
    "start_time": "2021-12-16T20:13:57.855Z"
   },
   {
    "duration": 382,
    "start_time": "2021-12-16T20:13:58.272Z"
   },
   {
    "duration": 326,
    "start_time": "2021-12-16T20:13:58.657Z"
   },
   {
    "duration": 61,
    "start_time": "2021-12-16T20:13:58.986Z"
   },
   {
    "duration": 10,
    "start_time": "2021-12-16T20:13:59.068Z"
   },
   {
    "duration": 8,
    "start_time": "2021-12-16T20:13:59.081Z"
   },
   {
    "duration": 13,
    "start_time": "2021-12-16T20:13:59.091Z"
   },
   {
    "duration": 13,
    "start_time": "2021-12-16T20:13:59.107Z"
   },
   {
    "duration": 52,
    "start_time": "2021-12-16T20:13:59.122Z"
   },
   {
    "duration": 12,
    "start_time": "2021-12-16T20:13:59.176Z"
   },
   {
    "duration": 13,
    "start_time": "2021-12-16T20:13:59.191Z"
   },
   {
    "duration": 162,
    "start_time": "2021-12-16T20:17:24.883Z"
   },
   {
    "duration": 1872,
    "start_time": "2021-12-16T20:25:04.287Z"
   },
   {
    "duration": 765,
    "start_time": "2021-12-16T20:25:06.163Z"
   },
   {
    "duration": 68,
    "start_time": "2021-12-16T20:25:06.936Z"
   },
   {
    "duration": 50,
    "start_time": "2021-12-16T20:25:07.007Z"
   },
   {
    "duration": 43,
    "start_time": "2021-12-16T20:25:07.068Z"
   },
   {
    "duration": 23,
    "start_time": "2021-12-16T20:25:07.114Z"
   },
   {
    "duration": 25,
    "start_time": "2021-12-16T20:25:07.182Z"
   },
   {
    "duration": 4,
    "start_time": "2021-12-16T20:25:07.212Z"
   },
   {
    "duration": 140,
    "start_time": "2021-12-16T20:25:07.218Z"
   },
   {
    "duration": 8,
    "start_time": "2021-12-16T20:25:07.360Z"
   },
   {
    "duration": 6,
    "start_time": "2021-12-16T20:25:07.371Z"
   },
   {
    "duration": 16,
    "start_time": "2021-12-16T20:25:07.380Z"
   },
   {
    "duration": 11,
    "start_time": "2021-12-16T20:25:07.399Z"
   },
   {
    "duration": 98,
    "start_time": "2021-12-16T20:25:07.413Z"
   },
   {
    "duration": 32,
    "start_time": "2021-12-16T20:25:07.514Z"
   },
   {
    "duration": 44,
    "start_time": "2021-12-16T20:25:07.549Z"
   },
   {
    "duration": 162,
    "start_time": "2021-12-16T20:25:07.596Z"
   },
   {
    "duration": 129,
    "start_time": "2021-12-16T20:25:07.760Z"
   },
   {
    "duration": 32,
    "start_time": "2021-12-16T20:25:07.892Z"
   },
   {
    "duration": 341,
    "start_time": "2021-12-16T20:25:07.927Z"
   },
   {
    "duration": 252,
    "start_time": "2021-12-16T20:25:08.271Z"
   },
   {
    "duration": 144,
    "start_time": "2021-12-16T20:25:08.531Z"
   },
   {
    "duration": 39,
    "start_time": "2021-12-16T20:25:08.678Z"
   },
   {
    "duration": 181,
    "start_time": "2021-12-16T20:25:08.720Z"
   },
   {
    "duration": 78,
    "start_time": "2021-12-16T20:25:08.903Z"
   },
   {
    "duration": 8,
    "start_time": "2021-12-16T20:25:08.984Z"
   },
   {
    "duration": 8,
    "start_time": "2021-12-16T20:25:08.994Z"
   },
   {
    "duration": 9,
    "start_time": "2021-12-16T20:25:09.005Z"
   },
   {
    "duration": 96,
    "start_time": "2021-12-16T20:25:09.017Z"
   },
   {
    "duration": 15,
    "start_time": "2021-12-16T20:25:09.115Z"
   },
   {
    "duration": 6,
    "start_time": "2021-12-16T20:25:09.133Z"
   },
   {
    "duration": 54,
    "start_time": "2021-12-16T20:25:09.142Z"
   },
   {
    "duration": 34,
    "start_time": "2021-12-16T20:25:09.199Z"
   },
   {
    "duration": 34,
    "start_time": "2021-12-16T20:25:09.235Z"
   },
   {
    "duration": 514,
    "start_time": "2021-12-16T20:25:09.271Z"
   },
   {
    "duration": 618,
    "start_time": "2021-12-16T20:25:09.788Z"
   },
   {
    "duration": 408,
    "start_time": "2021-12-16T20:25:10.409Z"
   },
   {
    "duration": 461,
    "start_time": "2021-12-16T20:25:10.819Z"
   },
   {
    "duration": 445,
    "start_time": "2021-12-16T20:25:11.283Z"
   },
   {
    "duration": 380,
    "start_time": "2021-12-16T20:25:11.732Z"
   },
   {
    "duration": 70,
    "start_time": "2021-12-16T20:25:12.115Z"
   },
   {
    "duration": 11,
    "start_time": "2021-12-16T20:25:12.187Z"
   },
   {
    "duration": 15,
    "start_time": "2021-12-16T20:25:12.201Z"
   },
   {
    "duration": 14,
    "start_time": "2021-12-16T20:25:12.219Z"
   },
   {
    "duration": 46,
    "start_time": "2021-12-16T20:25:12.235Z"
   },
   {
    "duration": 12,
    "start_time": "2021-12-16T20:25:12.284Z"
   },
   {
    "duration": 12,
    "start_time": "2021-12-16T20:25:12.299Z"
   },
   {
    "duration": 15,
    "start_time": "2021-12-16T20:25:12.314Z"
   },
   {
    "duration": 9,
    "start_time": "2021-12-16T20:26:07.388Z"
   },
   {
    "duration": 6,
    "start_time": "2021-12-16T20:29:34.752Z"
   },
   {
    "duration": 644,
    "start_time": "2021-12-16T20:29:34.761Z"
   },
   {
    "duration": 42,
    "start_time": "2021-12-16T20:29:35.410Z"
   },
   {
    "duration": 50,
    "start_time": "2021-12-16T20:29:35.456Z"
   },
   {
    "duration": 59,
    "start_time": "2021-12-16T20:29:35.511Z"
   },
   {
    "duration": 38,
    "start_time": "2021-12-16T20:29:35.573Z"
   },
   {
    "duration": 56,
    "start_time": "2021-12-16T20:29:35.614Z"
   },
   {
    "duration": 32,
    "start_time": "2021-12-16T20:29:35.675Z"
   },
   {
    "duration": 184,
    "start_time": "2021-12-16T20:29:35.712Z"
   },
   {
    "duration": 7,
    "start_time": "2021-12-16T20:29:35.899Z"
   },
   {
    "duration": 31,
    "start_time": "2021-12-16T20:29:35.909Z"
   },
   {
    "duration": 33,
    "start_time": "2021-12-16T20:29:35.943Z"
   },
   {
    "duration": 32,
    "start_time": "2021-12-16T20:29:35.979Z"
   },
   {
    "duration": 93,
    "start_time": "2021-12-16T20:29:36.013Z"
   },
   {
    "duration": 31,
    "start_time": "2021-12-16T20:29:36.109Z"
   },
   {
    "duration": 33,
    "start_time": "2021-12-16T20:29:36.143Z"
   },
   {
    "duration": 144,
    "start_time": "2021-12-16T20:29:36.179Z"
   },
   {
    "duration": 135,
    "start_time": "2021-12-16T20:29:36.326Z"
   },
   {
    "duration": 43,
    "start_time": "2021-12-16T20:29:36.468Z"
   },
   {
    "duration": 410,
    "start_time": "2021-12-16T20:29:36.514Z"
   },
   {
    "duration": 329,
    "start_time": "2021-12-16T20:29:36.928Z"
   },
   {
    "duration": 141,
    "start_time": "2021-12-16T20:29:37.259Z"
   },
   {
    "duration": 43,
    "start_time": "2021-12-16T20:29:37.407Z"
   },
   {
    "duration": 160,
    "start_time": "2021-12-16T20:29:37.469Z"
   },
   {
    "duration": 8,
    "start_time": "2021-12-16T20:30:04.969Z"
   },
   {
    "duration": 1435,
    "start_time": "2021-12-16T20:30:17.906Z"
   },
   {
    "duration": 603,
    "start_time": "2021-12-16T20:30:19.344Z"
   },
   {
    "duration": 43,
    "start_time": "2021-12-16T20:30:19.950Z"
   },
   {
    "duration": 33,
    "start_time": "2021-12-16T20:30:19.995Z"
   },
   {
    "duration": 50,
    "start_time": "2021-12-16T20:30:20.031Z"
   },
   {
    "duration": 19,
    "start_time": "2021-12-16T20:30:20.084Z"
   },
   {
    "duration": 61,
    "start_time": "2021-12-16T20:30:20.106Z"
   },
   {
    "duration": 24,
    "start_time": "2021-12-16T20:30:20.172Z"
   },
   {
    "duration": 174,
    "start_time": "2021-12-16T20:30:20.200Z"
   },
   {
    "duration": 9,
    "start_time": "2021-12-16T20:30:20.377Z"
   },
   {
    "duration": 20,
    "start_time": "2021-12-16T20:30:20.388Z"
   },
   {
    "duration": 45,
    "start_time": "2021-12-16T20:30:20.410Z"
   },
   {
    "duration": 41,
    "start_time": "2021-12-16T20:30:20.457Z"
   },
   {
    "duration": 119,
    "start_time": "2021-12-16T20:30:20.500Z"
   },
   {
    "duration": 46,
    "start_time": "2021-12-16T20:30:20.621Z"
   },
   {
    "duration": 42,
    "start_time": "2021-12-16T20:30:20.670Z"
   },
   {
    "duration": 167,
    "start_time": "2021-12-16T20:30:20.715Z"
   },
   {
    "duration": 142,
    "start_time": "2021-12-16T20:30:20.885Z"
   },
   {
    "duration": 44,
    "start_time": "2021-12-16T20:30:21.030Z"
   },
   {
    "duration": 306,
    "start_time": "2021-12-16T20:30:21.077Z"
   },
   {
    "duration": 214,
    "start_time": "2021-12-16T20:30:21.385Z"
   },
   {
    "duration": 134,
    "start_time": "2021-12-16T20:30:21.601Z"
   },
   {
    "duration": 47,
    "start_time": "2021-12-16T20:30:21.740Z"
   },
   {
    "duration": 153,
    "start_time": "2021-12-16T20:30:21.790Z"
   },
   {
    "duration": 51,
    "start_time": "2021-12-16T20:30:21.945Z"
   },
   {
    "duration": 8,
    "start_time": "2021-12-16T20:30:21.998Z"
   },
   {
    "duration": 27,
    "start_time": "2021-12-16T20:30:22.008Z"
   },
   {
    "duration": 9164,
    "start_time": "2021-12-16T20:30:22.038Z"
   },
   {
    "duration": -381,
    "start_time": "2021-12-16T20:30:31.586Z"
   },
   {
    "duration": -380,
    "start_time": "2021-12-16T20:30:31.588Z"
   },
   {
    "duration": -381,
    "start_time": "2021-12-16T20:30:31.591Z"
   },
   {
    "duration": -380,
    "start_time": "2021-12-16T20:30:31.593Z"
   },
   {
    "duration": -380,
    "start_time": "2021-12-16T20:30:31.595Z"
   },
   {
    "duration": -380,
    "start_time": "2021-12-16T20:30:31.597Z"
   },
   {
    "duration": -379,
    "start_time": "2021-12-16T20:30:31.599Z"
   },
   {
    "duration": -380,
    "start_time": "2021-12-16T20:30:31.602Z"
   },
   {
    "duration": -380,
    "start_time": "2021-12-16T20:30:31.604Z"
   },
   {
    "duration": -380,
    "start_time": "2021-12-16T20:30:31.606Z"
   },
   {
    "duration": -379,
    "start_time": "2021-12-16T20:30:31.608Z"
   },
   {
    "duration": -383,
    "start_time": "2021-12-16T20:30:31.614Z"
   },
   {
    "duration": -382,
    "start_time": "2021-12-16T20:30:31.616Z"
   },
   {
    "duration": -399,
    "start_time": "2021-12-16T20:30:31.635Z"
   },
   {
    "duration": -402,
    "start_time": "2021-12-16T20:30:31.640Z"
   },
   {
    "duration": -403,
    "start_time": "2021-12-16T20:30:31.643Z"
   },
   {
    "duration": -379,
    "start_time": "2021-12-16T20:30:31.645Z"
   },
   {
    "duration": -378,
    "start_time": "2021-12-16T20:30:31.647Z"
   },
   {
    "duration": -379,
    "start_time": "2021-12-16T20:30:31.650Z"
   },
   {
    "duration": -381,
    "start_time": "2021-12-16T20:30:31.654Z"
   },
   {
    "duration": -381,
    "start_time": "2021-12-16T20:30:31.656Z"
   },
   {
    "duration": 81,
    "start_time": "2021-12-16T20:33:19.127Z"
   },
   {
    "duration": 11,
    "start_time": "2021-12-16T20:33:27.095Z"
   },
   {
    "duration": 7,
    "start_time": "2021-12-16T20:33:31.999Z"
   },
   {
    "duration": 6,
    "start_time": "2021-12-16T20:34:14.669Z"
   },
   {
    "duration": 1415,
    "start_time": "2021-12-16T20:34:22.162Z"
   },
   {
    "duration": 547,
    "start_time": "2021-12-16T20:34:23.580Z"
   },
   {
    "duration": 63,
    "start_time": "2021-12-16T20:34:24.131Z"
   },
   {
    "duration": 48,
    "start_time": "2021-12-16T20:34:24.197Z"
   },
   {
    "duration": 47,
    "start_time": "2021-12-16T20:34:24.248Z"
   },
   {
    "duration": 17,
    "start_time": "2021-12-16T20:34:24.298Z"
   },
   {
    "duration": 49,
    "start_time": "2021-12-16T20:34:24.318Z"
   },
   {
    "duration": 4,
    "start_time": "2021-12-16T20:34:24.371Z"
   },
   {
    "duration": 129,
    "start_time": "2021-12-16T20:34:24.377Z"
   },
   {
    "duration": 6,
    "start_time": "2021-12-16T20:34:24.509Z"
   },
   {
    "duration": 3,
    "start_time": "2021-12-16T20:34:24.518Z"
   },
   {
    "duration": 6,
    "start_time": "2021-12-16T20:34:24.523Z"
   },
   {
    "duration": 6,
    "start_time": "2021-12-16T20:34:24.531Z"
   },
   {
    "duration": 72,
    "start_time": "2021-12-16T20:34:24.568Z"
   },
   {
    "duration": 46,
    "start_time": "2021-12-16T20:34:24.643Z"
   },
   {
    "duration": 18,
    "start_time": "2021-12-16T20:34:24.691Z"
   },
   {
    "duration": 178,
    "start_time": "2021-12-16T20:34:24.712Z"
   },
   {
    "duration": 125,
    "start_time": "2021-12-16T20:34:24.892Z"
   },
   {
    "duration": 31,
    "start_time": "2021-12-16T20:34:25.019Z"
   },
   {
    "duration": 306,
    "start_time": "2021-12-16T20:34:25.068Z"
   },
   {
    "duration": 222,
    "start_time": "2021-12-16T20:34:25.378Z"
   },
   {
    "duration": 134,
    "start_time": "2021-12-16T20:34:25.602Z"
   },
   {
    "duration": 53,
    "start_time": "2021-12-16T20:34:25.741Z"
   },
   {
    "duration": 153,
    "start_time": "2021-12-16T20:34:25.796Z"
   },
   {
    "duration": 57,
    "start_time": "2021-12-16T20:34:25.951Z"
   },
   {
    "duration": 8,
    "start_time": "2021-12-16T20:34:26.011Z"
   },
   {
    "duration": 29,
    "start_time": "2021-12-16T20:34:26.021Z"
   },
   {
    "duration": 30,
    "start_time": "2021-12-16T20:34:26.053Z"
   },
   {
    "duration": 59,
    "start_time": "2021-12-16T20:34:26.085Z"
   },
   {
    "duration": 8,
    "start_time": "2021-12-16T20:34:26.147Z"
   },
   {
    "duration": 10,
    "start_time": "2021-12-16T20:34:26.158Z"
   },
   {
    "duration": 11,
    "start_time": "2021-12-16T20:34:26.170Z"
   },
   {
    "duration": 34,
    "start_time": "2021-12-16T20:34:26.183Z"
   },
   {
    "duration": 48,
    "start_time": "2021-12-16T20:34:26.220Z"
   },
   {
    "duration": 9,
    "start_time": "2021-12-16T20:34:26.271Z"
   },
   {
    "duration": 397,
    "start_time": "2021-12-16T20:34:26.283Z"
   },
   {
    "duration": 417,
    "start_time": "2021-12-16T20:34:26.683Z"
   },
   {
    "duration": 386,
    "start_time": "2021-12-16T20:34:27.102Z"
   },
   {
    "duration": 402,
    "start_time": "2021-12-16T20:34:27.490Z"
   },
   {
    "duration": 378,
    "start_time": "2021-12-16T20:34:27.895Z"
   },
   {
    "duration": 318,
    "start_time": "2021-12-16T20:34:28.276Z"
   },
   {
    "duration": 72,
    "start_time": "2021-12-16T20:34:28.596Z"
   },
   {
    "duration": 9,
    "start_time": "2021-12-16T20:34:28.671Z"
   },
   {
    "duration": 34,
    "start_time": "2021-12-16T20:34:28.682Z"
   },
   {
    "duration": 40,
    "start_time": "2021-12-16T20:34:28.718Z"
   },
   {
    "duration": 29,
    "start_time": "2021-12-16T20:34:28.760Z"
   },
   {
    "duration": 33,
    "start_time": "2021-12-16T20:34:28.791Z"
   },
   {
    "duration": 28,
    "start_time": "2021-12-16T20:34:28.827Z"
   },
   {
    "duration": 39,
    "start_time": "2021-12-16T20:34:28.857Z"
   },
   {
    "duration": 1456,
    "start_time": "2021-12-16T20:36:37.991Z"
   },
   {
    "duration": 769,
    "start_time": "2021-12-16T20:36:39.451Z"
   },
   {
    "duration": 65,
    "start_time": "2021-12-16T20:36:40.225Z"
   },
   {
    "duration": 52,
    "start_time": "2021-12-16T20:36:40.294Z"
   },
   {
    "duration": 56,
    "start_time": "2021-12-16T20:36:40.349Z"
   },
   {
    "duration": 19,
    "start_time": "2021-12-16T20:36:40.408Z"
   },
   {
    "duration": 55,
    "start_time": "2021-12-16T20:36:40.429Z"
   },
   {
    "duration": 32,
    "start_time": "2021-12-16T20:36:40.488Z"
   },
   {
    "duration": 149,
    "start_time": "2021-12-16T20:36:40.523Z"
   },
   {
    "duration": 6,
    "start_time": "2021-12-16T20:36:40.675Z"
   },
   {
    "duration": 31,
    "start_time": "2021-12-16T20:36:40.684Z"
   },
   {
    "duration": 47,
    "start_time": "2021-12-16T20:36:40.718Z"
   },
   {
    "duration": 31,
    "start_time": "2021-12-16T20:36:40.768Z"
   },
   {
    "duration": 92,
    "start_time": "2021-12-16T20:36:40.801Z"
   },
   {
    "duration": 28,
    "start_time": "2021-12-16T20:36:40.896Z"
   },
   {
    "duration": 34,
    "start_time": "2021-12-16T20:36:40.927Z"
   },
   {
    "duration": 170,
    "start_time": "2021-12-16T20:36:40.968Z"
   },
   {
    "duration": 129,
    "start_time": "2021-12-16T20:36:41.141Z"
   },
   {
    "duration": 30,
    "start_time": "2021-12-16T20:36:41.272Z"
   },
   {
    "duration": 313,
    "start_time": "2021-12-16T20:36:41.305Z"
   },
   {
    "duration": 221,
    "start_time": "2021-12-16T20:36:41.621Z"
   },
   {
    "duration": 136,
    "start_time": "2021-12-16T20:36:41.844Z"
   },
   {
    "duration": 40,
    "start_time": "2021-12-16T20:36:41.985Z"
   },
   {
    "duration": 157,
    "start_time": "2021-12-16T20:36:42.028Z"
   },
   {
    "duration": 53,
    "start_time": "2021-12-16T20:36:42.188Z"
   },
   {
    "duration": 26,
    "start_time": "2021-12-16T20:36:42.243Z"
   },
   {
    "duration": 7,
    "start_time": "2021-12-16T20:36:42.271Z"
   },
   {
    "duration": 13,
    "start_time": "2021-12-16T20:36:42.281Z"
   },
   {
    "duration": 65,
    "start_time": "2021-12-16T20:36:42.297Z"
   },
   {
    "duration": 9,
    "start_time": "2021-12-16T20:36:42.367Z"
   },
   {
    "duration": 33,
    "start_time": "2021-12-16T20:36:42.379Z"
   },
   {
    "duration": 58,
    "start_time": "2021-12-16T20:36:42.414Z"
   },
   {
    "duration": 31,
    "start_time": "2021-12-16T20:36:42.474Z"
   },
   {
    "duration": 19,
    "start_time": "2021-12-16T20:36:42.507Z"
   },
   {
    "duration": 402,
    "start_time": "2021-12-16T20:36:42.529Z"
   },
   {
    "duration": 414,
    "start_time": "2021-12-16T20:36:42.933Z"
   },
   {
    "duration": 381,
    "start_time": "2021-12-16T20:36:43.349Z"
   },
   {
    "duration": 503,
    "start_time": "2021-12-16T20:36:43.732Z"
   },
   {
    "duration": 382,
    "start_time": "2021-12-16T20:36:44.237Z"
   },
   {
    "duration": 333,
    "start_time": "2021-12-16T20:36:44.621Z"
   },
   {
    "duration": 67,
    "start_time": "2021-12-16T20:36:44.956Z"
   },
   {
    "duration": 11,
    "start_time": "2021-12-16T20:36:45.025Z"
   },
   {
    "duration": 39,
    "start_time": "2021-12-16T20:36:45.039Z"
   },
   {
    "duration": 11,
    "start_time": "2021-12-16T20:36:45.081Z"
   },
   {
    "duration": 18,
    "start_time": "2021-12-16T20:36:45.095Z"
   },
   {
    "duration": 13,
    "start_time": "2021-12-16T20:36:45.116Z"
   },
   {
    "duration": 38,
    "start_time": "2021-12-16T20:36:45.132Z"
   },
   {
    "duration": 13,
    "start_time": "2021-12-16T20:36:45.173Z"
   },
   {
    "duration": 102,
    "start_time": "2021-12-16T20:43:39.210Z"
   },
   {
    "duration": 14,
    "start_time": "2021-12-16T20:48:11.376Z"
   },
   {
    "duration": 10,
    "start_time": "2021-12-16T20:48:13.424Z"
   },
   {
    "duration": 1433,
    "start_time": "2021-12-16T20:48:37.587Z"
   },
   {
    "duration": 556,
    "start_time": "2021-12-16T20:48:39.023Z"
   },
   {
    "duration": 44,
    "start_time": "2021-12-16T20:48:39.582Z"
   },
   {
    "duration": 57,
    "start_time": "2021-12-16T20:48:39.629Z"
   },
   {
    "duration": 28,
    "start_time": "2021-12-16T20:48:39.690Z"
   },
   {
    "duration": 46,
    "start_time": "2021-12-16T20:48:39.721Z"
   },
   {
    "duration": 22,
    "start_time": "2021-12-16T20:48:39.770Z"
   },
   {
    "duration": 4,
    "start_time": "2021-12-16T20:48:39.794Z"
   },
   {
    "duration": 137,
    "start_time": "2021-12-16T20:48:39.802Z"
   },
   {
    "duration": 7,
    "start_time": "2021-12-16T20:48:39.942Z"
   },
   {
    "duration": 16,
    "start_time": "2021-12-16T20:48:39.952Z"
   },
   {
    "duration": 7,
    "start_time": "2021-12-16T20:48:39.970Z"
   },
   {
    "duration": 9,
    "start_time": "2021-12-16T20:48:39.979Z"
   },
   {
    "duration": 95,
    "start_time": "2021-12-16T20:48:39.990Z"
   },
   {
    "duration": 31,
    "start_time": "2021-12-16T20:48:40.088Z"
   },
   {
    "duration": 18,
    "start_time": "2021-12-16T20:48:40.121Z"
   },
   {
    "duration": 192,
    "start_time": "2021-12-16T20:48:40.141Z"
   },
   {
    "duration": 169,
    "start_time": "2021-12-16T20:48:40.336Z"
   },
   {
    "duration": 44,
    "start_time": "2021-12-16T20:48:40.508Z"
   },
   {
    "duration": 309,
    "start_time": "2021-12-16T20:48:40.568Z"
   },
   {
    "duration": 224,
    "start_time": "2021-12-16T20:48:40.880Z"
   },
   {
    "duration": 171,
    "start_time": "2021-12-16T20:48:41.107Z"
   },
   {
    "duration": 59,
    "start_time": "2021-12-16T20:48:41.281Z"
   },
   {
    "duration": 181,
    "start_time": "2021-12-16T20:48:41.344Z"
   },
   {
    "duration": 68,
    "start_time": "2021-12-16T20:48:41.527Z"
   },
   {
    "duration": 9,
    "start_time": "2021-12-16T20:48:41.598Z"
   },
   {
    "duration": 9,
    "start_time": "2021-12-16T20:48:41.613Z"
   },
   {
    "duration": 9,
    "start_time": "2021-12-16T20:48:41.625Z"
   },
   {
    "duration": 78,
    "start_time": "2021-12-16T20:48:41.637Z"
   },
   {
    "duration": 11,
    "start_time": "2021-12-16T20:48:41.718Z"
   },
   {
    "duration": 36,
    "start_time": "2021-12-16T20:48:41.732Z"
   },
   {
    "duration": 46,
    "start_time": "2021-12-16T20:48:41.771Z"
   },
   {
    "duration": 67,
    "start_time": "2021-12-16T20:48:41.820Z"
   },
   {
    "duration": 12,
    "start_time": "2021-12-16T20:48:41.890Z"
   },
   {
    "duration": 407,
    "start_time": "2021-12-16T20:48:41.905Z"
   },
   {
    "duration": 411,
    "start_time": "2021-12-16T20:48:42.315Z"
   },
   {
    "duration": 381,
    "start_time": "2021-12-16T20:48:42.728Z"
   },
   {
    "duration": 396,
    "start_time": "2021-12-16T20:48:43.111Z"
   },
   {
    "duration": 380,
    "start_time": "2021-12-16T20:48:43.510Z"
   },
   {
    "duration": 320,
    "start_time": "2021-12-16T20:48:43.892Z"
   },
   {
    "duration": 80,
    "start_time": "2021-12-16T20:48:44.214Z"
   },
   {
    "duration": 11,
    "start_time": "2021-12-16T20:48:44.296Z"
   },
   {
    "duration": 14,
    "start_time": "2021-12-16T20:48:44.310Z"
   },
   {
    "duration": 39,
    "start_time": "2021-12-16T20:48:44.327Z"
   },
   {
    "duration": 15,
    "start_time": "2021-12-16T20:48:44.369Z"
   },
   {
    "duration": 18,
    "start_time": "2021-12-16T20:48:44.386Z"
   },
   {
    "duration": 15,
    "start_time": "2021-12-16T20:48:44.407Z"
   },
   {
    "duration": 46,
    "start_time": "2021-12-16T20:48:44.425Z"
   },
   {
    "duration": 128,
    "start_time": "2021-12-16T20:50:42.476Z"
   },
   {
    "duration": 1426,
    "start_time": "2021-12-16T20:51:14.009Z"
   },
   {
    "duration": 554,
    "start_time": "2021-12-16T20:51:15.438Z"
   },
   {
    "duration": 65,
    "start_time": "2021-12-16T20:51:15.996Z"
   },
   {
    "duration": 50,
    "start_time": "2021-12-16T20:51:16.064Z"
   },
   {
    "duration": 57,
    "start_time": "2021-12-16T20:51:16.117Z"
   },
   {
    "duration": 25,
    "start_time": "2021-12-16T20:51:16.177Z"
   },
   {
    "duration": 43,
    "start_time": "2021-12-16T20:51:16.204Z"
   },
   {
    "duration": 17,
    "start_time": "2021-12-16T20:51:16.250Z"
   },
   {
    "duration": 155,
    "start_time": "2021-12-16T20:51:16.271Z"
   },
   {
    "duration": 6,
    "start_time": "2021-12-16T20:51:16.429Z"
   },
   {
    "duration": 34,
    "start_time": "2021-12-16T20:51:16.437Z"
   },
   {
    "duration": 24,
    "start_time": "2021-12-16T20:51:16.474Z"
   },
   {
    "duration": 39,
    "start_time": "2021-12-16T20:51:16.500Z"
   },
   {
    "duration": 78,
    "start_time": "2021-12-16T20:51:16.542Z"
   },
   {
    "duration": 30,
    "start_time": "2021-12-16T20:51:16.622Z"
   },
   {
    "duration": 29,
    "start_time": "2021-12-16T20:51:16.669Z"
   },
   {
    "duration": 168,
    "start_time": "2021-12-16T20:51:16.701Z"
   },
   {
    "duration": 133,
    "start_time": "2021-12-16T20:51:16.872Z"
   },
   {
    "duration": 29,
    "start_time": "2021-12-16T20:51:17.007Z"
   },
   {
    "duration": 315,
    "start_time": "2021-12-16T20:51:17.039Z"
   },
   {
    "duration": 218,
    "start_time": "2021-12-16T20:51:17.366Z"
   },
   {
    "duration": 143,
    "start_time": "2021-12-16T20:51:17.587Z"
   },
   {
    "duration": 52,
    "start_time": "2021-12-16T20:51:17.738Z"
   },
   {
    "duration": 149,
    "start_time": "2021-12-16T20:51:17.793Z"
   },
   {
    "duration": 65,
    "start_time": "2021-12-16T20:51:17.944Z"
   },
   {
    "duration": 9,
    "start_time": "2021-12-16T20:51:18.011Z"
   },
   {
    "duration": 34,
    "start_time": "2021-12-16T20:51:18.022Z"
   },
   {
    "duration": 26,
    "start_time": "2021-12-16T20:51:18.059Z"
   },
   {
    "duration": 55,
    "start_time": "2021-12-16T20:51:18.087Z"
   },
   {
    "duration": 51,
    "start_time": "2021-12-16T20:51:18.144Z"
   },
   {
    "duration": 23,
    "start_time": "2021-12-16T20:51:18.197Z"
   },
   {
    "duration": 55,
    "start_time": "2021-12-16T20:51:18.223Z"
   },
   {
    "duration": 40,
    "start_time": "2021-12-16T20:51:18.280Z"
   },
   {
    "duration": 14,
    "start_time": "2021-12-16T20:51:18.323Z"
   },
   {
    "duration": 433,
    "start_time": "2021-12-16T20:51:18.339Z"
   },
   {
    "duration": 415,
    "start_time": "2021-12-16T20:51:18.774Z"
   },
   {
    "duration": 408,
    "start_time": "2021-12-16T20:51:19.192Z"
   },
   {
    "duration": 424,
    "start_time": "2021-12-16T20:51:19.603Z"
   },
   {
    "duration": 386,
    "start_time": "2021-12-16T20:51:20.029Z"
   },
   {
    "duration": 337,
    "start_time": "2021-12-16T20:51:20.417Z"
   },
   {
    "duration": 72,
    "start_time": "2021-12-16T20:51:20.756Z"
   },
   {
    "duration": 10,
    "start_time": "2021-12-16T20:51:20.831Z"
   },
   {
    "duration": 30,
    "start_time": "2021-12-16T20:51:20.843Z"
   },
   {
    "duration": 43,
    "start_time": "2021-12-16T20:51:20.876Z"
   },
   {
    "duration": 41,
    "start_time": "2021-12-16T20:51:20.922Z"
   },
   {
    "duration": 57,
    "start_time": "2021-12-16T20:51:20.966Z"
   },
   {
    "duration": 48,
    "start_time": "2021-12-16T20:51:21.025Z"
   },
   {
    "duration": 37,
    "start_time": "2021-12-16T20:51:21.076Z"
   },
   {
    "duration": 1152,
    "start_time": "2021-12-17T11:00:07.347Z"
   },
   {
    "duration": 428,
    "start_time": "2021-12-17T11:00:08.501Z"
   },
   {
    "duration": 32,
    "start_time": "2021-12-17T11:00:08.934Z"
   },
   {
    "duration": 36,
    "start_time": "2021-12-17T11:00:08.968Z"
   },
   {
    "duration": 20,
    "start_time": "2021-12-17T11:00:09.006Z"
   },
   {
    "duration": 10,
    "start_time": "2021-12-17T11:00:09.028Z"
   },
   {
    "duration": 16,
    "start_time": "2021-12-17T11:00:09.041Z"
   },
   {
    "duration": 5,
    "start_time": "2021-12-17T11:00:09.059Z"
   },
   {
    "duration": 74,
    "start_time": "2021-12-17T11:00:09.091Z"
   },
   {
    "duration": 26,
    "start_time": "2021-12-17T11:00:09.167Z"
   },
   {
    "duration": 9,
    "start_time": "2021-12-17T11:00:09.195Z"
   },
   {
    "duration": 16,
    "start_time": "2021-12-17T11:00:09.205Z"
   },
   {
    "duration": 18,
    "start_time": "2021-12-17T11:00:09.223Z"
   },
   {
    "duration": 58,
    "start_time": "2021-12-17T11:00:09.243Z"
   },
   {
    "duration": 20,
    "start_time": "2021-12-17T11:00:09.303Z"
   },
   {
    "duration": 29,
    "start_time": "2021-12-17T11:00:09.325Z"
   },
   {
    "duration": 139,
    "start_time": "2021-12-17T11:00:09.356Z"
   },
   {
    "duration": 101,
    "start_time": "2021-12-17T11:00:09.498Z"
   },
   {
    "duration": 22,
    "start_time": "2021-12-17T11:00:09.602Z"
   },
   {
    "duration": 234,
    "start_time": "2021-12-17T11:00:09.626Z"
   },
   {
    "duration": 168,
    "start_time": "2021-12-17T11:00:09.863Z"
   },
   {
    "duration": 101,
    "start_time": "2021-12-17T11:00:10.035Z"
   },
   {
    "duration": 28,
    "start_time": "2021-12-17T11:00:10.138Z"
   },
   {
    "duration": 146,
    "start_time": "2021-12-17T11:00:10.169Z"
   },
   {
    "duration": 37,
    "start_time": "2021-12-17T11:00:10.317Z"
   },
   {
    "duration": 8,
    "start_time": "2021-12-17T11:00:10.356Z"
   },
   {
    "duration": 26,
    "start_time": "2021-12-17T11:00:10.366Z"
   },
   {
    "duration": 29,
    "start_time": "2021-12-17T11:00:10.395Z"
   },
   {
    "duration": 54,
    "start_time": "2021-12-17T11:00:10.427Z"
   },
   {
    "duration": 6,
    "start_time": "2021-12-17T11:00:10.483Z"
   },
   {
    "duration": 36,
    "start_time": "2021-12-17T11:00:10.491Z"
   },
   {
    "duration": 31,
    "start_time": "2021-12-17T11:00:10.529Z"
   },
   {
    "duration": 27,
    "start_time": "2021-12-17T11:00:10.562Z"
   },
   {
    "duration": 12,
    "start_time": "2021-12-17T11:00:10.591Z"
   },
   {
    "duration": 278,
    "start_time": "2021-12-17T11:00:10.605Z"
   },
   {
    "duration": 269,
    "start_time": "2021-12-17T11:00:10.891Z"
   },
   {
    "duration": 267,
    "start_time": "2021-12-17T11:00:11.162Z"
   },
   {
    "duration": 273,
    "start_time": "2021-12-17T11:00:11.431Z"
   },
   {
    "duration": 259,
    "start_time": "2021-12-17T11:00:11.706Z"
   },
   {
    "duration": 214,
    "start_time": "2021-12-17T11:00:11.967Z"
   },
   {
    "duration": 46,
    "start_time": "2021-12-17T11:00:12.183Z"
   },
   {
    "duration": 8,
    "start_time": "2021-12-17T11:00:12.231Z"
   },
   {
    "duration": 25,
    "start_time": "2021-12-17T11:00:12.241Z"
   },
   {
    "duration": 14,
    "start_time": "2021-12-17T11:00:12.268Z"
   },
   {
    "duration": 24,
    "start_time": "2021-12-17T11:00:12.284Z"
   },
   {
    "duration": 43,
    "start_time": "2021-12-17T11:00:12.310Z"
   },
   {
    "duration": 19,
    "start_time": "2021-12-17T11:00:12.356Z"
   },
   {
    "duration": 28,
    "start_time": "2021-12-17T11:00:12.377Z"
   },
   {
    "duration": 34,
    "start_time": "2021-12-17T13:39:09.442Z"
   },
   {
    "duration": 42,
    "start_time": "2021-12-17T13:44:55.301Z"
   },
   {
    "duration": 6,
    "start_time": "2021-12-17T13:45:02.404Z"
   },
   {
    "duration": 356,
    "start_time": "2021-12-17T14:35:54.798Z"
   },
   {
    "duration": 1687,
    "start_time": "2021-12-17T14:36:02.750Z"
   },
   {
    "duration": 577,
    "start_time": "2021-12-17T14:36:04.440Z"
   },
   {
    "duration": 60,
    "start_time": "2021-12-17T14:36:05.021Z"
   },
   {
    "duration": 67,
    "start_time": "2021-12-17T14:36:05.085Z"
   },
   {
    "duration": 28,
    "start_time": "2021-12-17T14:36:05.155Z"
   },
   {
    "duration": 61,
    "start_time": "2021-12-17T14:36:05.185Z"
   },
   {
    "duration": 23,
    "start_time": "2021-12-17T14:36:05.249Z"
   },
   {
    "duration": 4,
    "start_time": "2021-12-17T14:36:05.275Z"
   },
   {
    "duration": 130,
    "start_time": "2021-12-17T14:36:05.328Z"
   },
   {
    "duration": 8,
    "start_time": "2021-12-17T14:36:05.462Z"
   },
   {
    "duration": 6,
    "start_time": "2021-12-17T14:36:05.473Z"
   },
   {
    "duration": 5,
    "start_time": "2021-12-17T14:36:05.482Z"
   },
   {
    "duration": 6,
    "start_time": "2021-12-17T14:36:05.519Z"
   },
   {
    "duration": 98,
    "start_time": "2021-12-17T14:36:05.529Z"
   },
   {
    "duration": 31,
    "start_time": "2021-12-17T14:36:05.630Z"
   },
   {
    "duration": 25,
    "start_time": "2021-12-17T14:36:05.663Z"
   },
   {
    "duration": 177,
    "start_time": "2021-12-17T14:36:05.719Z"
   },
   {
    "duration": 141,
    "start_time": "2021-12-17T14:36:05.899Z"
   },
   {
    "duration": 30,
    "start_time": "2021-12-17T14:36:06.042Z"
   },
   {
    "duration": 361,
    "start_time": "2021-12-17T14:36:06.075Z"
   },
   {
    "duration": 313,
    "start_time": "2021-12-17T14:36:06.439Z"
   },
   {
    "duration": 150,
    "start_time": "2021-12-17T14:36:06.756Z"
   },
   {
    "duration": 54,
    "start_time": "2021-12-17T14:36:06.908Z"
   },
   {
    "duration": 179,
    "start_time": "2021-12-17T14:36:06.965Z"
   },
   {
    "duration": 70,
    "start_time": "2021-12-17T14:36:07.147Z"
   },
   {
    "duration": 12,
    "start_time": "2021-12-17T14:36:07.220Z"
   },
   {
    "duration": 8,
    "start_time": "2021-12-17T14:36:07.241Z"
   },
   {
    "duration": 9,
    "start_time": "2021-12-17T14:36:07.252Z"
   },
   {
    "duration": 89,
    "start_time": "2021-12-17T14:36:07.264Z"
   },
   {
    "duration": 14,
    "start_time": "2021-12-17T14:36:07.355Z"
   },
   {
    "duration": 13,
    "start_time": "2021-12-17T14:36:07.372Z"
   },
   {
    "duration": 79,
    "start_time": "2021-12-17T14:36:07.388Z"
   },
   {
    "duration": 62,
    "start_time": "2021-12-17T14:36:07.470Z"
   },
   {
    "duration": 10,
    "start_time": "2021-12-17T14:36:07.535Z"
   },
   {
    "duration": 629,
    "start_time": "2021-12-17T14:36:07.548Z"
   },
   {
    "duration": 631,
    "start_time": "2021-12-17T14:36:08.180Z"
   },
   {
    "duration": 579,
    "start_time": "2021-12-17T14:36:08.818Z"
   },
   {
    "duration": 622,
    "start_time": "2021-12-17T14:36:09.401Z"
   },
   {
    "duration": 585,
    "start_time": "2021-12-17T14:36:10.027Z"
   },
   {
    "duration": 446,
    "start_time": "2021-12-17T14:36:10.618Z"
   },
   {
    "duration": 95,
    "start_time": "2021-12-17T14:36:11.066Z"
   },
   {
    "duration": 12,
    "start_time": "2021-12-17T14:36:11.164Z"
   },
   {
    "duration": 39,
    "start_time": "2021-12-17T14:36:11.178Z"
   },
   {
    "duration": 17,
    "start_time": "2021-12-17T14:36:11.220Z"
   },
   {
    "duration": 18,
    "start_time": "2021-12-17T14:36:11.242Z"
   },
   {
    "duration": 14,
    "start_time": "2021-12-17T14:36:11.265Z"
   },
   {
    "duration": 17,
    "start_time": "2021-12-17T14:36:11.319Z"
   },
   {
    "duration": 11,
    "start_time": "2021-12-17T14:36:11.342Z"
   },
   {
    "duration": 10,
    "start_time": "2021-12-17T14:36:34.664Z"
   },
   {
    "duration": 7,
    "start_time": "2021-12-17T14:36:40.814Z"
   },
   {
    "duration": 38,
    "start_time": "2021-12-17T14:36:59.751Z"
   },
   {
    "duration": 1743,
    "start_time": "2021-12-17T14:37:57.164Z"
   },
   {
    "duration": 723,
    "start_time": "2021-12-17T14:37:58.911Z"
   },
   {
    "duration": 43,
    "start_time": "2021-12-17T14:37:59.642Z"
   },
   {
    "duration": 53,
    "start_time": "2021-12-17T14:37:59.687Z"
   },
   {
    "duration": 46,
    "start_time": "2021-12-17T14:37:59.744Z"
   },
   {
    "duration": 40,
    "start_time": "2021-12-17T14:37:59.793Z"
   },
   {
    "duration": 24,
    "start_time": "2021-12-17T14:37:59.839Z"
   },
   {
    "duration": 4,
    "start_time": "2021-12-17T14:37:59.867Z"
   },
   {
    "duration": 194,
    "start_time": "2021-12-17T14:37:59.874Z"
   },
   {
    "duration": 9,
    "start_time": "2021-12-17T14:38:00.071Z"
   },
   {
    "duration": 6,
    "start_time": "2021-12-17T14:38:00.083Z"
   },
   {
    "duration": 29,
    "start_time": "2021-12-17T14:38:00.092Z"
   },
   {
    "duration": 6,
    "start_time": "2021-12-17T14:38:00.125Z"
   },
   {
    "duration": 107,
    "start_time": "2021-12-17T14:38:00.135Z"
   },
   {
    "duration": 29,
    "start_time": "2021-12-17T14:38:00.245Z"
   },
   {
    "duration": 49,
    "start_time": "2021-12-17T14:38:00.277Z"
   },
   {
    "duration": 190,
    "start_time": "2021-12-17T14:38:00.328Z"
   },
   {
    "duration": 142,
    "start_time": "2021-12-17T14:38:00.522Z"
   },
   {
    "duration": 49,
    "start_time": "2021-12-17T14:38:00.668Z"
   },
   {
    "duration": 320,
    "start_time": "2021-12-17T14:38:00.721Z"
   },
   {
    "duration": 249,
    "start_time": "2021-12-17T14:38:01.045Z"
   },
   {
    "duration": 156,
    "start_time": "2021-12-17T14:38:01.302Z"
   },
   {
    "duration": 54,
    "start_time": "2021-12-17T14:38:01.463Z"
   },
   {
    "duration": 200,
    "start_time": "2021-12-17T14:38:01.521Z"
   },
   {
    "duration": 95,
    "start_time": "2021-12-17T14:38:01.724Z"
   },
   {
    "duration": 15,
    "start_time": "2021-12-17T14:38:01.822Z"
   },
   {
    "duration": 9,
    "start_time": "2021-12-17T14:38:01.840Z"
   },
   {
    "duration": 19,
    "start_time": "2021-12-17T14:38:01.852Z"
   },
   {
    "duration": 78,
    "start_time": "2021-12-17T14:38:01.874Z"
   },
   {
    "duration": 9,
    "start_time": "2021-12-17T14:38:01.954Z"
   },
   {
    "duration": 12,
    "start_time": "2021-12-17T14:38:01.966Z"
   },
   {
    "duration": 79,
    "start_time": "2021-12-17T14:38:01.981Z"
   },
   {
    "duration": 36,
    "start_time": "2021-12-17T14:38:02.063Z"
   },
   {
    "duration": 10,
    "start_time": "2021-12-17T14:38:02.118Z"
   },
   {
    "duration": 613,
    "start_time": "2021-12-17T14:38:02.131Z"
   },
   {
    "duration": 455,
    "start_time": "2021-12-17T14:38:02.747Z"
   },
   {
    "duration": 440,
    "start_time": "2021-12-17T14:38:03.205Z"
   },
   {
    "duration": 454,
    "start_time": "2021-12-17T14:38:03.648Z"
   },
   {
    "duration": 532,
    "start_time": "2021-12-17T14:38:04.105Z"
   },
   {
    "duration": 448,
    "start_time": "2021-12-17T14:38:04.640Z"
   },
   {
    "duration": 97,
    "start_time": "2021-12-17T14:38:05.091Z"
   },
   {
    "duration": 36,
    "start_time": "2021-12-17T14:38:05.191Z"
   },
   {
    "duration": 12,
    "start_time": "2021-12-17T14:38:05.231Z"
   },
   {
    "duration": 11,
    "start_time": "2021-12-17T14:38:05.246Z"
   },
   {
    "duration": 60,
    "start_time": "2021-12-17T14:38:05.261Z"
   },
   {
    "duration": 14,
    "start_time": "2021-12-17T14:38:05.324Z"
   },
   {
    "duration": 14,
    "start_time": "2021-12-17T14:38:05.341Z"
   },
   {
    "duration": 19,
    "start_time": "2021-12-17T14:38:05.358Z"
   },
   {
    "duration": 1360,
    "start_time": "2021-12-18T11:12:24.901Z"
   },
   {
    "duration": 511,
    "start_time": "2021-12-18T11:12:26.264Z"
   },
   {
    "duration": 38,
    "start_time": "2021-12-18T11:12:26.778Z"
   },
   {
    "duration": 29,
    "start_time": "2021-12-18T11:12:26.819Z"
   },
   {
    "duration": 24,
    "start_time": "2021-12-18T11:12:26.851Z"
   },
   {
    "duration": 47,
    "start_time": "2021-12-18T11:12:26.877Z"
   },
   {
    "duration": 20,
    "start_time": "2021-12-18T11:12:26.926Z"
   },
   {
    "duration": 4,
    "start_time": "2021-12-18T11:12:26.950Z"
   },
   {
    "duration": 123,
    "start_time": "2021-12-18T11:12:26.957Z"
   },
   {
    "duration": 7,
    "start_time": "2021-12-18T11:12:27.082Z"
   },
   {
    "duration": 15,
    "start_time": "2021-12-18T11:12:27.091Z"
   },
   {
    "duration": 8,
    "start_time": "2021-12-18T11:12:27.108Z"
   },
   {
    "duration": 15,
    "start_time": "2021-12-18T11:12:27.118Z"
   },
   {
    "duration": 73,
    "start_time": "2021-12-18T11:12:27.136Z"
   },
   {
    "duration": 32,
    "start_time": "2021-12-18T11:12:27.211Z"
   },
   {
    "duration": 23,
    "start_time": "2021-12-18T11:12:27.245Z"
   },
   {
    "duration": 143,
    "start_time": "2021-12-18T11:12:27.270Z"
   },
   {
    "duration": 111,
    "start_time": "2021-12-18T11:12:27.415Z"
   },
   {
    "duration": 28,
    "start_time": "2021-12-18T11:12:27.528Z"
   },
   {
    "duration": 277,
    "start_time": "2021-12-18T11:12:27.558Z"
   },
   {
    "duration": 198,
    "start_time": "2021-12-18T11:12:27.837Z"
   },
   {
    "duration": 121,
    "start_time": "2021-12-18T11:12:28.038Z"
   },
   {
    "duration": 70,
    "start_time": "2021-12-18T11:12:28.166Z"
   },
   {
    "duration": 167,
    "start_time": "2021-12-18T11:12:28.240Z"
   },
   {
    "duration": 61,
    "start_time": "2021-12-18T11:12:28.411Z"
   },
   {
    "duration": 7,
    "start_time": "2021-12-18T11:12:28.475Z"
   },
   {
    "duration": 5,
    "start_time": "2021-12-18T11:12:28.485Z"
   },
   {
    "duration": 32,
    "start_time": "2021-12-18T11:12:28.493Z"
   },
   {
    "duration": 35,
    "start_time": "2021-12-18T11:12:28.527Z"
   },
   {
    "duration": 8,
    "start_time": "2021-12-18T11:12:28.565Z"
   },
   {
    "duration": 9,
    "start_time": "2021-12-18T11:12:28.576Z"
   },
   {
    "duration": 61,
    "start_time": "2021-12-18T11:12:28.587Z"
   },
   {
    "duration": 26,
    "start_time": "2021-12-18T11:12:28.651Z"
   },
   {
    "duration": 8,
    "start_time": "2021-12-18T11:12:28.680Z"
   },
   {
    "duration": 393,
    "start_time": "2021-12-18T11:12:28.690Z"
   },
   {
    "duration": 382,
    "start_time": "2021-12-18T11:12:29.086Z"
   },
   {
    "duration": 369,
    "start_time": "2021-12-18T11:12:29.472Z"
   },
   {
    "duration": 400,
    "start_time": "2021-12-18T11:12:29.844Z"
   },
   {
    "duration": 357,
    "start_time": "2021-12-18T11:12:30.247Z"
   },
   {
    "duration": 304,
    "start_time": "2021-12-18T11:12:30.607Z"
   },
   {
    "duration": 65,
    "start_time": "2021-12-18T11:12:30.914Z"
   },
   {
    "duration": 10,
    "start_time": "2021-12-18T11:12:30.982Z"
   },
   {
    "duration": 35,
    "start_time": "2021-12-18T11:12:30.994Z"
   },
   {
    "duration": 17,
    "start_time": "2021-12-18T11:12:31.031Z"
   },
   {
    "duration": 17,
    "start_time": "2021-12-18T11:12:31.051Z"
   },
   {
    "duration": 19,
    "start_time": "2021-12-18T11:12:31.070Z"
   },
   {
    "duration": 33,
    "start_time": "2021-12-18T11:12:31.092Z"
   },
   {
    "duration": 10,
    "start_time": "2021-12-18T11:12:31.127Z"
   }
  ],
  "kernelspec": {
   "display_name": "Python 3 (ipykernel)",
   "language": "python",
   "name": "python3"
  },
  "language_info": {
   "codemirror_mode": {
    "name": "ipython",
    "version": 3
   },
   "file_extension": ".py",
   "mimetype": "text/x-python",
   "name": "python",
   "nbconvert_exporter": "python",
   "pygments_lexer": "ipython3",
   "version": "3.10.0"
  },
  "toc": {
   "base_numbering": 1,
   "nav_menu": {},
   "number_sections": true,
   "sideBar": true,
   "skip_h1_title": true,
   "title_cell": "Table of Contents",
   "title_sidebar": "Contents",
   "toc_cell": false,
   "toc_position": {},
   "toc_section_display": true,
   "toc_window_display": false
  }
 },
 "nbformat": 4,
 "nbformat_minor": 2
}
